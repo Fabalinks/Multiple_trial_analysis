{
 "cells": [
  {
   "cell_type": "markdown",
   "metadata": {},
   "source": [
    "## This codes defines a couple filters and creates a function for them which return the same array just filtered or downsampled. original code from Andrey, slightly modified with a new filter "
   ]
  },
  {
   "cell_type": "code",
   "execution_count": 1,
   "metadata": {},
   "outputs": [],
   "source": [
    "import pandas as pd \n",
    "import matplotlib.pyplot as plt \n",
    "import numpy as np\n",
    "\n",
    "root = 'C:/Users/Fabian/Desktop/Analysis/Multiple_trial_analysis/Data/Raw/'\n",
    "figures = 'C:/Users/Fabian/Desktop/Analysis/Multiple_trial_analysis/Figures/'\n",
    "\n",
    "Day86_fs2 = pd.read_csv(root+'position 20200128-160013.txt',sep=\" \", header=None)\n",
    "Day86_fs1 = pd.read_csv(root+'position 20200128-151826.txt',sep=\" \", header=None)\n",
    "\n",
    "beacon_Day86_fs2 = pd.read_csv(root+'beacons 20200128-160013.txt',sep=\" \", header=None)\n",
    "beacon_Day86_fs1 = pd.read_csv(root+'beacons 20200128-151826.txt',sep=\" \", header=None)\n"
   ]
  },
  {
   "cell_type": "markdown",
   "metadata": {},
   "source": [
    "## Andrey's code"
   ]
  },
  {
   "cell_type": "code",
   "execution_count": 2,
   "metadata": {},
   "outputs": [],
   "source": [
    "from scipy import signal    \n",
    "\n",
    "\n",
    "# init method or constructor\n",
    "# def __init__(self,traj):\n",
    "#     self.traj = Day86_fs1\n",
    "\n",
    "\n",
    "def velocity(trajectory):\n",
    "    \"\"\"\n",
    "    :return: Nx2 Matrix, d1 - time, d2 - speed\n",
    "    \"\"\"\n",
    "    diffs = np.diff(trajectory, axis=0)\n",
    "\n",
    "    dt = diffs[:, 0]\n",
    "    dx = np.sqrt(np.square(diffs[:, 1]) + np.square(diffs[:, 2]))\n",
    "    velocity=[]\n",
    "    return np.column_stack((trajectory[:-1, 0], dx/dt))\n",
    "\n",
    "def smoothed_velocity(self, ker_width=100):  # 2D array, uses self.velocity[:, 0] as time at 0th column\n",
    "    # gaussian kernel\n",
    "    kernel = signal.gaussian(ker_width + 1, std=(ker_width + 1) / 7.2)\n",
    "    velocity = self.velocity\n",
    "\n",
    "    cvd = np.convolve(velocity[:, 1], kernel, 'same') / kernel.sum()\n",
    "    return np.column_stack((self.trajectory[:-1, 0], cvd))\n",
    "\n",
    "\n",
    "def get_at_freq(traj, freq=4):  \n",
    "    \"\"\"\n",
    "    traj - time / positions for a particular trial\n",
    "    freq - same array sampled in <freq> in Hz\n",
    "    \"\"\"\n",
    "    t_start = traj[0][0]\n",
    "\n",
    "    result = []\n",
    "    samples_to_create = int(round((traj[-1][0] - traj[0][0]) * freq))\n",
    "\n",
    "    for ti in [t_start + x / float(freq) for x in range(samples_to_create)]:\n",
    "        nearest_row = traj[np.abs(traj[:, 0] - ti).argmin()]\n",
    "        result.append(nearest_row)\n",
    "\n",
    "    return np.array(result)"
   ]
  },
  {
   "cell_type": "markdown",
   "metadata": {},
   "source": [
    "### converting the original data : "
   ]
  },
  {
   "cell_type": "markdown",
   "metadata": {},
   "source": [
    "## Median filter."
   ]
  },
  {
   "cell_type": "code",
   "execution_count": 3,
   "metadata": {},
   "outputs": [
    {
     "data": {
      "text/plain": [
       "array([[1.58022118e+09, 6.50543136e-01],\n",
       "       [1.58022119e+09, 1.13756399e-01],\n",
       "       [1.58022119e+09, 1.51453727e-01],\n",
       "       ...,\n",
       "       [1.58022299e+09, 4.90413449e-02],\n",
       "       [1.58022299e+09, 1.52470076e-01],\n",
       "       [1.58022299e+09, 1.67278298e-02]])"
      ]
     },
     "execution_count": 3,
     "metadata": {},
     "output_type": "execute_result"
    }
   ],
   "source": [
    "k=velocity(np.array(Day86_fs1)) # get velocity from position data X and Y \n",
    "po5hz = signal.medfilt(k[:,1], 3) # median filter for the velocity column taking into account every near number hence 3 \n",
    "median_filter = np.column_stack((k[:,0], po5hz)) #add time column to the smoother data. \n",
    "resamples_5_median_filter= get_at_freq(median_filter,freq=5) # now resmaple at 5 hz \n",
    "\n",
    "resamples_5_median_filter # giving an array in time and ressampled and smoothened velocity "
   ]
  },
  {
   "cell_type": "markdown",
   "metadata": {},
   "source": [
    "### this makes the size of the array much smaller then before, as it is only 9000 and not 9000*5 "
   ]
  },
  {
   "cell_type": "code",
   "execution_count": 4,
   "metadata": {},
   "outputs": [
    {
     "data": {
      "text/plain": [
       "(9039, 2)"
      ]
     },
     "execution_count": 4,
     "metadata": {},
     "output_type": "execute_result"
    }
   ],
   "source": [
    "resamples_5_median_filter.shape"
   ]
  },
  {
   "cell_type": "markdown",
   "metadata": {},
   "source": [
    "### Graph resampled data  # smothened velocities. "
   ]
  },
  {
   "cell_type": "code",
   "execution_count": 5,
   "metadata": {},
   "outputs": [
    {
     "data": {
      "image/png": "[encoded data removed]",
      "text/plain": [
       "<Figure size 432x288 with 1 Axes>"
      ]
     },
     "metadata": {
      "needs_background": "light"
     },
     "output_type": "display_data"
    }
   ],
   "source": [
    "fig, ax = plt.subplots()\n",
    "ax.plot(resamples_5_median_filter[:,1])\n",
    "plt.show()"
   ]
  },
  {
   "cell_type": "markdown",
   "metadata": {},
   "source": [
    "### Make function - take animal position data, resample at a given freg, then apply median filter and return smoothened and then resampled data\n"
   ]
  },
  {
   "cell_type": "code",
   "execution_count": 6,
   "metadata": {},
   "outputs": [
    {
     "data": {
      "image/png": "[encoded data removed]",
      "text/plain": [
       "<Figure size 432x288 with 1 Axes>"
      ]
     },
     "metadata": {
      "needs_background": "light"
     },
     "output_type": "display_data"
    },
    {
     "data": {
      "text/plain": [
       "array([[1.58022118e+09, 6.50543136e-01],\n",
       "       [1.58022119e+09, 1.08953619e-01],\n",
       "       [1.58022119e+09, 1.51453727e-01],\n",
       "       ...,\n",
       "       [1.58022299e+09, 4.90413449e-02],\n",
       "       [1.58022299e+09, 8.90084650e-02],\n",
       "       [1.58022299e+09, 1.02035681e-02]])"
      ]
     },
     "execution_count": 6,
     "metadata": {},
     "output_type": "execute_result"
    }
   ],
   "source": [
    "def med_smoothen_resample_plot(position_data,freguency=5,med_filter=3):\n",
    "    \"\"\"\n",
    "      take animal position data, resample at a given freg, \n",
    "      then apply median filter and return smoothened and then resampled data\n",
    "    \"\"\"\n",
    "    fig, ax = plt.subplots()\n",
    "    k=velocity(np.array(position_data)) # get velocity from position data X and Y \n",
    "    po5hz = signal.medfilt(k[:,1], med_filter) # median filter for the velocity column taking into account every near number hence 3 \n",
    "    median_filter = np.column_stack((k[:,0], po5hz)) #add time column to the smoother data. \n",
    "    resamples_5_median_filter= get_at_freq(median_filter,freq=freguency) # now resmaple at 5 hz \n",
    "\n",
    "    ax.plot(100*resamples_5_median_filter[:,1])\n",
    "    plt.show()\n",
    "    return resamples_5_median_filter  # giving an array in time and ressampled and smoothened velocity \n",
    "\n",
    "med_smoothen_resample_plot(Day86_fs1,5,med_filter=5)\n",
    "    "
   ]
  },
  {
   "cell_type": "markdown",
   "metadata": {},
   "source": [
    "## Evaluations - likley the best to tun at 5 filter and resampled at 5 hz "
   ]
  },
  {
   "cell_type": "markdown",
   "metadata": {},
   "source": [
    "## TODO - create one making a gaussian filter function  DONE\n"
   ]
  },
  {
   "cell_type": "code",
   "execution_count": 7,
   "metadata": {},
   "outputs": [
    {
     "data": {
      "image/png": "[encoded data removed]",
      "text/plain": [
       "<Figure size 432x288 with 1 Axes>"
      ]
     },
     "metadata": {
      "needs_background": "light"
     },
     "output_type": "display_data"
    },
    {
     "data": {
      "text/plain": [
       "array([[1.58022118e+09, 6.50543136e-01],\n",
       "       [1.58022119e+09, 1.13756399e-01],\n",
       "       [1.58022119e+09, 1.51453727e-01],\n",
       "       ...,\n",
       "       [1.58022299e+09, 4.90413449e-02],\n",
       "       [1.58022299e+09, 1.52470076e-01],\n",
       "       [1.58022299e+09, 1.67278298e-02]])"
      ]
     },
     "execution_count": 7,
     "metadata": {},
     "output_type": "execute_result"
    }
   ],
   "source": [
    "def gau_smoothen_resample_plot(position_data,freguency=5,ker_width=100):\n",
    "    \"\"\"\n",
    "      take animal position data, resample at a given freg, \n",
    "      then apply gaussian filter and return smoothened and then resampled data\n",
    "    \"\"\"\n",
    "    fig, ax = plt.subplots()\n",
    "    k=velocity(np.array(position_data))# get velocity from position data X and Y \n",
    "    \n",
    "    kernel = signal.gaussian(ker_width + 1, std=(ker_width + 1) / 7.2)\n",
    "    \n",
    "    cvd = np.convolve(k[:, 1], kernel, 'same') / kernel.sum() # desribe the step\n",
    "    resamples_gaus_filter = np.column_stack((k[:,0], cvd))   #add time column to the smoother data. \n",
    "\n",
    "    resamples_5_gaus_filter= get_at_freq(resamples_gaus_filter,freq=freguency) # now resmaple at 5 hz \n",
    "\n",
    "    ax.plot(100*resamples_5_gaus_filter[:,1])\n",
    "    plt.show()\n",
    "    return resamples_5_median_filter  # giving an array in time and ressampled and smoothened velocity \n",
    "\n",
    "gau_smoothen_resample_plot(Day86_fs1,freguency=5,ker_width=100)"
   ]
  },
  {
   "cell_type": "code",
   "execution_count": 8,
   "metadata": {},
   "outputs": [
    {
     "data": {
      "image/png": "[encoded data removed]",
      "text/plain": [
       "<Figure size 432x288 with 1 Axes>"
      ]
     },
     "metadata": {
      "needs_background": "light"
     },
     "output_type": "display_data"
    },
    {
     "data": {
      "text/plain": [
       "(9039, 2)"
      ]
     },
     "execution_count": 8,
     "metadata": {},
     "output_type": "execute_result"
    }
   ],
   "source": [
    "gau_smoothen_resample_plot(Day86_fs1,freguency=10,ker_width=100).shape"
   ]
  },
  {
   "cell_type": "markdown",
   "metadata": {},
   "source": [
    "### What is better, a gaussian or a median filter? "
   ]
  },
  {
   "cell_type": "markdown",
   "metadata": {},
   "source": [
    "## It seems that Gaussian does not give large spikes - ker = 100, median at 5 is likley more precise?  "
   ]
  },
  {
   "cell_type": "markdown",
   "metadata": {},
   "source": [
    "### \n",
    "2. graph after resampling. \n",
    " need to resample the speeds, but still match with the time. \n",
    "need index to match with index of speeds. \n",
    "Need to find the nearest time to the index. \n"
   ]
  },
  {
   "cell_type": "code",
   "execution_count": 9,
   "metadata": {},
   "outputs": [
    {
     "data": {
      "text/plain": [
       "array([[1.58022118e+09, 6.50543136e-01],\n",
       "       [1.58022119e+09, 1.13756399e-01],\n",
       "       [1.58022119e+09, 1.51453727e-01],\n",
       "       ...,\n",
       "       [1.58022299e+09, 4.90413449e-02],\n",
       "       [1.58022299e+09, 1.52470076e-01],\n",
       "       [1.58022299e+09, 1.67278298e-02]])"
      ]
     },
     "execution_count": 9,
     "metadata": {},
     "output_type": "execute_result"
    }
   ],
   "source": [
    "def gau_smoothen_resample(position_data,freguency=5,ker_width=100):\n",
    "    \"\"\"\n",
    "      take animal position data, resample at a given freg, \n",
    "      then apply gaussian filter and return smoothened and then resampled data\n",
    "    \"\"\"\n",
    "    #fig, ax = plt.subplots()\n",
    "    k=velocity(np.array(position_data))# get velocity from position data X and Y \n",
    "    \n",
    "    kernel = signal.gaussian(ker_width + 1, std=(ker_width + 1) / 7.2)\n",
    "    \n",
    "    cvd = np.convolve(k[:, 1], kernel, 'same') / kernel.sum() # desribe the step\n",
    "    resamples_gaus_filter = np.column_stack((k[:,0], cvd))   #add time column to the smoother data. \n",
    "\n",
    "    resamples_5_gaus_filter= get_at_freq(resamples_gaus_filter,freq=freguency) # now resmaple at 5 hz \n",
    "\n",
    "    #ax.plot(100*resamples_5_gaus_filter[:,1])\n",
    "    #plt.show()\n",
    "    return resamples_5_median_filter  # giving an array in time and ressampled and smoothened velocity \n",
    "\n",
    "gau_smoothen_resample(Day86_fs1,freguency=5,ker_width=100)"
   ]
  },
  {
   "cell_type": "markdown",
   "metadata": {},
   "source": [
    "### Graphing from IMshow folder "
   ]
  },
  {
   "cell_type": "code",
   "execution_count": 10,
   "metadata": {},
   "outputs": [],
   "source": [
    "    \n",
    "array =  gau_smoothen_resample(Day86_fs1,freguency=10,ker_width=100)\n",
    "    "
   ]
  },
  {
   "cell_type": "code",
   "execution_count": 11,
   "metadata": {},
   "outputs": [
    {
     "data": {
      "text/plain": [
       "(9039, 2)"
      ]
     },
     "execution_count": 11,
     "metadata": {},
     "output_type": "execute_result"
    }
   ],
   "source": [
    "array.shape"
   ]
  },
  {
   "cell_type": "code",
   "execution_count": 12,
   "metadata": {},
   "outputs": [
    {
     "name": "stdout",
     "output_type": "stream",
     "text": [
      "[35, 439, 489, 630, 668, 1012, 1049, 1587, 1925, 1943, 2906, 3060, 3139, 3162, 3281, 4364, 4417, 4527, 5095, 5198, 5372, 5416, 5462, 6186, 6221, 6241, 6414, 6631, 6729, 7803, 7912, 8312, 8548, 8745, 8792]\n"
     ]
    },
    {
     "data": {
      "text/plain": [
       "<matplotlib.colorbar.Colorbar at 0xbbf0c18>"
      ]
     },
     "execution_count": 12,
     "metadata": {},
     "output_type": "execute_result"
    },
    {
     "data": {
      "image/png": "[encoded data removed]",
      "text/plain": [
       "<Figure size 432x288 with 2 Axes>"
      ]
     },
     "metadata": {
      "needs_background": "light"
     },
     "output_type": "display_data"
    }
   ],
   "source": [
    "beacon_data = beacon_Day86_fs1\n",
    "position_data = Day86_fs1\n",
    "index = []\n",
    "for i in list(np.arange(0,len(beacon_data [0]),1)):\n",
    "    index.append(np.abs(np.array(beacon_data[0][i])-(array[:,0])).argmin())  \n",
    "print (index)\n",
    "    \n",
    "fig, ax = plt.subplots()\n",
    "im = ax.imshow(array, cmap=plt.get_cmap('viridis'),aspect='auto',vmin=0, vmax=.1,interpolation='nearest')\n",
    "fig.colorbar(im)"
   ]
  },
  {
   "cell_type": "code",
   "execution_count": 13,
   "metadata": {},
   "outputs": [],
   "source": [
    "plt.imshow?"
   ]
  },
  {
   "cell_type": "code",
   "execution_count": 14,
   "metadata": {},
   "outputs": [
    {
     "name": "stdout",
     "output_type": "stream",
     "text": [
      "0.15004810640590513\n",
      "35\n",
      "0.0\n",
      "439\n",
      "0.08719175132385709\n",
      "489\n",
      "0.311954732902339\n",
      "630\n",
      "0.05037754073363871\n",
      "668\n",
      "0.02251671471020552\n",
      "1012\n",
      "0.015074448853021817\n",
      "1049\n",
      "0.07162956273046549\n",
      "1587\n",
      "0.2839310097104768\n",
      "1925\n",
      "0.08188857835600392\n",
      "1943\n",
      "0.005197962491828285\n",
      "2906\n",
      "0.01229496772362712\n",
      "3060\n",
      "0.02420587614466037\n",
      "3139\n",
      "0.13247535828881335\n",
      "3162\n",
      "0.33865286515934073\n",
      "3281\n",
      "0.18591289261570354\n",
      "4364\n",
      "0.39809802711950815\n",
      "4417\n",
      "0.01622513228601833\n",
      "4527\n",
      "0.10206135782432015\n",
      "5095\n",
      "0.05497056534846856\n",
      "5198\n",
      "0.00861000620059947\n",
      "5372\n",
      "0.16404599531374522\n",
      "5416\n",
      "0.06643604685511537\n",
      "5462\n",
      "0.003981668096757162\n",
      "6186\n",
      "0.13151486617194152\n",
      "6221\n",
      "0.1423328318260132\n",
      "6241\n",
      "0.010860868466112741\n",
      "6414\n",
      "0.03691966647791112\n",
      "6631\n",
      "0.005547382603330799\n",
      "6729\n",
      "0.22365668357211496\n",
      "7803\n",
      "0.02177365318545369\n",
      "7912\n",
      "0.06229930932474027\n",
      "8312\n",
      "0.08314006862133537\n",
      "8548\n",
      "0.005944687570237115\n",
      "8745\n",
      "0.14940602031181774\n",
      "8792\n"
     ]
    }
   ],
   "source": [
    "for i in index: \n",
    "    print(array[:,1][i])\n",
    "    print (i)"
   ]
  },
  {
   "cell_type": "code",
   "execution_count": 15,
   "metadata": {},
   "outputs": [
    {
     "name": "stdout",
     "output_type": "stream",
     "text": [
      "34\n"
     ]
    },
    {
     "data": {
      "text/plain": [
       "<matplotlib.colorbar.Colorbar at 0xd0fc0f0>"
      ]
     },
     "execution_count": 15,
     "metadata": {},
     "output_type": "execute_result"
    },
    {
     "data": {
      "image/png": "[encoded data removed]",
      "text/plain": [
       "<Figure size 432x288 with 2 Axes>"
      ]
     },
     "metadata": {
      "needs_background": "light"
     },
     "output_type": "display_data"
    }
   ],
   "source": [
    "seconds_back=2\n",
    "list_of_speed_lists=[]\n",
    "for i in index:        \n",
    "    if i <= seconds_back*100:\n",
    "        i = seconds_back*100+1\n",
    "    else:\n",
    "        list_of_speed_lists.append(array[:,1][i-(seconds_back*100):i+(seconds_back*100)])\n",
    "print (len( list_of_speed_lists))\n",
    "fig, ax = plt.subplots()\n",
    "im = ax.imshow(list_of_speed_lists, cmap=plt.get_cmap('viridis'),aspect='auto',vmin=0, vmax=.5,interpolation='nearest')\n",
    "fig.colorbar(im)"
   ]
  },
  {
   "cell_type": "markdown",
   "metadata": {},
   "source": [
    "## It worked!!! need to configure units. "
   ]
  },
  {
   "cell_type": "code",
   "execution_count": 16,
   "metadata": {},
   "outputs": [
    {
     "name": "stdout",
     "output_type": "stream",
     "text": [
      "[8333, 8333, 8333, 8333, 8333, 8333, 8333, 8333, 8333, 8333, 8333, 8333, 8333, 8333, 8333, 8333, 8333, 8333, 8333, 8333, 8333, 8333, 8333, 8333, 8333, 8333, 8333, 8333, 8333, 8333, 8333, 8333, 8333, 8333, 8333]\n"
     ]
    }
   ],
   "source": [
    "index = []\n",
    "beacon_data = beacon_Day86_fs1\n",
    "position_data = Day86_fs1\n",
    "for i in list(np.arange(0,len(beacon_data [0]),1)):\n",
    "    index.append(np.abs(np.array(beacon_data[0][i])-array[:,1]).argmin() ) #Can just exchange velocity here? \n",
    "print (index)\n",
    "# for i in list(np.arange(0,len(beacon_data [0]),1)):\n",
    "#     print (list(np.array(beacon_data[0][i])))"
   ]
  },
  {
   "cell_type": "markdown",
   "metadata": {},
   "source": [
    "## Need ot fix so I can graph downsampled data since it does not match in size. "
   ]
  },
  {
   "cell_type": "markdown",
   "metadata": {},
   "source": [
    "# Maybe the comlicated approach did not work - need ot start from simple... "
   ]
  },
  {
   "cell_type": "code",
   "execution_count": 17,
   "metadata": {},
   "outputs": [
    {
     "name": "stdout",
     "output_type": "stream",
     "text": [
      "8792\n",
      "[0.29367504 0.03928278 0.01765206 ... 0.04904134 0.15247008 0.01672783]\n",
      "25\n",
      "26\n",
      "20 seconds in session 86_fs1, with 50 max speed filter showing 35 beacons  all trials \n"
     ]
    },
    {
     "data": {
      "image/png": "[encoded data removed]",
      "text/plain": [
       "<Figure size 432x288 with 2 Axes>"
      ]
     },
     "metadata": {
      "needs_background": "light"
     },
     "output_type": "display_data"
    }
   ],
   "source": [
    "import numpy \n",
    "def Med_fill_Speed_before_beacon (session,position_data,beacon_data,max_speed=70 ,seconds_back=10, zero=-1,visible=all,height=False): \n",
    "    \"\"\"function plots a given amount of seconds before beacon reached, takes Beacon file, position file, now with a median filter also \"\"\"\n",
    "    \n",
    "    #main\n",
    "    \n",
    "    array =  gau_smoothen_resample(Day86_fs1,freguency=10,ker_width=100) \n",
    "    \n",
    "    index=[]\n",
    "    for i in list(np.arange(0,len(beacon_data [0]),1)):\n",
    "        index.append(np.abs(np.array(beacon_data[0][i])-(array[:,0])).argmin())  \n",
    "    \n",
    "    # conditionals \n",
    "   \n",
    "    if height== False:\n",
    "        num=3\n",
    "    else:\n",
    "        num=2\n",
    "\n",
    "    if visible == True:\n",
    "        index = index[::2]\n",
    "        eye='visible trials'\n",
    "    elif visible == False:\n",
    "        index = index[1::2] \n",
    "        eye = 'invisible trials'\n",
    "    else: \n",
    "        index=index\n",
    "        eye = 'all trials'    \n",
    "    \n",
    "   #Make list to graph\n",
    "    \n",
    "    list_of_speed_lists=[]\n",
    "    for i in index:        \n",
    "        if i <= seconds_back*100:\n",
    "            i = seconds_back*100+1\n",
    "        else:\n",
    "            list_of_speed_lists.append(array[:,1][i-(seconds_back*100):i+(seconds_back*100)])\n",
    "    print (i)        \n",
    "    print ( list_of_speed_lists[27])\n",
    "    print (len(list_of_speed_lists[1:26]))\n",
    "    print (len(list_of_speed_lists[1:27]))\n",
    "    #Graphing \n",
    "    \n",
    "    fig, ax = plt.subplots()\n",
    "    im = ax.imshow(list_of_speed_lists[1:26], cmap=plt.get_cmap('viridis'),aspect='auto',vmin = 0,  vmax=.5,interpolation='nearest')\n",
    "    fig.colorbar(im)\n",
    "\n",
    "    ax.set(xlabel='time (10ms)', ylabel='beacon#',title='%s Rat speed around %s beacons %s' %(session,len(index),eye))\n",
    "  \n",
    "    ax.set_alpha (alpha = .5)\n",
    "    print('%s seconds in session %s, with %s max speed filter showing %s beacons  %s '% (seconds_back*2, session, max_speed,len(index),eye))\n",
    "   \n",
    "    plt.savefig('%s_imshow_speed_%s_sec._before_and _after_%s_beacon_%s.png'%(figures,seconds_back,session,eye), dpi = 100)\n",
    "    plt.show()\n",
    "\n",
    "Med_fill_Speed_before_beacon ('86_fs1',Day86_fs1,beacon_Day86_fs1,50,zero=-1,visible=all,height=False)\n"
   ]
  },
  {
   "cell_type": "markdown",
   "metadata": {},
   "source": [
    "### For large values, np.math.factorial returns a long instead of an int. Arrays with long values are of dtype object as the cannot be stored using NumPy's types. You can re-convert the final result by\n",
    "\n",
    "WeightMesh=np.array(AyMesh*AxMesh, dtype=float)\n",
    "to have a proper float array."
   ]
  },
  {
   "cell_type": "code",
   "execution_count": 18,
   "metadata": {},
   "outputs": [
    {
     "ename": "SyntaxError",
     "evalue": "invalid syntax (<ipython-input-18-541133ad77de>, line 1)",
     "output_type": "error",
     "traceback": [
      "\u001b[1;36m  File \u001b[1;32m\"<ipython-input-18-541133ad77de>\"\u001b[1;36m, line \u001b[1;32m1\u001b[0m\n\u001b[1;33m    Can still rewrite function to work for allcases, then need oto cleanup - now works only for 1:26 but at 27 it is toom much\u001b[0m\n\u001b[1;37m            ^\u001b[0m\n\u001b[1;31mSyntaxError\u001b[0m\u001b[1;31m:\u001b[0m invalid syntax\n"
     ]
    }
   ],
   "source": [
    "Can still rewrite function to work for allcases, then need oto cleanup - now works only for 1:26 but at 27 it is toom much "
   ]
  },
  {
   "cell_type": "markdown",
   "metadata": {},
   "source": [
    "### Includes median filter, not downsampled yet. "
   ]
  },
  {
   "cell_type": "code",
   "execution_count": null,
   "metadata": {},
   "outputs": [],
   "source": [
    "import numpy \n",
    "def Speed_before_beacon (session,seconds_back,position_data,beacon_data,max_speed,zero=-1,visible=all,height=False): \n",
    "    \"\"\"function plots a given amount of seconds before beacon reached, takes Beacon file, position file, now with a median filter also \"\"\"\n",
    "    \n",
    "  \n",
    "    enum = list(np.arange(0,len(beacon_data [0]),1))\n",
    "    index=[]\n",
    "    beacon_times = np.array(beacon_data[0])\n",
    "    print(enum)\n",
    "    for i in enum:\n",
    "        index.append(np.abs(beacon_times[i]-np.array(position_data[0])).argmin() ) #Can just exchange velocity here? \n",
    "        \n",
    "    if height== False:\n",
    "        num=3\n",
    "    else:\n",
    "        num=2\n",
    "    print(index)\n",
    "    \n",
    "    time =0.2\n",
    "    k=velocity(np.array(Day86_fs1))\n",
    "    post_medfit = signal.medfilt(k[:,1], 3) # can determine the strenght of median filter here!\n",
    "    median_filter = np.column_stack((k[:,0], post_medfit))\n",
    "    speed_list = median_filter[:,1].tolist()\n",
    "    speed_list = [element * 100 for element in speed_list]# to get to cm/s speed. \n",
    "    time = numpy.arange(-seconds_back,seconds_back,time)       \n",
    "    fig, ax = plt.subplots()\n",
    "    print(len(speed_list))\n",
    "    \n",
    "    if visible == True:\n",
    "        index = index[::2]\n",
    "        eye='visible trials'\n",
    "    elif visible == False:\n",
    "        index = index[1::2] \n",
    "        eye = 'invisible trials'\n",
    "    else: \n",
    "        index=index\n",
    "        eye = 'all trials'    \n",
    "    \n",
    "    list_of_speed_lists=[]\n",
    "    for i in index:        \n",
    "        if i <= seconds_back*100:\n",
    "            i = seconds_back*100+1\n",
    "        else:\n",
    "            list_of_speed_lists.append(speed_list[i-(seconds_back*100):i+(seconds_back*100)])\n",
    "            \n",
    "        \n",
    "    print('list_of_speed_lists:',len(list_of_speed_lists))\n",
    "    array = np.array(list_of_speed_lists).reshape(len(index)+zero,seconds_back*200) # can add or delete one if indexing issue\n",
    "\n",
    "    im = ax.imshow(array, cmap=plt.get_cmap('viridis'),aspect='auto',vmin=0, vmax=max_speed,interpolation='nearest')\n",
    "    fig.colorbar(im)\n",
    "\n",
    "    ax.set(xlabel='time (10ms)', ylabel='beacon#',\n",
    "           title='%s Rat speed around %s beacons %s' %(session,len(index),eye))\n",
    "    #ax.grid()\n",
    "    #x_label_list = ['-5','-4','-3','-2','-1','0','1','2','3','4','5']\n",
    "    #ax.set_xticklabels(x_label_list)\n",
    "    ax.set_alpha (alpha = .5)\n",
    "    print('%s seconds in session %s, with %s max speed filter showing %s beacons  %s '% (seconds_back*2, session, max_speed,len(index),eye))\n",
    "   \n",
    "    plt.savefig('%s_imshow_speed_%s_sec._before_and _after_%s_beacon_%s.png'%(figures,seconds_back,session,eye), dpi = 100)\n",
    "    plt.show()\n",
    "\n",
    "Speed_before_beacon ('86_fs1',10,Day86_fs1,beacon_Day86_fs1,50,zero=-1,visible=all,height=False)\n"
   ]
  },
  {
   "cell_type": "code",
   "execution_count": null,
   "metadata": {},
   "outputs": [],
   "source": [
    "Speed_before_beacon ('86_fs1',10,Day86_fs1,beacon_Day86_fs1,50,zero=-1,visible=True,height=False)"
   ]
  },
  {
   "cell_type": "code",
   "execution_count": null,
   "metadata": {},
   "outputs": [],
   "source": [
    "Speed_before_beacon ('86_fs1',10,Day86_fs1,beacon_Day86_fs1,50,zero=0,visible=False,height=False)"
   ]
  },
  {
   "cell_type": "code",
   "execution_count": null,
   "metadata": {},
   "outputs": [],
   "source": []
  },
  {
   "cell_type": "code",
   "execution_count": null,
   "metadata": {},
   "outputs": [],
   "source": []
  },
  {
   "cell_type": "code",
   "execution_count": null,
   "metadata": {},
   "outputs": [],
   "source": []
  }
 ],
 "metadata": {
  "kernelspec": {
   "display_name": "Python 3",
   "language": "python",
   "name": "python3"
  },
  "language_info": {
   "codemirror_mode": {
    "name": "ipython",
    "version": 3
   },
   "file_extension": ".py",
   "mimetype": "text/x-python",
   "name": "python",
   "nbconvert_exporter": "python",
   "pygments_lexer": "ipython3",
   "version": "3.7.3"
  }
 },
 "nbformat": 4,
 "nbformat_minor": 2
}

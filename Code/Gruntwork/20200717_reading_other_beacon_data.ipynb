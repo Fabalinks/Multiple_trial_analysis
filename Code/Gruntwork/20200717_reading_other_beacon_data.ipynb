{
 "cells": [
  {
   "cell_type": "code",
   "execution_count": 1,
   "metadata": {},
   "outputs": [],
   "source": [
    "import math\n",
    "import pandas as pd \n",
    "import matplotlib.pyplot as plt \n",
    "import numpy as np\n",
    "#import seaborn as sns\n",
    "import matplotlib.lines as mlines\n",
    "import matplotlib.patches as mpatches\n",
    "from numpy import median\n",
    "from scipy.stats import ranksums\n",
    "from Data_analysis import *\n",
    "import numpy as np\n",
    "import scipy.stats\n",
    "\n",
    "from tqdm import tqdm_notebook as tqdm\n",
    "\n",
    "\n",
    "root = 'C:/Users/Fabian/Desktop/Analysis/Multiple_trial_analysis/Data/Raw/'\n",
    "\n",
    "\n",
    "figures = 'C:/Users/Fabian/Desktop/Analysis/Multiple_trial_analysis/Figures/'\n",
    "\n",
    "vor = 'C:/Users/Fabian/Desktop/Analysis/Multiple_trial_analysis/Data/Raw/'\n",
    "pc = 'C:/Users/Fabian/Desktop/Multiple_trial_analysis-20200712T151410Z-001/Multiple_trial_analysis/Data/Raw/'"
   ]
  },
  {
   "cell_type": "code",
   "execution_count": null,
   "metadata": {},
   "outputs": [],
   "source": [
    "Day86_fs2 = pd.read_csv(root+'position 20200128-160013.txt',sep=\" \", header=None)\n",
    "Day86_fs1 = pd.read_csv(root+'position 20200128-151826.txt',sep=\" \", header=None)\n",
    "\n",
    "beacon_Day86_fs2 = pd.read_csv(root+'beacons 20200128-160013.txt',sep=\" \", header=None)\n",
    "beacon_Day86_fs1 = pd.read_csv(root+'beacons 20200128-151826.txt',sep=\" \", header=None)\n",
    "\n",
    "beacon_data = beacon_Day86_fs1\n",
    "position_data = Day86_fs1\n",
    "\n",
    "beacons = [beacon_Day86_fs1,beacon_Day87_fs1,beacon_Day88_fs1,beacon_Day89_fs1,beacon_Day90_fs1,beacon_Day91_fs1,beacon_Day92_fs1,beacon_Day93_fs1]\n",
    "beacons2 = [beacon_Day86_fs2,beacon_Day87_fs2,beacon_Day88_fs2,beacon_Day89_fs2,beacon_Day90_fs2,beacon_Day91_fs2,beacon_Day92_fs2,beacon_Day93_fs2]\n",
    "list_of_days = [Day86_fs1,Day87_fs1,Day88_fs1,Day89_fs1,Day90_fs1,Day91_fs1,Day92_fs1,Day93_fs1]\n",
    "list_of_days2 = [Day86_fs2,Day87_fs2,Day88_fs2,Day89_fs2,Day90_fs2,Day91_fs2,Day92_fs2,Day93_fs2]\n",
    "Day_list = list_of_days+list_of_days2\n",
    "Beacon_list = beacons+beacons2\n",
    "len(Day_list)== len(Beacon_list) "
   ]
  }
 ],
 "metadata": {
  "kernelspec": {
   "display_name": "Python 3",
   "language": "python",
   "name": "python3"
  },
  "language_info": {
   "codemirror_mode": {
    "name": "ipython",
    "version": 3
   },
   "file_extension": ".py",
   "mimetype": "text/x-python",
   "name": "python",
   "nbconvert_exporter": "python",
   "pygments_lexer": "ipython3",
   "version": "3.7.3"
  }
 },
 "nbformat": 4,
 "nbformat_minor": 2
}

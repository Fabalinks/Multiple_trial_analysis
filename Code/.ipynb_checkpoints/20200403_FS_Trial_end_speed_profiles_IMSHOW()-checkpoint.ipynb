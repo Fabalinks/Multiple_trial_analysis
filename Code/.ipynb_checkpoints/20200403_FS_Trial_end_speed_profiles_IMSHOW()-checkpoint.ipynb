{
 "cells": [
  {
   "cell_type": "markdown",
   "metadata": {},
   "source": [
    "# This script is designed to graph speed profiles before approaching the beacon using imShow."
   ]
  },
  {
   "cell_type": "markdown",
   "metadata": {},
   "source": [
    "#### It should take beacons file, find time, match with position, then read however rows of position before and after and plot it. "
   ]
  },
  {
   "cell_type": "markdown",
   "metadata": {},
   "source": [
    "##### imports "
   ]
  },
  {
   "cell_type": "code",
   "execution_count": 2,
   "metadata": {},
   "outputs": [],
   "source": [
    "import pandas as pd \n",
    "import matplotlib.pyplot as plt \n",
    "import matplotlib as mpl\n",
    "import seaborn as sns\n",
    "from matplotlib.patches import Circle\n",
    "import matplotlib.tri as tri\n",
    "import numpy as np\n",
    "from scipy.spatial.transform import Rotation as R\n",
    "import math\n",
    "\n",
    "root = 'C:/Users/Fabian/Desktop/Analysis/Multiple_trial_analysis/Data/Raw/'\n",
    "figures = 'C:/Users/Fabian/Desktop/Analysis/Multiple_trial_analysis/Figures/'\n",
    "\n",
    "#Data with beacon metadata\n",
    "beacon = pd.read_csv(root+'beacons 20200128-151826.txt',sep=\" \", header=None)\n",
    "beacon2 = pd.read_csv(root+'beacons 20200128-160013.txt',sep=\" \", header=None)\n",
    "\n",
    "beacon_Day86_fs2 = pd.read_csv(root+'beacons 20200128-160013.txt',sep=\" \", header=None)\n",
    "beacon_Day86_fs1 = pd.read_csv(root+'beacons 20200128-151826.txt',sep=\" \", header=None)\n",
    "\n",
    "beacon_Day87_fs2 = pd.read_csv(root+'beacons 20200129-153534.txt',sep=\" \", header=None)\n",
    "beacon_Day87_fs1 = pd.read_csv(root+'beacons 20200129-161806.txt',sep=\" \", header=None)\n",
    "\n",
    "beacon_Day88_fs2 = pd.read_csv(root+'beacons 20200130-102126.txt',sep=\" \", header=None)\n",
    "beacon_Day88_fs1 = pd.read_csv(root+'beacons 20200130-111741.txt',sep=\" \", header=None)\n",
    "\n",
    "beacon_Day89_fs2 = pd.read_csv(root+'beacons 20200130-161126.txt',sep=\" \", header=None)\n",
    "beacon_Day89_fs1 = pd.read_csv(root+'beacons 20200130-151829.txt',sep=\" \", header=None)\n",
    "\n",
    "beacon_Day90_fs2 = pd.read_csv(root+'beacons 20200203-154441.txt',sep=\" \", header=None)\n",
    "beacon_Day90_fs1 = pd.read_csv(root+'beacons 20200203-145842.txt',sep=\" \", header=None)\n",
    "\n",
    "beacon_Day91_fs2 = pd.read_csv(root+'beacons 20200204-125552.txt',sep=\" \", header=None)\n",
    "beacon_Day91_fs1 = pd.read_csv(root+'beacons 20200204-133905.txt',sep=\" \", header=None)\n",
    "\n",
    "beacon_Day92_fs2 = pd.read_csv(root+'beacons 20200205-143220.txt',sep=\" \", header=None)\n",
    "beacon_Day92_fs1 = pd.read_csv(root+'beacons 20200205-151052.txt',sep=\" \", header=None)\n",
    "\n",
    "beacon_Day93_fs2 = pd.read_csv(root+'beacons 20200206-133529.txt',sep=\" \", header=None)\n",
    "beacon_Day93_fs1 = pd.read_csv(root+'beacons 20200206-125706.txt',sep=\" \", header=None)\n",
    "\n",
    "Day46_fs1 = pd.read_csv(root+'position 20190923-174441.txt',sep=\" \", header=None)\n",
    "Day46_fs2 = pd.read_csv(root+'position 20190923-171112.txt',sep=\" \", header=None)\n",
    "Day47_fs1 = pd.read_csv(root+'position 20191001-112411.txt',sep=\" \", header=None)\n",
    "Day47_fs2 = pd.read_csv(root+'position 20191001-115127.txt',sep=\" \", header=None)\n",
    "Day48_fs1 = pd.read_csv(root+'position 20191002-115000.txt',sep=\" \", header=None)\n",
    "Day48_fs2 = pd.read_csv(root+'position 20191002-111038.txt',sep=\" \", header=None)\n",
    "Day51_fs1 = pd.read_csv(root+'position 20191106-170809.txt',sep=\" \", header=None)\n",
    "Day52_fs2 = pd.read_csv(root+'position 20191107-174215.txt',sep=\" \", header=None)\n",
    "Day52_fs1 = pd.read_csv(root+'position 20191107-183857.txt',sep=\" \", header=None)\n",
    "Day53_fs2 = pd.read_csv(root+'position 20191108-142321.txt',sep=\" \", header=None)\n",
    "Day53_fs1 = pd.read_csv(root+'position 20191108-145125.txt',sep=\" \", header=None)\n",
    "Day66_fs1 = pd.read_csv(root+'position 20191118-161325.txt',sep=\" \", header=None)\n",
    "Day66_fs2 = pd.read_csv(root+'position 20191118-171209.txt',sep=\" \", header=None)\n",
    "Day72_fs1 = pd.read_csv(root+'position 20191127-122008.txt',sep=\" \", header=None)\n",
    "Day72_fs2 = pd.read_csv(root+'position 20191127-132223.txt',sep=\" \", header=None)\n",
    "\n",
    "\n",
    "Day79_fs2 = pd.read_csv(root+'position 20200121-154004.txt',sep=\" \", header=None)\n",
    "Day79_fs1 = pd.read_csv(root+'position 20200121-161359.txt',sep=\" \", header=None)\n",
    "\n",
    "Day80_fs2 = pd.read_csv(root+'position 20200122-141738.txt',sep=\" \", header=None)\n",
    "Day80_fs1 = pd.read_csv(root+'position 20200122-133022.txt',sep=\" \", header=None)\n",
    "\n",
    "Day81_fs2 = pd.read_csv(root+'position 20200123-141930.txt',sep=\" \", header=None)\n",
    "Day81_fs1 = pd.read_csv(root+'position 20200123-150059.txt',sep=\" \", header=None)\n",
    "\n",
    "Day82_fs2 = pd.read_csv(root+'position 20200124-151642.txt',sep=\" \", header=None)\n",
    "Day82_fs1 = pd.read_csv(root+'position 20200124-160826.txt',sep=\" \", header=None)\n",
    "\n",
    "Day83_fs2 = pd.read_csv(root+'position 20200126-183810.txt',sep=\" \", header=None)\n",
    "Day83_fs1 = pd.read_csv(root+'position 20200126-180200.txt',sep=\" \", header=None)\n",
    "\n",
    "Day84_fs2 = pd.read_csv(root+'position 20200127-205615.txt',sep=\" \", header=None)\n",
    "Day84_fs1 = pd.read_csv(root+'position 20200127-155645.txt',sep=\" \", header=None)\n",
    "\n",
    "Day85_fs2 = pd.read_csv(root+'position 20200128-112255.txt',sep=\" \", header=None)\n",
    "Day85_fs1 = pd.read_csv(root+'position 20200128-104637.txt',sep=\" \", header=None)\n",
    "\n",
    "Day86_fs2 = pd.read_csv(root+'position 20200128-160013.txt',sep=\" \", header=None)\n",
    "Day86_fs1 = pd.read_csv(root+'position 20200128-151826.txt',sep=\" \", header=None)\n",
    "\n",
    "Day87_fs2 = pd.read_csv(root+'position 20200129-153534.txt',sep=\" \", header=None)\n",
    "Day87_fs1 = pd.read_csv(root+'position 20200129-161806.txt',sep=\" \", header=None)\n",
    "\n",
    "Day88_fs2 = pd.read_csv(root+'position 20200130-102126.txt',sep=\" \", header=None)\n",
    "Day88_fs1 = pd.read_csv(root+'position 20200130-111741.txt',sep=\" \", header=None)\n",
    "\n",
    "Day89_fs2 = pd.read_csv(root+'position 20200130-161126.txt',sep=\" \", header=None)\n",
    "Day89_fs1 = pd.read_csv(root+'position 20200130-151829.txt',sep=\" \", header=None)\n",
    "\n",
    "Day90_fs2 = pd.read_csv(root+'position 20200203-154441.txt',sep=\" \", header=None)\n",
    "Day90_fs1 = pd.read_csv(root+'position 20200203-145842.txt',sep=\" \", header=None)\n",
    "\n",
    "Day91_fs2 = pd.read_csv(root+'position 20200204-125552.txt',sep=\" \", header=None)\n",
    "Day91_fs1 = pd.read_csv(root+'position 20200204-133905.txt',sep=\" \", header=None)\n",
    "\n",
    "Day92_fs2 = pd.read_csv(root+'position 20200205-143220.txt',sep=\" \", header=None)\n",
    "Day92_fs1 = pd.read_csv(root+'position 20200205-151052.txt',sep=\" \", header=None)\n",
    "\n",
    "Day93_fs2 = pd.read_csv(root+'position 20200206-133529.txt',sep=\" \", header=None)\n",
    "Day93_fs1 = pd.read_csv(root+'position 20200206-125706.txt',sep=\" \", header=None)\n"
   ]
  },
  {
   "cell_type": "markdown",
   "metadata": {},
   "source": [
    "## now need to add a function which takes time from beacon and matches it with position information in position "
   ]
  },
  {
   "cell_type": "markdown",
   "metadata": {},
   "source": [
    "## Get speed list! "
   ]
  },
  {
   "cell_type": "code",
   "execution_count": 3,
   "metadata": {},
   "outputs": [
    {
     "data": {
      "text/plain": [
       "array([1.28241654, 1.3487948 , 1.3219816 , ..., 0.01766144, 0.02376236,\n",
       "       0.02668777])"
      ]
     },
     "execution_count": 3,
     "metadata": {},
     "output_type": "execute_result"
    }
   ],
   "source": [
    "import numpy\n",
    "\n",
    "time =  0.01\n",
    "\n",
    "def calculateSpeed_list(x,y,time): \n",
    "    travel=0\n",
    "    speed=[] \n",
    "    for i in range(len(y)-1):\n",
    "        dist = math.sqrt((x[0+i] - x[1+i])**2 + (y[0+i] - y[1+i])**2)/time\n",
    "        speed.append(dist)   \n",
    "    return (speed)\n",
    "\n",
    "speed_list = calculateSpeed_list(Day86_fs1[1],Day86_fs1[3],time)\n",
    "speed_list=np.array(speed_list)\n",
    "speed_list\n"
   ]
  },
  {
   "cell_type": "markdown",
   "metadata": {},
   "source": [
    "## Freguency 100hz"
   ]
  },
  {
   "cell_type": "code",
   "execution_count": 6,
   "metadata": {},
   "outputs": [
    {
     "data": {
      "text/plain": [
       "(107974,)"
      ]
     },
     "execution_count": 6,
     "metadata": {},
     "output_type": "execute_result"
    }
   ],
   "source": [
    "speed_list.shape"
   ]
  },
  {
   "cell_type": "code",
   "execution_count": 7,
   "metadata": {},
   "outputs": [
    {
     "name": "stdout",
     "output_type": "stream",
     "text": [
      "20 seconds in session 86_fs1, with 2 max speed filter showing 17 beacons  invisible trials \n"
     ]
    },
    {
     "ename": "MemoryError",
     "evalue": "In RendererAgg: Out of memory",
     "output_type": "error",
     "traceback": [
      "\u001b[1;31m---------------------------------------------------------------------------\u001b[0m",
      "\u001b[1;31mMemoryError\u001b[0m                               Traceback (most recent call last)",
      "\u001b[1;32m<ipython-input-7-f04601fa4228>\u001b[0m in \u001b[0;36m<module>\u001b[1;34m\u001b[0m\n\u001b[0;32m     62\u001b[0m     \u001b[0mplt\u001b[0m\u001b[1;33m.\u001b[0m\u001b[0mshow\u001b[0m\u001b[1;33m(\u001b[0m\u001b[1;33m)\u001b[0m\u001b[1;33m\u001b[0m\u001b[1;33m\u001b[0m\u001b[0m\n\u001b[0;32m     63\u001b[0m \u001b[1;33m\u001b[0m\u001b[0m\n\u001b[1;32m---> 64\u001b[1;33m \u001b[0mSpeed_before_beacon\u001b[0m \u001b[1;33m(\u001b[0m\u001b[1;34m'86_fs1'\u001b[0m\u001b[1;33m,\u001b[0m\u001b[1;36m10\u001b[0m\u001b[1;33m,\u001b[0m\u001b[0mDay86_fs1\u001b[0m\u001b[1;33m,\u001b[0m\u001b[0mbeacon_Day86_fs1\u001b[0m\u001b[1;33m,\u001b[0m\u001b[1;36m2\u001b[0m\u001b[1;33m,\u001b[0m\u001b[0mzero\u001b[0m\u001b[1;33m=\u001b[0m\u001b[1;36m0\u001b[0m\u001b[1;33m,\u001b[0m\u001b[0mvisible\u001b[0m\u001b[1;33m=\u001b[0m\u001b[1;32mFalse\u001b[0m\u001b[1;33m,\u001b[0m\u001b[0mheight\u001b[0m\u001b[1;33m=\u001b[0m\u001b[1;32mFalse\u001b[0m\u001b[1;33m)\u001b[0m\u001b[1;33m\u001b[0m\u001b[1;33m\u001b[0m\u001b[0m\n\u001b[0m",
      "\u001b[1;32m<ipython-input-7-f04601fa4228>\u001b[0m in \u001b[0;36mSpeed_before_beacon\u001b[1;34m(session, seconds_back, position_data, beacon_data, max_speed, zero, visible, height)\u001b[0m\n\u001b[0;32m     59\u001b[0m     \u001b[0mprint\u001b[0m\u001b[1;33m(\u001b[0m\u001b[1;34m'%s seconds in session %s, with %s max speed filter showing %s beacons  %s '\u001b[0m\u001b[1;33m%\u001b[0m \u001b[1;33m(\u001b[0m\u001b[0mseconds_back\u001b[0m\u001b[1;33m*\u001b[0m\u001b[1;36m2\u001b[0m\u001b[1;33m,\u001b[0m \u001b[0msession\u001b[0m\u001b[1;33m,\u001b[0m \u001b[0mmax_speed\u001b[0m\u001b[1;33m,\u001b[0m\u001b[0mlen\u001b[0m\u001b[1;33m(\u001b[0m\u001b[0mindex\u001b[0m\u001b[1;33m)\u001b[0m\u001b[1;33m,\u001b[0m\u001b[0meye\u001b[0m\u001b[1;33m)\u001b[0m\u001b[1;33m)\u001b[0m\u001b[1;33m\u001b[0m\u001b[1;33m\u001b[0m\u001b[0m\n\u001b[0;32m     60\u001b[0m \u001b[1;33m\u001b[0m\u001b[0m\n\u001b[1;32m---> 61\u001b[1;33m     \u001b[0mplt\u001b[0m\u001b[1;33m.\u001b[0m\u001b[0msavefig\u001b[0m\u001b[1;33m(\u001b[0m\u001b[1;34m'%s_imshow_speed_%s_sec._before_and _after_%s_beacon_%s.png'\u001b[0m\u001b[1;33m%\u001b[0m\u001b[1;33m(\u001b[0m\u001b[0mfigures\u001b[0m\u001b[1;33m,\u001b[0m\u001b[0mseconds_back\u001b[0m\u001b[1;33m,\u001b[0m\u001b[0msession\u001b[0m\u001b[1;33m,\u001b[0m\u001b[0meye\u001b[0m\u001b[1;33m)\u001b[0m\u001b[1;33m,\u001b[0m \u001b[0mdpi\u001b[0m \u001b[1;33m=\u001b[0m \u001b[1;36m1000\u001b[0m\u001b[1;33m)\u001b[0m\u001b[1;33m\u001b[0m\u001b[1;33m\u001b[0m\u001b[0m\n\u001b[0m\u001b[0;32m     62\u001b[0m     \u001b[0mplt\u001b[0m\u001b[1;33m.\u001b[0m\u001b[0mshow\u001b[0m\u001b[1;33m(\u001b[0m\u001b[1;33m)\u001b[0m\u001b[1;33m\u001b[0m\u001b[1;33m\u001b[0m\u001b[0m\n\u001b[0;32m     63\u001b[0m \u001b[1;33m\u001b[0m\u001b[0m\n",
      "\u001b[1;32mD:\\Software\\anaconda\\lib\\site-packages\\matplotlib\\pyplot.py\u001b[0m in \u001b[0;36msavefig\u001b[1;34m(*args, **kwargs)\u001b[0m\n\u001b[0;32m    687\u001b[0m \u001b[1;32mdef\u001b[0m \u001b[0msavefig\u001b[0m\u001b[1;33m(\u001b[0m\u001b[1;33m*\u001b[0m\u001b[0margs\u001b[0m\u001b[1;33m,\u001b[0m \u001b[1;33m**\u001b[0m\u001b[0mkwargs\u001b[0m\u001b[1;33m)\u001b[0m\u001b[1;33m:\u001b[0m\u001b[1;33m\u001b[0m\u001b[1;33m\u001b[0m\u001b[0m\n\u001b[0;32m    688\u001b[0m     \u001b[0mfig\u001b[0m \u001b[1;33m=\u001b[0m \u001b[0mgcf\u001b[0m\u001b[1;33m(\u001b[0m\u001b[1;33m)\u001b[0m\u001b[1;33m\u001b[0m\u001b[1;33m\u001b[0m\u001b[0m\n\u001b[1;32m--> 689\u001b[1;33m     \u001b[0mres\u001b[0m \u001b[1;33m=\u001b[0m \u001b[0mfig\u001b[0m\u001b[1;33m.\u001b[0m\u001b[0msavefig\u001b[0m\u001b[1;33m(\u001b[0m\u001b[1;33m*\u001b[0m\u001b[0margs\u001b[0m\u001b[1;33m,\u001b[0m \u001b[1;33m**\u001b[0m\u001b[0mkwargs\u001b[0m\u001b[1;33m)\u001b[0m\u001b[1;33m\u001b[0m\u001b[1;33m\u001b[0m\u001b[0m\n\u001b[0m\u001b[0;32m    690\u001b[0m     \u001b[0mfig\u001b[0m\u001b[1;33m.\u001b[0m\u001b[0mcanvas\u001b[0m\u001b[1;33m.\u001b[0m\u001b[0mdraw_idle\u001b[0m\u001b[1;33m(\u001b[0m\u001b[1;33m)\u001b[0m   \u001b[1;31m# need this if 'transparent=True' to reset colors\u001b[0m\u001b[1;33m\u001b[0m\u001b[1;33m\u001b[0m\u001b[0m\n\u001b[0;32m    691\u001b[0m     \u001b[1;32mreturn\u001b[0m \u001b[0mres\u001b[0m\u001b[1;33m\u001b[0m\u001b[1;33m\u001b[0m\u001b[0m\n",
      "\u001b[1;32mD:\\Software\\anaconda\\lib\\site-packages\\matplotlib\\figure.py\u001b[0m in \u001b[0;36msavefig\u001b[1;34m(self, fname, frameon, transparent, **kwargs)\u001b[0m\n\u001b[0;32m   2092\u001b[0m             \u001b[0mself\u001b[0m\u001b[1;33m.\u001b[0m\u001b[0mset_frameon\u001b[0m\u001b[1;33m(\u001b[0m\u001b[0mframeon\u001b[0m\u001b[1;33m)\u001b[0m\u001b[1;33m\u001b[0m\u001b[1;33m\u001b[0m\u001b[0m\n\u001b[0;32m   2093\u001b[0m \u001b[1;33m\u001b[0m\u001b[0m\n\u001b[1;32m-> 2094\u001b[1;33m         \u001b[0mself\u001b[0m\u001b[1;33m.\u001b[0m\u001b[0mcanvas\u001b[0m\u001b[1;33m.\u001b[0m\u001b[0mprint_figure\u001b[0m\u001b[1;33m(\u001b[0m\u001b[0mfname\u001b[0m\u001b[1;33m,\u001b[0m \u001b[1;33m**\u001b[0m\u001b[0mkwargs\u001b[0m\u001b[1;33m)\u001b[0m\u001b[1;33m\u001b[0m\u001b[1;33m\u001b[0m\u001b[0m\n\u001b[0m\u001b[0;32m   2095\u001b[0m \u001b[1;33m\u001b[0m\u001b[0m\n\u001b[0;32m   2096\u001b[0m         \u001b[1;32mif\u001b[0m \u001b[0mframeon\u001b[0m\u001b[1;33m:\u001b[0m\u001b[1;33m\u001b[0m\u001b[1;33m\u001b[0m\u001b[0m\n",
      "\u001b[1;32mD:\\Software\\anaconda\\lib\\site-packages\\matplotlib\\backend_bases.py\u001b[0m in \u001b[0;36mprint_figure\u001b[1;34m(self, filename, dpi, facecolor, edgecolor, orientation, format, bbox_inches, **kwargs)\u001b[0m\n\u001b[0;32m   2073\u001b[0m                     \u001b[0morientation\u001b[0m\u001b[1;33m=\u001b[0m\u001b[0morientation\u001b[0m\u001b[1;33m,\u001b[0m\u001b[1;33m\u001b[0m\u001b[1;33m\u001b[0m\u001b[0m\n\u001b[0;32m   2074\u001b[0m                     \u001b[0mbbox_inches_restore\u001b[0m\u001b[1;33m=\u001b[0m\u001b[0m_bbox_inches_restore\u001b[0m\u001b[1;33m,\u001b[0m\u001b[1;33m\u001b[0m\u001b[1;33m\u001b[0m\u001b[0m\n\u001b[1;32m-> 2075\u001b[1;33m                     **kwargs)\n\u001b[0m\u001b[0;32m   2076\u001b[0m             \u001b[1;32mfinally\u001b[0m\u001b[1;33m:\u001b[0m\u001b[1;33m\u001b[0m\u001b[1;33m\u001b[0m\u001b[0m\n\u001b[0;32m   2077\u001b[0m                 \u001b[1;32mif\u001b[0m \u001b[0mbbox_inches\u001b[0m \u001b[1;32mand\u001b[0m \u001b[0mrestore_bbox\u001b[0m\u001b[1;33m:\u001b[0m\u001b[1;33m\u001b[0m\u001b[1;33m\u001b[0m\u001b[0m\n",
      "\u001b[1;32mD:\\Software\\anaconda\\lib\\site-packages\\matplotlib\\backends\\backend_agg.py\u001b[0m in \u001b[0;36mprint_png\u001b[1;34m(self, filename_or_obj, *args, **kwargs)\u001b[0m\n\u001b[0;32m    508\u001b[0m \u001b[1;33m\u001b[0m\u001b[0m\n\u001b[0;32m    509\u001b[0m         \"\"\"\n\u001b[1;32m--> 510\u001b[1;33m         \u001b[0mFigureCanvasAgg\u001b[0m\u001b[1;33m.\u001b[0m\u001b[0mdraw\u001b[0m\u001b[1;33m(\u001b[0m\u001b[0mself\u001b[0m\u001b[1;33m)\u001b[0m\u001b[1;33m\u001b[0m\u001b[1;33m\u001b[0m\u001b[0m\n\u001b[0m\u001b[0;32m    511\u001b[0m         \u001b[0mrenderer\u001b[0m \u001b[1;33m=\u001b[0m \u001b[0mself\u001b[0m\u001b[1;33m.\u001b[0m\u001b[0mget_renderer\u001b[0m\u001b[1;33m(\u001b[0m\u001b[1;33m)\u001b[0m\u001b[1;33m\u001b[0m\u001b[1;33m\u001b[0m\u001b[0m\n\u001b[0;32m    512\u001b[0m \u001b[1;33m\u001b[0m\u001b[0m\n",
      "\u001b[1;32mD:\\Software\\anaconda\\lib\\site-packages\\matplotlib\\backends\\backend_agg.py\u001b[0m in \u001b[0;36mdraw\u001b[1;34m(self)\u001b[0m\n\u001b[0;32m    394\u001b[0m         \u001b[0mDraw\u001b[0m \u001b[0mthe\u001b[0m \u001b[0mfigure\u001b[0m \u001b[0musing\u001b[0m \u001b[0mthe\u001b[0m \u001b[0mrenderer\u001b[0m\u001b[1;33m.\u001b[0m\u001b[1;33m\u001b[0m\u001b[1;33m\u001b[0m\u001b[0m\n\u001b[0;32m    395\u001b[0m         \"\"\"\n\u001b[1;32m--> 396\u001b[1;33m         \u001b[0mself\u001b[0m\u001b[1;33m.\u001b[0m\u001b[0mrenderer\u001b[0m \u001b[1;33m=\u001b[0m \u001b[0mself\u001b[0m\u001b[1;33m.\u001b[0m\u001b[0mget_renderer\u001b[0m\u001b[1;33m(\u001b[0m\u001b[0mcleared\u001b[0m\u001b[1;33m=\u001b[0m\u001b[1;32mTrue\u001b[0m\u001b[1;33m)\u001b[0m\u001b[1;33m\u001b[0m\u001b[1;33m\u001b[0m\u001b[0m\n\u001b[0m\u001b[0;32m    397\u001b[0m         \u001b[1;31m# acquire a lock on the shared font cache\u001b[0m\u001b[1;33m\u001b[0m\u001b[1;33m\u001b[0m\u001b[1;33m\u001b[0m\u001b[0m\n\u001b[0;32m    398\u001b[0m         \u001b[0mRendererAgg\u001b[0m\u001b[1;33m.\u001b[0m\u001b[0mlock\u001b[0m\u001b[1;33m.\u001b[0m\u001b[0macquire\u001b[0m\u001b[1;33m(\u001b[0m\u001b[1;33m)\u001b[0m\u001b[1;33m\u001b[0m\u001b[1;33m\u001b[0m\u001b[0m\n",
      "\u001b[1;32mD:\\Software\\anaconda\\lib\\site-packages\\matplotlib\\backends\\backend_agg.py\u001b[0m in \u001b[0;36mget_renderer\u001b[1;34m(self, cleared)\u001b[0m\n\u001b[0;32m    415\u001b[0m \u001b[1;33m\u001b[0m\u001b[0m\n\u001b[0;32m    416\u001b[0m         \u001b[1;32mif\u001b[0m \u001b[0mneed_new_renderer\u001b[0m\u001b[1;33m:\u001b[0m\u001b[1;33m\u001b[0m\u001b[1;33m\u001b[0m\u001b[0m\n\u001b[1;32m--> 417\u001b[1;33m             \u001b[0mself\u001b[0m\u001b[1;33m.\u001b[0m\u001b[0mrenderer\u001b[0m \u001b[1;33m=\u001b[0m \u001b[0mRendererAgg\u001b[0m\u001b[1;33m(\u001b[0m\u001b[0mw\u001b[0m\u001b[1;33m,\u001b[0m \u001b[0mh\u001b[0m\u001b[1;33m,\u001b[0m \u001b[0mself\u001b[0m\u001b[1;33m.\u001b[0m\u001b[0mfigure\u001b[0m\u001b[1;33m.\u001b[0m\u001b[0mdpi\u001b[0m\u001b[1;33m)\u001b[0m\u001b[1;33m\u001b[0m\u001b[1;33m\u001b[0m\u001b[0m\n\u001b[0m\u001b[0;32m    418\u001b[0m             \u001b[0mself\u001b[0m\u001b[1;33m.\u001b[0m\u001b[0m_lastKey\u001b[0m \u001b[1;33m=\u001b[0m \u001b[0mkey\u001b[0m\u001b[1;33m\u001b[0m\u001b[1;33m\u001b[0m\u001b[0m\n\u001b[0;32m    419\u001b[0m         \u001b[1;32melif\u001b[0m \u001b[0mcleared\u001b[0m\u001b[1;33m:\u001b[0m\u001b[1;33m\u001b[0m\u001b[1;33m\u001b[0m\u001b[0m\n",
      "\u001b[1;32mD:\\Software\\anaconda\\lib\\site-packages\\matplotlib\\backends\\backend_agg.py\u001b[0m in \u001b[0;36m__init__\u001b[1;34m(self, width, height, dpi)\u001b[0m\n\u001b[0;32m     85\u001b[0m         \u001b[0mself\u001b[0m\u001b[1;33m.\u001b[0m\u001b[0mwidth\u001b[0m \u001b[1;33m=\u001b[0m \u001b[0mwidth\u001b[0m\u001b[1;33m\u001b[0m\u001b[1;33m\u001b[0m\u001b[0m\n\u001b[0;32m     86\u001b[0m         \u001b[0mself\u001b[0m\u001b[1;33m.\u001b[0m\u001b[0mheight\u001b[0m \u001b[1;33m=\u001b[0m \u001b[0mheight\u001b[0m\u001b[1;33m\u001b[0m\u001b[1;33m\u001b[0m\u001b[0m\n\u001b[1;32m---> 87\u001b[1;33m         \u001b[0mself\u001b[0m\u001b[1;33m.\u001b[0m\u001b[0m_renderer\u001b[0m \u001b[1;33m=\u001b[0m \u001b[0m_RendererAgg\u001b[0m\u001b[1;33m(\u001b[0m\u001b[0mint\u001b[0m\u001b[1;33m(\u001b[0m\u001b[0mwidth\u001b[0m\u001b[1;33m)\u001b[0m\u001b[1;33m,\u001b[0m \u001b[0mint\u001b[0m\u001b[1;33m(\u001b[0m\u001b[0mheight\u001b[0m\u001b[1;33m)\u001b[0m\u001b[1;33m,\u001b[0m \u001b[0mdpi\u001b[0m\u001b[1;33m)\u001b[0m\u001b[1;33m\u001b[0m\u001b[1;33m\u001b[0m\u001b[0m\n\u001b[0m\u001b[0;32m     88\u001b[0m         \u001b[0mself\u001b[0m\u001b[1;33m.\u001b[0m\u001b[0m_filter_renderers\u001b[0m \u001b[1;33m=\u001b[0m \u001b[1;33m[\u001b[0m\u001b[1;33m]\u001b[0m\u001b[1;33m\u001b[0m\u001b[1;33m\u001b[0m\u001b[0m\n\u001b[0;32m     89\u001b[0m \u001b[1;33m\u001b[0m\u001b[0m\n",
      "\u001b[1;31mMemoryError\u001b[0m: In RendererAgg: Out of memory"
     ]
    },
    {
     "data": {
      "image/png": "[encoded data removed]",
      "text/plain": [
       "<Figure size 432x288 with 2 Axes>"
      ]
     },
     "metadata": {
      "needs_background": "light"
     },
     "output_type": "display_data"
    }
   ],
   "source": [
    "\n",
    "\n",
    "def Speed_before_beacon (session,seconds_back,position_data,beacon_data,max_speed,zero=-1,visible=all,height=False): \n",
    "    \"\"\"function plots a given amount of seconds before beacon reached, takes Beacon file, position file, ceiling on speed for filtering \"\"\"\n",
    "    \n",
    "    # still \n",
    "    time_since_list =((np.array(beacon_data [0]))-(np.array(position_data[0]))[0])    \n",
    "    enum = list(np.arange(0,len(list(time_since_list)),1))\n",
    "    index=[]\n",
    "    beacon_times = np.array(beacon_data[0])\n",
    "  \n",
    "    \n",
    "    for i in enum:\n",
    "        index.append(np.abs(beacon_times[i]-np.array(position_data[0])).argmin() )\n",
    "        \n",
    "    if height== False:\n",
    "        num=3\n",
    "    else:\n",
    "        num=2\n",
    "        \n",
    "    \n",
    "    time =0.01\n",
    "    speed_list = calculateSpeed_list(position_data[1],position_data[num],time)\n",
    "    speed_list = [element * 100 for element in speed_list] # to get to cm/s speed. \n",
    "    time = numpy.arange(-seconds_back,seconds_back,.01)       \n",
    "    fig, ax = plt.subplots()\n",
    "    \n",
    "    # involve gaussian smoothening. \n",
    "    if visible == True:\n",
    "        index = index[::2]\n",
    "        eye='visible trials'\n",
    "    elif visible == False:\n",
    "        index = index[1::2] \n",
    "        eye = 'invisible trials'\n",
    "    else: \n",
    "        index=index\n",
    "        eye = 'all trials'    \n",
    "    \n",
    "    list_of_speed_lists=[]\n",
    "    for i in index:        \n",
    "        if i <= seconds_back*100:\n",
    "            i = seconds_back*100+1\n",
    "        else:\n",
    "            list_of_speed_lists.append(speed_list[i-(seconds_back*100):i+(seconds_back*100)])\n",
    "            \n",
    "        \n",
    "\n",
    "    array = np.array(list_of_speed_lists).reshape(len(index)+zero,seconds_back*200) # can add or delete one if indexing issue\n",
    "\n",
    "    im = ax.imshow(array, cmap=plt.get_cmap('viridis'),aspect='auto',vmin=0, vmax=max_speed,)\n",
    "    fig.colorbar(im)\n",
    "\n",
    "    ax.set(xlabel='time (10ms)', ylabel='beacon#',\n",
    "           title='Rat speed around %s beacons %s' %(len(index),eye))\n",
    "    #ax.grid()\n",
    "    x_label_list = ['-5','-4','-3','-2','-1','0','1','2','3','4','5']\n",
    "    ax.set_xticklabels(x_label_list)\n",
    "    ax.set_alpha (alpha = .5)\n",
    "    print('%s seconds in session %s, with %s max speed filter showing %s beacons  %s '% (seconds_back*2, session, max_speed,len(index),eye))\n",
    "   \n",
    "    plt.savefig('%s_imshow_speed_%s_sec._before_and _after_%s_beacon_%s.png'%(figures,seconds_back,session,eye), dpi = 100)\n",
    "    plt.show()\n",
    "\n",
    "Speed_before_beacon ('86_fs1',10,Day86_fs1,beacon_Day86_fs1,2,zero=0,visible=False,height=False)"
   ]
  },
  {
   "cell_type": "code",
   "execution_count": null,
   "metadata": {},
   "outputs": [],
   "source": [
    "Speed_before_beacon ('86_fs2',10,Day86_fs2,beacon_Day86_fs2,2,visible=all,height=False)"
   ]
  },
  {
   "cell_type": "code",
   "execution_count": null,
   "metadata": {},
   "outputs": [],
   "source": [
    "speed_list.shape"
   ]
  },
  {
   "cell_type": "code",
   "execution_count": null,
   "metadata": {},
   "outputs": [],
   "source": [
    "Speed_before_beacon ('87_fs2',10,Day87_fs2,beacon_Day87_fs2,2,visible=all,height=False)"
   ]
  },
  {
   "cell_type": "code",
   "execution_count": null,
   "metadata": {},
   "outputs": [],
   "source": [
    "Speed_before_beacon ('87_fs1',10,Day86_fs1,beacon_Day86_fs1,2,visible=all,height=False)"
   ]
  },
  {
   "cell_type": "code",
   "execution_count": null,
   "metadata": {},
   "outputs": [],
   "source": [
    "Speed_before_beacon ('90_fs1',10,Day90_fs1,beacon_Day90_fs1,2,visible=all,height=False)"
   ]
  },
  {
   "cell_type": "code",
   "execution_count": null,
   "metadata": {},
   "outputs": [],
   "source": [
    "Speed_before_beacon ('90_fs2',10,Day90_fs2,beacon_Day90_fs2,2,zero=0,visible=all,height=False)"
   ]
  },
  {
   "cell_type": "code",
   "execution_count": null,
   "metadata": {},
   "outputs": [],
   "source": [
    "Speed_before_beacon ('86_fs1',10,Day86_fs1,beacon_Day86_fs1,2,zero=0,visible=False,height=False)"
   ]
  },
  {
   "cell_type": "markdown",
   "metadata": {},
   "source": [
    "## corrected for speed variable. "
   ]
  },
  {
   "cell_type": "markdown",
   "metadata": {},
   "source": [
    "## Plot speed over the whole session"
   ]
  },
  {
   "cell_type": "code",
   "execution_count": null,
   "metadata": {},
   "outputs": [],
   "source": [
    "def calculateSpeed_list(x,y,time): \n",
    "    travel=0\n",
    "    speed=[] \n",
    "    for i in range(len(y)-1):\n",
    "        dist = math.sqrt((x[0+i] - x[1+i])**2 + (y[0+i] - y[1+i])**2)/time\n",
    "        speed.append(dist)   \n",
    "    return (speed)\n",
    "\n",
    "\n",
    "def Speed_before_beacon (session,seconds_back,position_data,beacon_data,max_speed,zero=-1,visible=all,height=False): \n",
    "    \"\"\"function plots a given amount of seconds before beacon reached, takes Beacon file, position file, ceiling on speed for filtering \"\"\"\n",
    "    \n",
    "    # still \n",
    "    time_since_list =((np.array(beacon_data [0]))-(np.array(position_data[0]))[0])    \n",
    "    enum = list(np.arange(0,len(list(time_since_list)),1))\n",
    "    index=[]\n",
    "    beacon_times = np.array(beacon_data[0])\n",
    "  \n",
    "    \n",
    "    for i in enum:\n",
    "        index.append(np.abs(beacon_times[i]-np.array(position_data[0])).argmin() )\n",
    "        \n",
    "    if height== False:\n",
    "        num=3\n",
    "    else:\n",
    "        num=2\n",
    "        \n",
    "    \n",
    "\n",
    "    speed_list = calculateSpeed_list(position_data[1],position_data[num],0.01)\n",
    "    speed_list = [element * 100 for element in speed_list] # to get to cm/s speed. \n",
    "    time = numpy.arange(-seconds_back,seconds_back,.01)       \n",
    "    fig, ax = plt.subplots()\n",
    "    \n",
    "    # involve gaussian smoothening. \n",
    "    if visible == True:\n",
    "        index = index[::2]\n",
    "        eye='visible trials'\n",
    "    elif visible == False:\n",
    "        index = index[1::2] \n",
    "        eye = 'invisible trials'\n",
    "    else: \n",
    "        index=index\n",
    "        eye = 'all trials'    \n",
    "    \n",
    "    list_of_speed_lists=[]\n",
    "    for i in index:        \n",
    "        if i <= seconds_back*100:\n",
    "            i = seconds_back*100+1\n",
    "        else:\n",
    "            list_of_speed_lists.append(speed_list[i-(seconds_back*100):i+(seconds_back*100)])\n",
    "            \n",
    "        \n",
    "\n",
    "    array = np.array(list_of_speed_lists).reshape(len(index)+zero,seconds_back*200) # can add or delete one if indexing issue\n",
    "\n",
    "    im = ax.imshow(array, cmap=plt.get_cmap('viridis'),aspect='auto',vmin=0, vmax=max_speed,)\n",
    "    fig.colorbar(im)\n",
    "\n",
    "    ax.set(xlabel='time (10ms)', ylabel='beacon#',\n",
    "           title='Rat speed around %s beacons %s' %(len(index),eye))\n",
    "    #ax.grid()\n",
    "    x_label_list = ['-5','-4','-3','-2','-1','0','1','2','3','4','5']\n",
    "    ax.set_xticklabels(x_label_list)\n",
    "    ax.set_alpha (alpha = .5)\n",
    "    print('%s seconds in session %s, with %s max speed filter showing %s beacons  %s '% (seconds_back*2, session, max_speed,len(index),eye))\n",
    "   \n",
    "    plt.savefig('%s_imshow_speed_%s_sec._before_and _after_%s_beacon_%s.png'%(figures,seconds_back,session,eye), dpi = 100)\n",
    "    plt.show()\n",
    "\n",
    "Speed_before_beacon ('86_fs1',10,Day86_fs1,beacon_Day86_fs1,50,zero=0,visible=False,height=False)"
   ]
  },
  {
   "cell_type": "code",
   "execution_count": null,
   "metadata": {},
   "outputs": [],
   "source": []
  }
 ],
 "metadata": {
  "kernelspec": {
   "display_name": "Python 3",
   "language": "python",
   "name": "python3"
  },
  "language_info": {
   "codemirror_mode": {
    "name": "ipython",
    "version": 3
   },
   "file_extension": ".py",
   "mimetype": "text/x-python",
   "name": "python",
   "nbconvert_exporter": "python",
   "pygments_lexer": "ipython3",
   "version": "3.7.3"
  }
 },
 "nbformat": 4,
 "nbformat_minor": 2
}

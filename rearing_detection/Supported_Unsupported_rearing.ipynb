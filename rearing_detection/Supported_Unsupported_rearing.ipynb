{
 "cells": [
  {
   "cell_type": "markdown",
   "metadata": {},
   "source": [
    "# Distinguish supported and unsupported rearing"
   ]
  },
  {
   "cell_type": "markdown",
   "metadata": {},
   "source": [
    "1. Determine the board line for support and unsupport\n",
    "2. Detect the rearing\n",
    "3. Analyze and find the difference between supporte and unsupported\n",
    "\n",
    "\n",
    "Have not finished yet"
   ]
  },
  {
   "cell_type": "markdown",
   "metadata": {},
   "source": [
    "# 1. Load the data"
   ]
  },
  {
   "cell_type": "markdown",
   "metadata": {},
   "source": [
    "# "
   ]
  },
  {
   "cell_type": "code",
   "execution_count": 28,
   "metadata": {},
   "outputs": [],
   "source": [
    "import numpy as np\n",
    "import pandas as pd\n",
    "import matplotlib.pyplot as plt\n",
    "from tqdm import tqdm\n",
    "from glob import glob\n",
    "from base import MultiDaysBeaconPosition, BeaconPosition\n",
    "from scipy.stats import sem\n",
    "from utils.basic_utils import get_tags, joint_density_function\n",
    "from sklearn.decomposition import PCA\n",
    "from utils.pca_method import generate_tau_sample\n",
    "from utils.baseline_method import continuous_detection "
   ]
  },
  {
   "cell_type": "code",
   "execution_count": 3,
   "metadata": {},
   "outputs": [],
   "source": [
    "root_path = '../Data/Raw/'\n",
    "rat_id = 'FS10'\n",
    "rat_subdirectories = glob(root_path+rat_id+'/*/' )\n",
    "\n",
    "tags = get_tags(rat_subdirectories)"
   ]
  },
  {
   "cell_type": "markdown",
   "metadata": {},
   "source": [
    "## 1.1 For one tag of rat"
   ]
  },
  {
   "cell_type": "code",
   "execution_count": 4,
   "metadata": {},
   "outputs": [],
   "source": [
    "tag_id = 0\n",
    "this_tag = BeaconPosition(rat_subdirectories[tag_id], tags[tag_id], True, True) #position data of this tag"
   ]
  },
  {
   "cell_type": "code",
   "execution_count": 5,
   "metadata": {},
   "outputs": [
    {
     "name": "stdout",
     "output_type": "stream",
     "text": [
      "0.016694419627324594\n"
     ]
    }
   ],
   "source": [
    "unit_time = np.mean(this_tag.position_data[1:,0] - this_tag.position_data[:-1,0])\n",
    "print(unit_time) # average time for a bin"
   ]
  },
  {
   "cell_type": "markdown",
   "metadata": {},
   "source": [
    "# 2. Detect rearing roughly (using threshold first)"
   ]
  },
  {
   "cell_type": "code",
   "execution_count": 10,
   "metadata": {},
   "outputs": [],
   "source": [
    "# set the parameters\n",
    "save_fig = False # whether save the fig for the results\n",
    "\n",
    "T = 60\n",
    "tau = 20\n",
    "group_step = 10 # so that no overlap between taus\n",
    "\n",
    "height_thresh = 0.6 # threshold for height/z to determine rearing\n",
    "\n",
    "# get some important variables\n",
    "xy_speed = np.insert(this_tag.speed,0,0) # speed on xy planar insert 0 at the beginning of the speed array to make the size same\n",
    "z_speed = np.divide(this_tag.position_data[1:,3] - this_tag.position_data[:-1,3], this_tag.position_data[1:,0] - this_tag.position_data[:-1,0])\n",
    "z_speed = np.insert(z_speed,0,0) # insert 0 at the beginning of the speed array to make the size same \n",
    "x_posi = this_tag.position_data[:,1]\n",
    "y_posi = this_tag.position_data[:,2]\n",
    "z = this_tag.position_data[:,3]\n",
    "\n",
    "# organize k features that we're interested in\n",
    "k = 6\n",
    "all_feature_matrix = np.zeros((k, len(z)))\n",
    "\n",
    "# normalize each feature, so that the scale of max value is 1\n",
    "all_feature_matrix[0,:] = z\n",
    "all_feature_matrix[1,:] = this_tag.position_data[:,6]\n",
    "all_feature_matrix[2,:] = z_speed\n",
    "all_feature_matrix[3,:] = xy_speed\n",
    "all_feature_matrix[4,:] = x_posi\n",
    "all_feature_matrix[5,:] = y_posi\n"
   ]
  },
  {
   "cell_type": "code",
   "execution_count": 8,
   "metadata": {},
   "outputs": [],
   "source": [
    "def rearing_detection(z, height_thresh = 0.6):\n",
    "    '''\n",
    "    detect rearing by the height_thresh, if z[i]> = height_thresh, then the time of z[i] if rearing time\n",
    "    z: array of height in time series\n",
    "    height_thresh :threshold to determine the rearing\n",
    "    \n",
    "    return:\n",
    "    r: array of index of rearing time\n",
    "    '''\n",
    "    \n",
    "    return np.argwhere(z>= height_thresh).flatten()\n",
    "    "
   ]
  },
  {
   "cell_type": "code",
   "execution_count": 16,
   "metadata": {},
   "outputs": [],
   "source": [
    "rearing_idx = rearing_detection(z, height_thresh= height_thresh)\n",
    "whether_continue, rearing_periods = continuous_detection(rearing_idx, discontinu_tolerance= 10, total_tolerance= 20,seperate= True)\n",
    "\n",
    "# rearing_periods: slice of different rearing events"
   ]
  },
  {
   "cell_type": "code",
   "execution_count": 17,
   "metadata": {},
   "outputs": [],
   "source": [
    "# for each rearing event, get T length time before it\n",
    "T = 200\n",
    "tau = 200\n",
    "before_list = []\n",
    "for i,this_rearing in enumerate(rearing_periods):\n",
    "    begin_idx = this_rearing[0]\n",
    "    if begin_idx - T >=0:\n",
    "        before_list.append(all_feature_matrix[:,begin_idx - T: begin_idx])\n",
    "before_matrix = np.asarray(before_list) # in shape [num_event, k, T]\n",
    "num_events = before_matrix.shape[0]"
   ]
  },
  {
   "cell_type": "code",
   "execution_count": 19,
   "metadata": {},
   "outputs": [],
   "source": [
    "# use a time window to slip along T and get slice of tau, combine different features horizontally, \n",
    "x_matrix = generate_tau_sample(before_matrix, tau =tau, step = tau, T = T,k=k)\n",
    "x_norm = (x_matrix - x_matrix.mean(axis=0)) # global centering\n"
   ]
  },
  {
   "cell_type": "markdown",
   "metadata": {},
   "source": [
    "# 3. Distribution of x, y"
   ]
  },
  {
   "cell_type": "markdown",
   "metadata": {},
   "source": [
    "From Fabian code:\n",
    "X_cut_min = -.6\n",
    "Y_cut_max = 1.5\n",
    "X_cut_max = .05\n",
    "Y_cut_min = .08\n"
   ]
  },
  {
   "cell_type": "code",
   "execution_count": 25,
   "metadata": {},
   "outputs": [
    {
     "name": "stdout",
     "output_type": "stream",
     "text": [
      "max x = 0.1765, min x = -0.7113\n",
      "max y = 1.7714, min y = -0.0211\n"
     ]
    }
   ],
   "source": [
    "print('max x = %.4f, min x = %.4f'%(max(x_posi), min(x_posi)))\n",
    "print('max y = %.4f, min y = %.4f'%(max(y_posi), min(y_posi)))"
   ]
  },
  {
   "cell_type": "code",
   "execution_count": 27,
   "metadata": {},
   "outputs": [],
   "source": [
    "# set the boarder \n",
    "# seems to be 0.1 different from the extreme value\n",
    "x_min_boarder = -.6\n",
    "y_max_boarder = 1.5\n",
    "x_max_boarder = .05\n",
    "y_min_boarder = .08"
   ]
  }
 ],
 "metadata": {
  "kernelspec": {
   "display_name": "Python 3.9.12 ('base')",
   "language": "python",
   "name": "python3"
  },
  "language_info": {
   "codemirror_mode": {
    "name": "ipython",
    "version": 3
   },
   "file_extension": ".py",
   "mimetype": "text/x-python",
   "name": "python",
   "nbconvert_exporter": "python",
   "pygments_lexer": "ipython3",
   "version": "3.9.12"
  },
  "orig_nbformat": 4,
  "vscode": {
   "interpreter": {
    "hash": "5acfd06c6f898409f916ab5083bf34cc1cb5dcab793d5fe060e2c2dd836cbac0"
   }
  }
 },
 "nbformat": 4,
 "nbformat_minor": 2
}

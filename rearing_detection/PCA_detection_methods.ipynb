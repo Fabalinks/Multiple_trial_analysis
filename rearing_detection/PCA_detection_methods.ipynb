{
 "cells": [
  {
   "cell_type": "markdown",
   "metadata": {},
   "source": [
    "# PCA/SVM methods for rearing detection"
   ]
  },
  {
   "cell_type": "markdown",
   "metadata": {},
   "source": [
    "1. Organize the design matrix for PCA\n",
    "2. Get the pattern for PCA"
   ]
  },
  {
   "cell_type": "markdown",
   "metadata": {},
   "source": [
    "# 1. Load the data"
   ]
  },
  {
   "cell_type": "markdown",
   "metadata": {},
   "source": [
    "# "
   ]
  },
  {
   "cell_type": "code",
   "execution_count": 2,
   "metadata": {},
   "outputs": [],
   "source": [
    "import numpy as np\n",
    "import pandas as pd\n",
    "import matplotlib.pyplot as plt\n",
    "from glob import glob\n",
    "from base import MultiDaysBeaconPosition, BeaconPosition\n",
    "from scipy.stats import sem\n",
    "from utils.basic_utils import get_tags\n",
    "from sklearn.decomposition import PCA\n",
    "\n",
    "from utils.baseline_method import continuous_detection "
   ]
  },
  {
   "cell_type": "code",
   "execution_count": 3,
   "metadata": {},
   "outputs": [],
   "source": [
    "root_path = '../Data/Raw/'\n",
    "rat_id = 'FS10'\n",
    "rat_subdirectories = glob(root_path+rat_id+'/*/' )\n",
    "\n",
    "tags = get_tags(rat_subdirectories)"
   ]
  },
  {
   "cell_type": "markdown",
   "metadata": {},
   "source": [
    "## 1.1 For one tag of rat"
   ]
  },
  {
   "cell_type": "code",
   "execution_count": 4,
   "metadata": {},
   "outputs": [],
   "source": [
    "tag_id = 0\n",
    "this_tag = BeaconPosition(rat_subdirectories[tag_id], tags[tag_id], True, True) #position data of this tag"
   ]
  },
  {
   "cell_type": "code",
   "execution_count": 5,
   "metadata": {},
   "outputs": [
    {
     "name": "stdout",
     "output_type": "stream",
     "text": [
      "0.016694419627324594\n"
     ]
    }
   ],
   "source": [
    "unit_time = np.mean(this_tag.position_data[1:,0] - this_tag.position_data[:-1,0])\n",
    "print(unit_time) # average time for a bin"
   ]
  },
  {
   "cell_type": "markdown",
   "metadata": {},
   "source": [
    "# 2. Detect rearing roughly (using threshold first)"
   ]
  },
  {
   "cell_type": "code",
   "execution_count": 6,
   "metadata": {},
   "outputs": [],
   "source": [
    "# set the parameters\n",
    "save_fig = False # whether save the fig for the results\n",
    "\n",
    "T = 200\n",
    "tau = 10\n",
    "group_step = 10 # so that no overlap between taus\n",
    "\n",
    "height_thresh = 0.6 # threshold for height/z to determine rearing\n",
    "\n",
    "# get some important variables\n",
    "xy_speed = np.insert(this_tag.speed,0,0) # speed on xy planar insert 0 at the beginning of the speed array to make the size same\n",
    "z_speed = np.divide(this_tag.position_data[1:,3] - this_tag.position_data[:-1,3], this_tag.position_data[1:,0] - this_tag.position_data[:-1,0])\n",
    "z_speed = np.insert(z_speed,0,0) # insert 0 at the beginning of the speed array to make the size same \n",
    "\n",
    "z = this_tag.position_data[:,3]\n",
    "\n",
    "# organize k features that we're interested in\n",
    "k = 4\n",
    "all_feature_matrix = np.zeros((k, len(z)))\n",
    "all_feature_matrix[0,:] = z\n",
    "all_feature_matrix[1,:] = this_tag.position_data[:,6]\n",
    "all_feature_matrix[2,:] = z_speed\n",
    "all_feature_matrix[3,:] = xy_speed"
   ]
  },
  {
   "cell_type": "code",
   "execution_count": 7,
   "metadata": {},
   "outputs": [],
   "source": [
    "def rearing_detection(z, height_thresh = 0.6):\n",
    "    '''\n",
    "    detect rearing by the height_thresh, if z[i]> = height_thresh, then the time of z[i] if rearing time\n",
    "    z: array of height in time series\n",
    "    height_thresh :threshold to determine the rearing\n",
    "    \n",
    "    return:\n",
    "    r: array of index of rearing time\n",
    "    '''\n",
    "    \n",
    "    return np.argwhere(z>= height_thresh).flatten()\n",
    "    "
   ]
  },
  {
   "cell_type": "code",
   "execution_count": 19,
   "metadata": {},
   "outputs": [],
   "source": [
    "def generate_tau_sample(before_matrix, tau = 10, step = 2, T = 200):\n",
    "    '''\n",
    "    generate a matrix of tau length sample by slicing the window along the whole time series\n",
    "    features: [n,k,T]\n",
    "    \n",
    "    return : array in[n*m, tau*k], m is the number of slice of tau for T long period\n",
    "    '''\n",
    "    # determine the size of the final output\n",
    "    \n",
    "    # use a time window to slip along T and get slice of tau, combine different features horizontally, \n",
    "\n",
    "    num_slice = T//tau # step = tau, no overlap\n",
    "    num_events = before_matrix.shape[0]\n",
    "    x_matrix = np.zeros((num_events * num_slice, tau * k))\n",
    "\n",
    "\n",
    "    step = tau\n",
    "    for i, end_idx in enumerate(np.arange(tau, T+1, step)):\n",
    "        x_matrix[i*num_events: (i+1)*num_events, :] = np.hstack(np.transpose(before_matrix[:,:,end_idx - tau:end_idx],(1,0,2))) \n",
    "    \n",
    "    \n",
    "    return x_matrix"
   ]
  },
  {
   "cell_type": "code",
   "execution_count": 9,
   "metadata": {},
   "outputs": [],
   "source": [
    "rearing_idx = rearing_detection(z, height_thresh= height_thresh)\n",
    "whether_continue, rearing_periods = continuous_detection(rearing_idx, discontinu_tolerance= 10, total_tolerance= 20,seperate= True)\n",
    "\n",
    "# rearing_periods: slice of different rearing events"
   ]
  },
  {
   "cell_type": "code",
   "execution_count": 10,
   "metadata": {},
   "outputs": [],
   "source": [
    "# for each rearing event, get T length time before it\n",
    "before_list = []\n",
    "for i,this_rearing in enumerate(rearing_periods):\n",
    "    begin_idx = this_rearing[0]\n",
    "    if begin_idx - T >=0:\n",
    "        before_list.append(all_feature_matrix[:,begin_idx - T: begin_idx])\n",
    "before_matrix = np.asarray(before_list) # in shape [num_event, k, T]\n",
    "num_events = before_matrix.shape[0]"
   ]
  },
  {
   "cell_type": "code",
   "execution_count": 20,
   "metadata": {},
   "outputs": [],
   "source": [
    "# use a time window to slip along T and get slice of tau, combine different features horizontally, \n",
    "x_matrix = generate_tau_sample(before_matrix, tau =tau, step = tau, T = T)\n",
    "    "
   ]
  },
  {
   "cell_type": "markdown",
   "metadata": {},
   "source": [
    "# 3. Use PCA to detect the rearing period"
   ]
  },
  {
   "cell_type": "code",
   "execution_count": 12,
   "metadata": {},
   "outputs": [
    {
     "data": {
      "text/html": [
       "<style>#sk-container-id-1 {color: black;background-color: white;}#sk-container-id-1 pre{padding: 0;}#sk-container-id-1 div.sk-toggleable {background-color: white;}#sk-container-id-1 label.sk-toggleable__label {cursor: pointer;display: block;width: 100%;margin-bottom: 0;padding: 0.3em;box-sizing: border-box;text-align: center;}#sk-container-id-1 label.sk-toggleable__label-arrow:before {content: \"▸\";float: left;margin-right: 0.25em;color: #696969;}#sk-container-id-1 label.sk-toggleable__label-arrow:hover:before {color: black;}#sk-container-id-1 div.sk-estimator:hover label.sk-toggleable__label-arrow:before {color: black;}#sk-container-id-1 div.sk-toggleable__content {max-height: 0;max-width: 0;overflow: hidden;text-align: left;background-color: #f0f8ff;}#sk-container-id-1 div.sk-toggleable__content pre {margin: 0.2em;color: black;border-radius: 0.25em;background-color: #f0f8ff;}#sk-container-id-1 input.sk-toggleable__control:checked~div.sk-toggleable__content {max-height: 200px;max-width: 100%;overflow: auto;}#sk-container-id-1 input.sk-toggleable__control:checked~label.sk-toggleable__label-arrow:before {content: \"▾\";}#sk-container-id-1 div.sk-estimator input.sk-toggleable__control:checked~label.sk-toggleable__label {background-color: #d4ebff;}#sk-container-id-1 div.sk-label input.sk-toggleable__control:checked~label.sk-toggleable__label {background-color: #d4ebff;}#sk-container-id-1 input.sk-hidden--visually {border: 0;clip: rect(1px 1px 1px 1px);clip: rect(1px, 1px, 1px, 1px);height: 1px;margin: -1px;overflow: hidden;padding: 0;position: absolute;width: 1px;}#sk-container-id-1 div.sk-estimator {font-family: monospace;background-color: #f0f8ff;border: 1px dotted black;border-radius: 0.25em;box-sizing: border-box;margin-bottom: 0.5em;}#sk-container-id-1 div.sk-estimator:hover {background-color: #d4ebff;}#sk-container-id-1 div.sk-parallel-item::after {content: \"\";width: 100%;border-bottom: 1px solid gray;flex-grow: 1;}#sk-container-id-1 div.sk-label:hover label.sk-toggleable__label {background-color: #d4ebff;}#sk-container-id-1 div.sk-serial::before {content: \"\";position: absolute;border-left: 1px solid gray;box-sizing: border-box;top: 0;bottom: 0;left: 50%;z-index: 0;}#sk-container-id-1 div.sk-serial {display: flex;flex-direction: column;align-items: center;background-color: white;padding-right: 0.2em;padding-left: 0.2em;position: relative;}#sk-container-id-1 div.sk-item {position: relative;z-index: 1;}#sk-container-id-1 div.sk-parallel {display: flex;align-items: stretch;justify-content: center;background-color: white;position: relative;}#sk-container-id-1 div.sk-item::before, #sk-container-id-1 div.sk-parallel-item::before {content: \"\";position: absolute;border-left: 1px solid gray;box-sizing: border-box;top: 0;bottom: 0;left: 50%;z-index: -1;}#sk-container-id-1 div.sk-parallel-item {display: flex;flex-direction: column;z-index: 1;position: relative;background-color: white;}#sk-container-id-1 div.sk-parallel-item:first-child::after {align-self: flex-end;width: 50%;}#sk-container-id-1 div.sk-parallel-item:last-child::after {align-self: flex-start;width: 50%;}#sk-container-id-1 div.sk-parallel-item:only-child::after {width: 0;}#sk-container-id-1 div.sk-dashed-wrapped {border: 1px dashed gray;margin: 0 0.4em 0.5em 0.4em;box-sizing: border-box;padding-bottom: 0.4em;background-color: white;}#sk-container-id-1 div.sk-label label {font-family: monospace;font-weight: bold;display: inline-block;line-height: 1.2em;}#sk-container-id-1 div.sk-label-container {text-align: center;}#sk-container-id-1 div.sk-container {/* jupyter's `normalize.less` sets `[hidden] { display: none; }` but bootstrap.min.css set `[hidden] { display: none !important; }` so we also need the `!important` here to be able to override the default hidden behavior on the sphinx rendered scikit-learn.org. See: https://github.com/scikit-learn/scikit-learn/issues/21755 */display: inline-block !important;position: relative;}#sk-container-id-1 div.sk-text-repr-fallback {display: none;}</style><div id=\"sk-container-id-1\" class=\"sk-top-container\"><div class=\"sk-text-repr-fallback\"><pre>PCA(n_components=10)</pre><b>In a Jupyter environment, please rerun this cell to show the HTML representation or trust the notebook. <br />On GitHub, the HTML representation is unable to render, please try loading this page with nbviewer.org.</b></div><div class=\"sk-container\" hidden><div class=\"sk-item\"><div class=\"sk-estimator sk-toggleable\"><input class=\"sk-toggleable__control sk-hidden--visually\" id=\"sk-estimator-id-1\" type=\"checkbox\" checked><label for=\"sk-estimator-id-1\" class=\"sk-toggleable__label sk-toggleable__label-arrow\">PCA</label><div class=\"sk-toggleable__content\"><pre>PCA(n_components=10)</pre></div></div></div></div></div>"
      ],
      "text/plain": [
       "PCA(n_components=10)"
      ]
     },
     "execution_count": 12,
     "metadata": {},
     "output_type": "execute_result"
    }
   ],
   "source": [
    "# normalize x_matrix\n",
    "x_norm = x_matrix - x_matrix.mean(axis=0)\n",
    "pca = PCA(n_components= 10)\n",
    "pca.fit(x_norm)"
   ]
  },
  {
   "cell_type": "code",
   "execution_count": 13,
   "metadata": {},
   "outputs": [],
   "source": [
    "eigen_vec = pca.components_\n",
    "eigen_ratio = pca.explained_variance_ratio_"
   ]
  },
  {
   "cell_type": "markdown",
   "metadata": {},
   "source": [
    "## 3.1 Plot resutls for first PC\n"
   ]
  },
  {
   "cell_type": "code",
   "execution_count": 14,
   "metadata": {},
   "outputs": [
    {
     "name": "stdout",
     "output_type": "stream",
     "text": [
      "[0.90913433 0.05607269 0.0141026  0.00646438 0.0044017  0.00298541\n",
      " 0.00204336 0.00193563 0.0015567  0.00112725]\n"
     ]
    },
    {
     "data": {
      "image/png": "[encoded data removed]",
      "text/plain": [
       "<Figure size 640x480 with 1 Axes>"
      ]
     },
     "metadata": {},
     "output_type": "display_data"
    }
   ],
   "source": [
    "plt.plot(eigen_ratio)\n",
    "plt.xlabel('PC')\n",
    "plt.ylabel('explaied variance')\n",
    "print(eigen_ratio)"
   ]
  },
  {
   "cell_type": "code",
   "execution_count": 17,
   "metadata": {},
   "outputs": [
    {
     "name": "stderr",
     "output_type": "stream",
     "text": [
      "No artists with labels found to put in legend.  Note that artists whose label start with an underscore are ignored when legend() is called with no argument.\n"
     ]
    },
    {
     "data": {
      "text/plain": [
       "Text(0, 0.5, 'pitch')"
      ]
     },
     "execution_count": 17,
     "metadata": {},
     "output_type": "execute_result"
    },
    {
     "data": {
      "image/png": "[encoded data removed]",
      "text/plain": [
       "<Figure size 640x480 with 1 Axes>"
      ]
     },
     "metadata": {},
     "output_type": "display_data"
    }
   ],
   "source": [
    "# Plot eigenvector resutls for first PC,\n",
    "firt_pc = np.split(eigen_vec[0,:], k, axis = 0)\n",
    "for i in np.arange(2,k):\n",
    "   \n",
    "    plt.plot(firt_pc[0], firt_pc[1],)\n",
    "\n",
    "plt.legend()\n",
    "plt.xlabel('height/z')\n",
    "plt.ylabel('pitch')"
   ]
  },
  {
   "cell_type": "code",
   "execution_count": 16,
   "metadata": {},
   "outputs": [
    {
     "data": {
      "text/plain": [
       "[array([0.00033587, 0.00034121, 0.00034655, 0.00035192, 0.00035641,\n",
       "        0.00036157, 0.0003646 , 0.0003665 , 0.00036786, 0.00036751]),\n",
       " array([0.3084615 , 0.31208211, 0.31731591, 0.32018135, 0.32198484,\n",
       "        0.32478886, 0.32226522, 0.3166659 , 0.31284087, 0.30509505]),\n",
       " array([ 4.99238882e-04,  3.52076224e-04,  3.43534285e-04,  3.83624016e-04,\n",
       "         2.60758793e-04,  3.72653627e-04,  2.04006629e-04,  1.09342084e-04,\n",
       "         4.88934087e-05, -7.27125455e-05]),\n",
       " array([-0.00053472, -0.00048169, -0.00048925, -0.00042183, -0.00045015,\n",
       "        -0.00045278, -0.000444  , -0.00038505, -0.00038254, -0.00040671])]"
      ]
     },
     "execution_count": 16,
     "metadata": {},
     "output_type": "execute_result"
    }
   ],
   "source": [
    "firt_pc "
   ]
  },
  {
   "cell_type": "markdown",
   "metadata": {},
   "source": [
    "# 3.2 need to use pca resutls to determine rearing ..."
   ]
  },
  {
   "cell_type": "code",
   "execution_count": null,
   "metadata": {},
   "outputs": [],
   "source": []
  }
 ],
 "metadata": {
  "kernelspec": {
   "display_name": "Python 3.9.12 ('base')",
   "language": "python",
   "name": "python3"
  },
  "language_info": {
   "codemirror_mode": {
    "name": "ipython",
    "version": 3
   },
   "file_extension": ".py",
   "mimetype": "text/x-python",
   "name": "python",
   "nbconvert_exporter": "python",
   "pygments_lexer": "ipython3",
   "version": "3.9.12"
  },
  "orig_nbformat": 4,
  "vscode": {
   "interpreter": {
    "hash": "5acfd06c6f898409f916ab5083bf34cc1cb5dcab793d5fe060e2c2dd836cbac0"
   }
  }
 },
 "nbformat": 4,
 "nbformat_minor": 2
}

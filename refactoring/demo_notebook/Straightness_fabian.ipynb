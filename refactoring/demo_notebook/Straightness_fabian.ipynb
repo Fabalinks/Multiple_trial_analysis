{
 "cells": [
  {
   "cell_type": "code",
   "execution_count": 1,
   "metadata": {},
   "outputs": [
    {
     "name": "stdout",
     "output_type": "stream",
     "text": [
      "The Zen of Python, by Tim Peters\n",
      "\n",
      "Beautiful is better than ugly.\n",
      "Explicit is better than implicit.\n",
      "Simple is better than complex.\n",
      "Complex is better than complicated.\n",
      "Flat is better than nested.\n",
      "Sparse is better than dense.\n",
      "Readability counts.\n",
      "Special cases aren't special enough to break the rules.\n",
      "Although practicality beats purity.\n",
      "Errors should never pass silently.\n",
      "Unless explicitly silenced.\n",
      "In the face of ambiguity, refuse the temptation to guess.\n",
      "There should be one-- and preferably only one --obvious way to do it.\n",
      "Although that way may not be obvious at first unless you're Dutch.\n",
      "Now is better than never.\n",
      "Although never is often better than *right* now.\n",
      "If the implementation is hard to explain, it's a bad idea.\n",
      "If the implementation is easy to explain, it may be a good idea.\n",
      "Namespaces are one honking great idea -- let's do more of those!\n"
     ]
    }
   ],
   "source": [
    "import numpy as np\n",
    "import sys\n",
    "import os\n",
    "import fnmatch\n",
    "sys.path.append('../')\n",
    "import base as base\n",
    "import path_analysis\n",
    "import matplotlib.pyplot as plt\n",
    "import pandas as pd\n",
    "import datetime\n",
    "processed= 'C:/Users/Fabian/Desktop/Analysis/Round3_FS03_FS06/processed/straightness/'"
   ]
  },
  {
   "cell_type": "markdown",
   "metadata": {},
   "source": [
    "## The purpose of thios notebook is to explore Jin's code with open base and path analyais and eventually be abel to plot and \n",
    "perphaps first export the straigntess analysis - here again the idea is to analyze the striaghtness before the beacon - about 5 seconds and compare it to sham. \n",
    "So there shou be for each animal perhaps for each 5 seconds before beacon some numbers can then compare them to across sessipns. \n",
    "Should have a plot simliar to the rearing - But here it is Instantenous straightness "
   ]
  },
  {
   "cell_type": "markdown",
   "metadata": {},
   "source": [
    "### 1. Load one session\n",
    "2. Plot trajectory for one trial/ beacon \n",
    "3. calculate straightness for time before the beacon \n",
    "4. plot the straightness 5 seconds back\n",
    "5. Seperate for visible and invisibel beacon - use meatdata \n",
    "6. Repeat for more then 2 sessions \n",
    "7. Run averages for perhaps 10 sessions each \n",
    "8. calculate bootstrapped "
   ]
  },
  {
   "cell_type": "markdown",
   "metadata": {},
   "source": [
    "# 1. Load one session "
   ]
  },
  {
   "cell_type": "code",
   "execution_count": 2,
   "metadata": {},
   "outputs": [],
   "source": [
    "root = '//10.153.170.3/storage2/fabian/data/project/FS11/Training/BPositions_FS11_20211006-161633'\n",
    "tag = '20211006-161633'"
   ]
  },
  {
   "cell_type": "code",
   "execution_count": 3,
   "metadata": {},
   "outputs": [
    {
     "name": "stderr",
     "output_type": "stream",
     "text": [
      "..\\base.py:47: ParserWarning: Falling back to the 'python' engine because the 'c' engine does not support regex separators (separators > 1 char and different from '\\s+' are interpreted as regex); you can avoid this warning by specifying engine='python'.\n",
      "  metadata = pd.read_csv(p, sep=\" : \", header=None, index_col=0).T\n"
     ]
    }
   ],
   "source": [
    "FS11_one = base.BeaconPosition(root, tag, has_beacon = True, has_metadata = True, )"
   ]
  },
  {
   "cell_type": "code",
   "execution_count": 4,
   "metadata": {},
   "outputs": [
    {
     "data": {
      "text/html": [
       "<div>\n",
       "<style scoped>\n",
       "    .dataframe tbody tr th:only-of-type {\n",
       "        vertical-align: middle;\n",
       "    }\n",
       "\n",
       "    .dataframe tbody tr th {\n",
       "        vertical-align: top;\n",
       "    }\n",
       "\n",
       "    .dataframe thead th {\n",
       "        text-align: right;\n",
       "    }\n",
       "</style>\n",
       "<table border=\"1\" class=\"dataframe\">\n",
       "  <thead>\n",
       "    <tr style=\"text-align: right;\">\n",
       "      <th></th>\n",
       "      <th>Recording started on</th>\n",
       "      <th>Computer time was</th>\n",
       "      <th>ITI_time</th>\n",
       "      <th>time_in_cylinder</th>\n",
       "      <th>movement_collection_time</th>\n",
       "      <th>animal_ID</th>\n",
       "      <th>background_color</th>\n",
       "      <th>circle</th>\n",
       "      <th>position_change</th>\n",
       "      <th>light_off</th>\n",
       "      <th>...</th>\n",
       "      <th>recording lenght</th>\n",
       "      <th>high pellets</th>\n",
       "      <th>high_time_in_cylinder</th>\n",
       "      <th>invisible_time</th>\n",
       "      <th>invisible_count</th>\n",
       "      <th>invisible_list</th>\n",
       "      <th>Animal jumped</th>\n",
       "      <th>Recording_started_motive</th>\n",
       "      <th>Recording_timestamp_motive</th>\n",
       "      <th>Day</th>\n",
       "    </tr>\n",
       "  </thead>\n",
       "  <tbody>\n",
       "    <tr>\n",
       "      <th>1</th>\n",
       "      <td>2021-10-06 16:16:33</td>\n",
       "      <td>1633529793.16</td>\n",
       "      <td>1.5</td>\n",
       "      <td>1.5</td>\n",
       "      <td>0.01</td>\n",
       "      <td>FS11</td>\n",
       "      <td>000</td>\n",
       "      <td>0.075</td>\n",
       "      <td>1000</td>\n",
       "      <td>200</td>\n",
       "      <td>...</td>\n",
       "      <td>1833.10300016</td>\n",
       "      <td>18</td>\n",
       "      <td>0.5</td>\n",
       "      <td>60</td>\n",
       "      <td>0</td>\n",
       "      <td>[]</td>\n",
       "      <td>0</td>\n",
       "      <td>0</td>\n",
       "      <td>0.0</td>\n",
       "      <td>156</td>\n",
       "    </tr>\n",
       "  </tbody>\n",
       "</table>\n",
       "<p>1 rows × 27 columns</p>\n",
       "</div>"
      ],
      "text/plain": [
       "0 Recording started on Computer time was ITI_time time_in_cylinder  \\\n",
       "1  2021-10-06 16:16:33     1633529793.16      1.5              1.5   \n",
       "\n",
       "0 movement_collection_time animal_ID background_color circle position_change  \\\n",
       "1                     0.01      FS11              000  0.075            1000   \n",
       "\n",
       "0 light_off  ... recording lenght high pellets high_time_in_cylinder  \\\n",
       "1       200  ...    1833.10300016           18                   0.5   \n",
       "\n",
       "0 invisible_time invisible_count invisible_list Animal jumped  \\\n",
       "1             60               0             []             0   \n",
       "\n",
       "0 Recording_started_motive Recording_timestamp_motive  Day  \n",
       "1                        0                        0.0  156  \n",
       "\n",
       "[1 rows x 27 columns]"
      ]
     },
     "execution_count": 4,
     "metadata": {},
     "output_type": "execute_result"
    }
   ],
   "source": [
    "FS11_one.metadata\n",
    "\n"
   ]
  },
  {
   "cell_type": "markdown",
   "metadata": {},
   "source": [
    "## Show one trial with beacon"
   ]
  },
  {
   "cell_type": "code",
   "execution_count": 5,
   "metadata": {},
   "outputs": [
    {
     "name": "stdout",
     "output_type": "stream",
     "text": [
      "[-0.15904586 -0.52945693]\n"
     ]
    },
    {
     "data": {
      "text/plain": [
       "<matplotlib.collections.PathCollection at 0x4dd8d00>"
      ]
     },
     "execution_count": 5,
     "metadata": {},
     "output_type": "execute_result"
    },
    {
     "data": {
      "image/png": "[encoded data removed]",
      "text/plain": [
       "<Figure size 432x288 with 1 Axes>"
      ]
     },
     "metadata": {
      "needs_background": "light"
     },
     "output_type": "display_data"
    }
   ],
   "source": [
    "plt.plot(FS11_one.trial_list[2][2000:-1,1],FS11_one.trial_list[2][2000:-1,2] )\n",
    "print(FS11_one.trial_beacon[2])\n",
    "plt.scatter(FS11_one.trial_beacon[2][0],FS11_one.trial_beacon[2][1],c=\"green\",s=200)"
   ]
  },
  {
   "cell_type": "markdown",
   "metadata": {},
   "source": [
    "## Print when session started and compare to when first trial if marked - started in metadata when pressed start - so not when animal lowered in"
   ]
  },
  {
   "cell_type": "code",
   "execution_count": 6,
   "metadata": {},
   "outputs": [
    {
     "name": "stdout",
     "output_type": "stream",
     "text": [
      "1633529793.16\n",
      "Wed Oct  6 16:16:33 2021\n",
      "Wed Oct  6 16:47:06 2021\n"
     ]
    }
   ],
   "source": [
    "time = FS11_one.metadata[\"Computer time was\"]\n",
    "lasted = float(FS11_one.metadata[\"recording lenght\"][1])\n",
    "print (float(time[1]))\n",
    "print(datetime.datetime.fromtimestamp(float(time[1])).strftime('%c'))\n",
    "print(datetime.datetime.fromtimestamp(lasted + float(time[1])).strftime('%c'))\n"
   ]
  },
  {
   "cell_type": "markdown",
   "metadata": {},
   "source": [
    "## Print first and last time from the segmented trials "
   ]
  },
  {
   "cell_type": "code",
   "execution_count": 7,
   "metadata": {},
   "outputs": [
    {
     "name": "stdout",
     "output_type": "stream",
     "text": [
      "Wed Oct  6 16:16:39 2021\n",
      "None\n",
      "Wed Oct  6 16:47:04 2021\n",
      "None\n"
     ]
    }
   ],
   "source": [
    "time = FS11_one.trial_list[0][:,:1][0]\n",
    "last =  FS11_one.trial_list[-1][:,:1][-1]\n",
    "print(print(datetime.datetime.fromtimestamp(time[0]).strftime('%c')))\n",
    "print(print(datetime.datetime.fromtimestamp(last[0]).strftime('%c')))"
   ]
  },
  {
   "cell_type": "markdown",
   "metadata": {},
   "source": [
    "## Begginign of the first trial is likley the entry of the rat inside of arena - hence need to measure straightness from the last time of the trial "
   ]
  },
  {
   "cell_type": "code",
   "execution_count": 8,
   "metadata": {},
   "outputs": [],
   "source": [
    "straightness_time = path_analysis.straightness_over_time(FS11_one.trial_list[2][-300:-1,:3], time_window=4)\n",
    "straightness_time2 = path_analysis.straightness_over_time(FS11_one.trial_list[2][:,:3], time_window=4)"
   ]
  },
  {
   "cell_type": "code",
   "execution_count": 9,
   "metadata": {},
   "outputs": [
    {
     "data": {
      "text/plain": [
       "array([-0.50612768, -0.50640712, -0.50651683, -0.50608623, -0.50538936,\n",
       "       -0.50432054, -0.50297331, -0.50073962, -0.49914425, -0.49728039,\n",
       "       -0.49465245, -0.49111357, -0.48283658, -0.47861955, -0.47464424,\n",
       "       -0.47075503, -0.46738701, -0.45990444, -0.45546589, -0.45101476,\n",
       "       -0.44696259, -0.44446514, -0.43984926, -0.43773752, -0.43515358,\n",
       "       -0.43384142, -0.42625259, -0.42253699, -0.42052025, -0.41914127,\n",
       "       -0.41851685, -0.4140538 , -0.40999833, -0.40552383, -0.39998133,\n",
       "       -0.3976012 , -0.39612645, -0.39455957, -0.39106775, -0.3901478 ,\n",
       "       -0.39060537, -0.39241122, -0.39512733, -0.39875792, -0.40422163,\n",
       "       -0.40678511, -0.40932091, -0.4128928 , -0.41880166, -0.42144869,\n",
       "       -0.42441892, -0.42712972, -0.42994045, -0.43634966, -0.4399827 ,\n",
       "       -0.44331796, -0.44690192, -0.45130735, -0.45938252, -0.46178839,\n",
       "       -0.46368478, -0.46625704, -0.47183526, -0.47441951, -0.47654061,\n",
       "       -0.47758608, -0.47969204, -0.48166475, -0.48566539, -0.48692851,\n",
       "       -0.49615454, -0.50121993, -0.50457163, -0.50882655, -0.5132265 ,\n",
       "       -0.52252522, -0.52679078, -0.53103439, -0.53602364, -0.53589501,\n",
       "       -0.53650928, -0.53629593, -0.53557127, -0.53660738, -0.53610302,\n",
       "       -0.53560094, -0.53484332, -0.53327074, -0.53204412, -0.52850337,\n",
       "       -0.52789813, -0.52402755, -0.52175816, -0.52002009, -0.51819828,\n",
       "       -0.51785355, -0.51706306, -0.51644837, -0.5156577 , -0.5158059 ,\n",
       "       -0.51596239, -0.51738623, -0.52030325, -0.52255744, -0.52481209,\n",
       "       -0.52804943, -0.53557135, -0.53944558, -0.54297503, -0.5469727 ,\n",
       "       -0.55011525, -0.56204191, -0.56745388, -0.57020235, -0.57161125,\n",
       "       -0.57224935, -0.57273453, -0.57238747, -0.57176417, -0.57215525,\n",
       "       -0.57138863, -0.56864819, -0.56595766, -0.56322911, -0.56031188,\n",
       "       -0.55852459, -0.55592185, -0.5545652 , -0.55322485, -0.55116978,\n",
       "       -0.5495751 , -0.54649871, -0.54619553, -0.54684557, -0.5485978 ,\n",
       "       -0.55102494, -0.55645713, -0.55829638, -0.55893779, -0.5595614 ,\n",
       "       -0.560587  , -0.56386477, -0.56598772, -0.56883207, -0.57113383,\n",
       "       -0.57259385, -0.5735715 , -0.57385115, -0.57457015, -0.57514746,\n",
       "       -0.57604058, -0.57564747, -0.57500162, -0.57458108, -0.57422549,\n",
       "       -0.57278579, -0.56814021, -0.56582887, -0.56330491, -0.56079602,\n",
       "       -0.55904579, -0.55706849, -0.55700194, -0.5572746 , -0.55735534,\n",
       "       -0.55727496, -0.55629936, -0.55635098, -0.55702586, -0.55854762,\n",
       "       -0.56041959, -0.56284082, -0.56271917, -0.56166012, -0.56095248,\n",
       "       -0.56092926, -0.56241292, -0.5644296 , -0.56632586, -0.56792719,\n",
       "       -0.56907574, -0.5704881 , -0.57179221, -0.5726671 , -0.57260206,\n",
       "       -0.57184131, -0.5679503 , -0.56679857, -0.56624067, -0.56631116,\n",
       "       -0.56748002, -0.57280701, -0.5763814 , -0.58002672, -0.58052636,\n",
       "       -0.58148125, -0.58328238, -0.58312121, -0.58128287, -0.57886151])"
      ]
     },
     "execution_count": 9,
     "metadata": {},
     "output_type": "execute_result"
    }
   ],
   "source": [
    "straightness_time[2][:,1]"
   ]
  },
  {
   "cell_type": "code",
   "execution_count": 10,
   "metadata": {},
   "outputs": [
    {
     "name": "stdout",
     "output_type": "stream",
     "text": [
      "[-0.15904586 -0.52945693]\n"
     ]
    },
    {
     "data": {
      "text/plain": [
       "<matplotlib.collections.PathCollection at 0x695cb80>"
      ]
     },
     "execution_count": 10,
     "metadata": {},
     "output_type": "execute_result"
    },
    {
     "data": {
      "image/png": "[encoded data removed]",
      "text/plain": [
       "<Figure size 432x288 with 1 Axes>"
      ]
     },
     "metadata": {
      "needs_background": "light"
     },
     "output_type": "display_data"
    }
   ],
   "source": [
    "plt.plot(straightness_time[2][:,0],straightness_time[2][0:,1],c=\"red\")\n",
    "plt.plot(straightness_time2[2][:,0],straightness_time2[2][0:,1],c=\"green\")\n",
    "plt.plot(FS11_one.trial_list[2][-300:-1,1],FS11_one.trial_list[2][-300:-1,2],alpha= .5)\n",
    "print(FS11_one.trial_beacon[2])\n",
    "plt.scatter(FS11_one.trial_beacon[2][0],FS11_one.trial_beacon[2][1],c=\"green\",s=200)\n",
    "plt.scatter(FS11_one.trial_list[2][-2:-1,1],FS11_one.trial_list[2][-2:-1,2],c=\"cyan\",s= 200)\n"
   ]
  },
  {
   "cell_type": "markdown",
   "metadata": {},
   "source": [
    "# Above - showing that if I measure the last 300 samples and their straightness, it will be till the end of the trial - becasue I plot the postions from the straighntess_time - Hence I can use the straigthness measure as it counts it back wards for the beacno and I just need to flip the the axis at the end. "
   ]
  },
  {
   "cell_type": "markdown",
   "metadata": {},
   "source": [
    "### Problem is that trial segmentation is done only as invisible succesful visible or invisible succesfull. - But I anyways need to index only to either 0 - visible or 2 invisible succesful  "
   ]
  },
  {
   "cell_type": "code",
   "execution_count": 11,
   "metadata": {},
   "outputs": [
    {
     "name": "stdout",
     "output_type": "stream",
     "text": [
      "Wed Oct  6 16:20:32 2021\n",
      "None\n"
     ]
    },
    {
     "data": {
      "image/png": "[encoded data removed]",
      "text/plain": [
       "<Figure size 432x288 with 1 Axes>"
      ]
     },
     "metadata": {
      "needs_background": "light"
     },
     "output_type": "display_data"
    }
   ],
   "source": [
    "straightness_time = path_analysis.straightness_over_time(FS11_one.trial_list[2][:,:3], time_window=3)\n",
    "time = FS11_one.trial_list[2][:,:1][0]\n",
    "print(print(datetime.datetime.fromtimestamp(time[0]).strftime('%c')))\n",
    "plt.plot(straightness_time[0], )\n",
    "plt.gca().invert_xaxis()"
   ]
  },
  {
   "cell_type": "markdown",
   "metadata": {},
   "source": [
    "# Now show all straightness from the last 4 seconds in all trials int he first session "
   ]
  },
  {
   "cell_type": "markdown",
   "metadata": {},
   "source": [
    "# trial_visible: list of booleans referring visibility of trial (0 - visible, 1 - successful invisible, 2 - failed invisible )"
   ]
  },
  {
   "cell_type": "markdown",
   "metadata": {},
   "source": [
    "## Now plot with averages as well "
   ]
  },
  {
   "cell_type": "code",
   "execution_count": 13,
   "metadata": {},
   "outputs": [
    {
     "name": "stdout",
     "output_type": "stream",
     "text": [
      "[[ 1.63353147e+09 -2.12824310e-01 -5.09826481e-01]\n",
      " [ 1.63353147e+09 -2.14724449e-01 -5.10332945e-01]\n",
      " [ 1.63353147e+09 -2.18789118e-01 -5.11721089e-01]\n",
      " ...\n",
      " [ 1.63353162e+09 -2.75770481e-01  7.61994083e-01]\n",
      " [ 1.63353162e+09 -2.76896666e-01  7.64063617e-01]\n",
      " [ 1.63353162e+09 -2.76896666e-01  7.64063617e-01]]\n"
     ]
    }
   ],
   "source": [
    "print(FS11_one.trial_list[23][:,:3])"
   ]
  },
  {
   "cell_type": "code",
   "execution_count": 15,
   "metadata": {},
   "outputs": [
    {
     "name": "stderr",
     "output_type": "stream",
     "text": [
      "..\\path_analysis.py:89: RuntimeWarning: invalid value encountered in double_scalars\n",
      "  straightness.append(straight_length / trajectory_displacement)\n",
      "..\\path_analysis.py:89: RuntimeWarning: invalid value encountered in double_scalars\n",
      "  straightness.append(straight_length / trajectory_displacement)\n",
      "<ipython-input-15-81bdab5df5e3>:23: RuntimeWarning: Mean of empty slice\n",
      "  average_invis = np.nanmean(invisible,axis=1)\n"
     ]
    },
    {
     "data": {
      "image/png": "[encoded data removed]",
      "text/plain": [
       "<Figure size 432x288 with 1 Axes>"
      ]
     },
     "metadata": {
      "needs_background": "light"
     },
     "output_type": "display_data"
    }
   ],
   "source": [
    "trial_num = len(FS11_one.trial_list[:])\n",
    "visible=np.nan*np.ones((len(straightness_time[0]),trial_num))\n",
    "invisible=np.nan*np.ones((len(straightness_time[0]),trial_num))\n",
    "for i in range(len(FS11_one.trial_list)):\n",
    "    straightness_time = path_analysis.straightness_over_time(FS11_one.trial_list[i][:,:3], time_window=3)\n",
    "    \n",
    "#     print(trial_num)\n",
    "\n",
    "#     print(visible )\n",
    "#     invisible=np.array([])\n",
    "    if FS11_one.trial_visible[i]:\n",
    "        print(FS11_one.trial_visible[1])\n",
    "        plt.plot(straightness_time[0])\n",
    "        invisible[:len(straightness_time[0]),i]=straightness_time[0]\n",
    "#         plt.gca().invert_xaxis()\n",
    "    else:\n",
    "        plt.plot(straightness_time[0],c='cyan')\n",
    "#         plt.gca().invert_xaxis()\n",
    "#         print(straightness_time[0])\n",
    "        visible[:len(straightness_time[0]),i]=straightness_time[0]\n",
    "#         np.concatenate(visible,np.array(straightness_time[0]) )\n",
    "average_vis = np.nanmean(visible,axis=1)\n",
    "average_invis = np.nanmean(invisible,axis=1)\n",
    "plt.plot(average_vis,c='red')\n",
    "plt.plot(average_invis,c='black')\n",
    "plt.gca().invert_xaxis()\n",
    "#     vis = np.average(visible,axis=0)\n",
    "#     invis = np.average(invisible,axis=0)"
   ]
  },
  {
   "cell_type": "markdown",
   "metadata": {},
   "source": [
    "# 2. Load more then 1 session"
   ]
  },
  {
   "cell_type": "code",
   "execution_count": 16,
   "metadata": {},
   "outputs": [],
   "source": [
    "def Make_tags (rat_ID=\"FS11\"):\n",
    "    \"\"\"Takes in animal ID and searches through a specific subfolder in storage 2 to generate time tags for each session\n",
    "    \n",
    "    PARAMS\n",
    "    ------------\n",
    "    rat_ID : str\n",
    "        name of animal\n",
    "    \n",
    "    Returns\n",
    "    ------------\n",
    "    list of str of roots and list of str of tags - date time   \n",
    "    \n",
    "    \"\"\"\n",
    "    animal= '//10.153.170.3/storage2/fabian/data/project/'+rat_ID \n",
    "    dirnames = [ name for name in os.listdir(animal) if os.path.isdir(os.path.join(animal, name)) ]   \n",
    "    roots = [k for k in dirnames if 'BP' in k]\n",
    "    filter_tags = [x[-15:] for x in roots]\n",
    "    filter_roots = [animal + s for s in roots]\n",
    "    return filter_roots, filter_tags, \n",
    "root, tags = Make_tags (\"FS11/Training/\")"
   ]
  },
  {
   "cell_type": "code",
   "execution_count": 19,
   "metadata": {},
   "outputs": [
    {
     "name": "stdout",
     "output_type": "stream",
     "text": [
      "['//10.153.170.3/storage2/fabian/data/project/FS11/Training/BPositions_FS11_20211006-161633', '//10.153.170.3/storage2/fabian/data/project/FS11/Training/BPositions_FS11_20211007-142813', '//10.153.170.3/storage2/fabian/data/project/FS11/Training/BPositions_FS11_20211011-102330', '//10.153.170.3/storage2/fabian/data/project/FS11/Training/BPositions_FS11_20211014-163731', '//10.153.170.3/storage2/fabian/data/project/FS11/Training/BPositions_FS11_20211015-175713']\n",
      "['20211006-161633', '20211007-142813', '20211011-102330', '20211014-163731', '20211015-175713']\n",
      "88\n"
     ]
    }
   ],
   "source": [
    "np.size(root)\n",
    "print(root[0:5])\n",
    "print(tags[0:5])\n",
    "print(len(root))\n"
   ]
  },
  {
   "cell_type": "code",
   "execution_count": 18,
   "metadata": {},
   "outputs": [
    {
     "name": "stdout",
     "output_type": "stream",
     "text": [
      "20211006-161633\n"
     ]
    },
    {
     "name": "stderr",
     "output_type": "stream",
     "text": [
      "..\\base.py:47: ParserWarning: Falling back to the 'python' engine because the 'c' engine does not support regex separators (separators > 1 char and different from '\\s+' are interpreted as regex); you can avoid this warning by specifying engine='python'.\n",
      "  metadata = pd.read_csv(p, sep=\" : \", header=None, index_col=0).T\n"
     ]
    },
    {
     "name": "stdout",
     "output_type": "stream",
     "text": [
      "20211007-142813\n"
     ]
    },
    {
     "name": "stderr",
     "output_type": "stream",
     "text": [
      "..\\base.py:47: ParserWarning: Falling back to the 'python' engine because the 'c' engine does not support regex separators (separators > 1 char and different from '\\s+' are interpreted as regex); you can avoid this warning by specifying engine='python'.\n",
      "  metadata = pd.read_csv(p, sep=\" : \", header=None, index_col=0).T\n"
     ]
    },
    {
     "name": "stdout",
     "output_type": "stream",
     "text": [
      "20211011-102330\n"
     ]
    },
    {
     "name": "stderr",
     "output_type": "stream",
     "text": [
      "..\\base.py:47: ParserWarning: Falling back to the 'python' engine because the 'c' engine does not support regex separators (separators > 1 char and different from '\\s+' are interpreted as regex); you can avoid this warning by specifying engine='python'.\n",
      "  metadata = pd.read_csv(p, sep=\" : \", header=None, index_col=0).T\n"
     ]
    },
    {
     "name": "stdout",
     "output_type": "stream",
     "text": [
      "20211014-163731\n"
     ]
    },
    {
     "name": "stderr",
     "output_type": "stream",
     "text": [
      "..\\base.py:47: ParserWarning: Falling back to the 'python' engine because the 'c' engine does not support regex separators (separators > 1 char and different from '\\s+' are interpreted as regex); you can avoid this warning by specifying engine='python'.\n",
      "  metadata = pd.read_csv(p, sep=\" : \", header=None, index_col=0).T\n"
     ]
    },
    {
     "name": "stdout",
     "output_type": "stream",
     "text": [
      "20211015-175713\n"
     ]
    },
    {
     "name": "stderr",
     "output_type": "stream",
     "text": [
      "..\\base.py:47: ParserWarning: Falling back to the 'python' engine because the 'c' engine does not support regex separators (separators > 1 char and different from '\\s+' are interpreted as regex); you can avoid this warning by specifying engine='python'.\n",
      "  metadata = pd.read_csv(p, sep=\" : \", header=None, index_col=0).T\n"
     ]
    }
   ],
   "source": [
    "FS11 = base.MultiDaysBeaconPosition(root[0:5], tags[0:5], has_beacon = True, has_metadata= True)"
   ]
  },
  {
   "cell_type": "code",
   "execution_count": 20,
   "metadata": {},
   "outputs": [
    {
     "data": {
      "text/plain": [
       "array([[ 1.63361003e+09, -1.59045861e-01, -5.29456926e-01],\n",
       "       [ 1.63361032e+09, -1.59045861e-01, -5.29456926e-01],\n",
       "       [ 1.63361038e+09, -2.48865120e-01,  7.34667226e-01],\n",
       "       [ 1.63361046e+09, -2.48865120e-01,  7.34667226e-01],\n",
       "       [ 1.63361049e+09, -2.52951041e-01, -2.55863060e-02],\n",
       "       [ 1.63361056e+09, -2.52951041e-01, -2.55863060e-02],\n",
       "       [ 1.63361061e+09,  1.99776237e-01, -4.28890912e-01],\n",
       "       [ 1.63361063e+09,  1.99776237e-01, -4.28890912e-01],\n",
       "       [ 1.63361072e+09, -1.34980767e-01,  4.15106102e-01],\n",
       "       [ 1.63361094e+09, -1.34980767e-01,  4.15106102e-01],\n",
       "       [ 1.63361096e+09,  2.92020227e-01, -7.03357002e-01],\n",
       "       [ 1.63361103e+09,  2.92020227e-01, -7.03357002e-01],\n",
       "       [ 1.63361123e+09, -9.92367795e-02, -3.62636841e-01]])"
      ]
     },
     "execution_count": 20,
     "metadata": {},
     "output_type": "execute_result"
    }
   ],
   "source": [
    "FS11.dataset_list[1].beacon_data"
   ]
  },
  {
   "cell_type": "code",
   "execution_count": 21,
   "metadata": {},
   "outputs": [
    {
     "data": {
      "text/plain": [
       "array([0.00751276, 0.00375954, 0.00610914, ..., 0.00032921, 0.00017164,\n",
       "       0.00035288])"
      ]
     },
     "execution_count": 21,
     "metadata": {},
     "output_type": "execute_result"
    }
   ],
   "source": [
    "FS11.dataset_list[1].displacement"
   ]
  },
  {
   "cell_type": "code",
   "execution_count": 22,
   "metadata": {},
   "outputs": [
    {
     "data": {
      "text/plain": [
       "array([[-0.15904586, -0.52945693],\n",
       "       [-0.15904586, -0.52945693],\n",
       "       [-0.24886512,  0.73466723],\n",
       "       [-0.24886512,  0.73466723],\n",
       "       [-0.25295104, -0.02558631],\n",
       "       [-0.25295104, -0.02558631],\n",
       "       [ 0.19977624, -0.42889091],\n",
       "       [ 0.19977624, -0.42889091],\n",
       "       [-0.13498077,  0.4151061 ],\n",
       "       [-0.13498077,  0.4151061 ],\n",
       "       [ 0.29202023, -0.703357  ],\n",
       "       [ 0.29202023, -0.703357  ],\n",
       "       [-0.09923678, -0.36263684]])"
      ]
     },
     "execution_count": 22,
     "metadata": {},
     "output_type": "execute_result"
    }
   ],
   "source": [
    "FS11.dataset_list[1].trial_beacon"
   ]
  },
  {
   "cell_type": "code",
   "execution_count": 23,
   "metadata": {},
   "outputs": [
    {
     "name": "stderr",
     "output_type": "stream",
     "text": [
      "D:\\Software\\anaconda\\envs\\project\\lib\\site-packages\\numpy\\core\\fromnumeric.py:2009: VisibleDeprecationWarning: Creating an ndarray from ragged nested sequences (which is a list-or-tuple of lists-or-tuples-or ndarrays with different lengths or shapes) is deprecated. If you meant to do this, you must specify 'dtype=object' when creating the ndarray.\n",
      "  result = asarray(a).shape\n"
     ]
    },
    {
     "data": {
      "text/plain": [
       "'Thu Oct  7 14:28:37 2021'"
      ]
     },
     "execution_count": 23,
     "metadata": {},
     "output_type": "execute_result"
    }
   ],
   "source": [
    "# Time of the trial \n",
    "one = FS11.dataset_list[1].trial_list[0][1][0]\n",
    "np.shape(FS11.dataset_list[1].trial_list)\n",
    "my_time=datetime.datetime.fromtimestamp(one).strftime('%c')\n",
    "my_time"
   ]
  },
  {
   "cell_type": "code",
   "execution_count": 24,
   "metadata": {},
   "outputs": [
    {
     "data": {
      "text/plain": [
       "array([[1.63361003e+09],\n",
       "       [1.63361003e+09],\n",
       "       [1.63361003e+09],\n",
       "       ...,\n",
       "       [1.63361032e+09],\n",
       "       [1.63361032e+09],\n",
       "       [1.63361032e+09]])"
      ]
     },
     "execution_count": 24,
     "metadata": {},
     "output_type": "execute_result"
    }
   ],
   "source": [
    "FS11.trial_list[1][1][:,:1]\n"
   ]
  },
  {
   "cell_type": "code",
   "execution_count": 25,
   "metadata": {},
   "outputs": [
    {
     "name": "stdout",
     "output_type": "stream",
     "text": [
      "Wed Oct  6 16:19:23 2021\n",
      "Wed Oct  6 16:19:23 2021\n",
      "Wed Oct  6 16:19:23 2021\n",
      "Wed Oct  6 16:19:23 2021\n",
      "Wed Oct  6 16:19:23 2021\n"
     ]
    }
   ],
   "source": [
    "for time in FS11.trial_list[0][1][:,:3][0:5]:\n",
    "    print(datetime.datetime.fromtimestamp(time[0]).strftime('%c'))"
   ]
  },
  {
   "cell_type": "code",
   "execution_count": 26,
   "metadata": {},
   "outputs": [
    {
     "data": {
      "text/plain": [
       "array([[ 1.63361003e+09, -9.82588583e-02, -5.18211448e-01],\n",
       "       [ 1.63361003e+09, -9.76944822e-02, -5.19502553e-01],\n",
       "       [ 1.63361003e+09, -9.49423459e-02, -5.17282477e-01],\n",
       "       ...,\n",
       "       [ 1.63361032e+09, -2.07479088e-01, -5.23433341e-01],\n",
       "       [ 1.63361032e+09, -2.07479088e-01, -5.23433341e-01],\n",
       "       [ 1.63361032e+09, -2.07479088e-01, -5.23433341e-01]])"
      ]
     },
     "execution_count": 26,
     "metadata": {},
     "output_type": "execute_result"
    }
   ],
   "source": [
    "FS11.trial_list[1][1][:,:3]"
   ]
  },
  {
   "cell_type": "code",
   "execution_count": 27,
   "metadata": {},
   "outputs": [],
   "source": [
    "#Looks at straightness only for one moment\n",
    "#show straightness over the whole time as said \n",
    "straightness_time = path_analysis.straightness_over_time(FS11.trial_list[0][1][:,:3], time_window=3)"
   ]
  },
  {
   "cell_type": "code",
   "execution_count": 28,
   "metadata": {},
   "outputs": [
    {
     "data": {
      "text/plain": [
       "[<matplotlib.lines.Line2D at 0x5867370>]"
      ]
     },
     "execution_count": 28,
     "metadata": {},
     "output_type": "execute_result"
    },
    {
     "data": {
      "image/png": "[encoded data removed]",
      "text/plain": [
       "<Figure size 432x288 with 1 Axes>"
      ]
     },
     "metadata": {
      "needs_background": "light"
     },
     "output_type": "display_data"
    }
   ],
   "source": [
    "plt.plot(straightness_time[0], )"
   ]
  },
  {
   "cell_type": "code",
   "execution_count": 72,
   "metadata": {},
   "outputs": [
    {
     "name": "stderr",
     "output_type": "stream",
     "text": [
      "..\\path_analysis.py:89: RuntimeWarning: invalid value encountered in double_scalars\n",
      "  straightness.append(straight_length / trajectory_displacement)\n",
      "<ipython-input-72-70a5aa8a473a>:27: RuntimeWarning: Mean of empty slice\n",
      "  average_vis = np.nanmean(visible,axis=1)\n",
      "<ipython-input-72-70a5aa8a473a>:29: RuntimeWarning: Mean of empty slice\n",
      "  average_invis = np.nanmean(invisible,axis=1)\n",
      "..\\path_analysis.py:89: RuntimeWarning: invalid value encountered in double_scalars\n",
      "  straightness.append(straight_length / trajectory_displacement)\n",
      "<ipython-input-72-70a5aa8a473a>:27: RuntimeWarning: Mean of empty slice\n",
      "  average_vis = np.nanmean(visible,axis=1)\n",
      "<ipython-input-72-70a5aa8a473a>:29: RuntimeWarning: Mean of empty slice\n",
      "  average_invis = np.nanmean(invisible,axis=1)\n",
      "..\\path_analysis.py:89: RuntimeWarning: invalid value encountered in double_scalars\n",
      "  straightness.append(straight_length / trajectory_displacement)\n",
      "<ipython-input-72-70a5aa8a473a>:27: RuntimeWarning: Mean of empty slice\n",
      "  average_vis = np.nanmean(visible,axis=1)\n",
      "<ipython-input-72-70a5aa8a473a>:29: RuntimeWarning: Mean of empty slice\n",
      "  average_invis = np.nanmean(invisible,axis=1)\n",
      "..\\path_analysis.py:89: RuntimeWarning: invalid value encountered in double_scalars\n",
      "  straightness.append(straight_length / trajectory_displacement)\n",
      "<ipython-input-72-70a5aa8a473a>:27: RuntimeWarning: Mean of empty slice\n",
      "  average_vis = np.nanmean(visible,axis=1)\n",
      "<ipython-input-72-70a5aa8a473a>:29: RuntimeWarning: Mean of empty slice\n",
      "  average_invis = np.nanmean(invisible,axis=1)\n",
      "..\\path_analysis.py:89: RuntimeWarning: invalid value encountered in double_scalars\n",
      "  straightness.append(straight_length / trajectory_displacement)\n",
      "<ipython-input-72-70a5aa8a473a>:27: RuntimeWarning: Mean of empty slice\n",
      "  average_vis = np.nanmean(visible,axis=1)\n",
      "<ipython-input-72-70a5aa8a473a>:29: RuntimeWarning: Mean of empty slice\n",
      "  average_invis = np.nanmean(invisible,axis=1)\n"
     ]
    },
    {
     "data": {
      "image/png": "[encoded data removed]",
      "text/plain": [
       "<Figure size 432x288 with 1 Axes>"
      ]
     },
     "metadata": {
      "needs_background": "light"
     },
     "output_type": "display_data"
    }
   ],
   "source": [
    "straightness_list_vis = []\n",
    "straightness_list_invis = []\n",
    "for k in range (len(FS11.trial_list)):\n",
    "    trial_num = len(FS11.trial_list[k][:])\n",
    "    visible=np.nan*np.ones((250,trial_num))\n",
    "    invisible=np.nan*np.ones((250,trial_num))\n",
    "    for i in range(len(FS11.trial_list[k])):\n",
    "#         print(np.shape(FS11.trial_list[k][i][:,:3])[0])\n",
    "        if np.shape(FS11.trial_list[k][i][:,:3])[0]<150: \n",
    "            straightness_time = path_analysis.straightness_over_time(FS11.trial_list[k][i][:,:3], time_window=1)\n",
    "        else:\n",
    "            straightness_time = path_analysis.straightness_over_time(FS11.trial_list[k][i][:,:3], time_window=3)\n",
    "        \n",
    "\n",
    "        if FS11.trial_visible[k][i]:\n",
    "#             print(FS11.trial_visible[k][1])\n",
    "#             plt.plot(straightness_time[0])\n",
    "            invisible[:len(straightness_time[0]),i]=straightness_time[0]\n",
    "    #         plt.gca().invert_xaxis()\n",
    "        else:\n",
    "#             plt.plot(straightness_time[0],c='cyan')\n",
    "    #         plt.gca().invert_xaxis()\n",
    "    #         print(straightness_time[0])\n",
    "            visible[:len(straightness_time[0]),i]=straightness_time[0]\n",
    "    #         np.concatenate(visible,np.array(straightness_time[0]) )\n",
    "#     print(average_vis )\n",
    "    average_vis = np.nanmean(visible,axis=1)\n",
    "    straightness_list_vis.append(average_vis)\n",
    "    average_invis = np.nanmean(invisible,axis=1)\n",
    "    straightness_list_invis.append(average_invis)\n",
    "    \n",
    "    plt.plot(average_vis,c='red')\n",
    "    plt.plot(average_invis,c='yellow')\n",
    "    plt.gca().invert_xaxis()\n",
    "np.save(processed +'%s_straightness_FS11_visible',average_vis)\n",
    "np.save(processed +'%s_straightness_FS11_invisible',straightness_list_invis)"
   ]
  },
  {
   "cell_type": "markdown",
   "metadata": {},
   "source": [
    "# Generate and save average per session per animal - might need to seperate due to memory issues. "
   ]
  },
  {
   "cell_type": "markdown",
   "metadata": {},
   "source": [
    "# Plot and save per animal "
   ]
  },
  {
   "cell_type": "code",
   "execution_count": 17,
   "metadata": {},
   "outputs": [],
   "source": [
    "\n",
    "\n",
    "\n",
    "def plot_safe_per_animal (animal,save):\n",
    "\n",
    "    root, tags = Make_tags (animal)\n",
    "    print(len(tags))\n",
    "    FS11 = base.MultiDaysBeaconPosition(root[0:44], tags[0:44], has_beacon = True, has_metadata= True)\n",
    "    \n",
    "    straightness_list_vis = []\n",
    "    straightness_list_invis = []\n",
    "\n",
    "    for k in range (len(FS11.trial_list)):\n",
    "        trial_num = len(FS11.trial_list[k][:])\n",
    "        visible=np.nan*np.ones((260,trial_num))\n",
    "        invisible=np.nan*np.ones((260,trial_num))\n",
    "        for i in range(len(FS11.trial_list[k])):\n",
    "    #         print(np.shape(FS11.trial_list[k][i][:,:3])[0])\n",
    "    \n",
    "            if np.shape(FS11.trial_list[k][i][:,:3])[0]<260: \n",
    "                continue\n",
    "            else:\n",
    "                straightness_time = path_analysis.straightness_over_time(FS11.trial_list[k][i][:,:3], time_window=5)\n",
    "\n",
    "\n",
    "            if FS11.trial_visible[k][i]:\n",
    "    #             print(FS11.trial_visible[k][1])\n",
    "    #             plt.plot(straightness_time[0])\n",
    "                invisible[:len(straightness_time[0]),i]=straightness_time[0]\n",
    "        #         plt.gca().invert_xaxis()\n",
    "            else:\n",
    "    #             plt.plot(straightness_time[0],c='cyan')\n",
    "        #         plt.gca().invert_xaxis()\n",
    "        #         print(straightness_time[0])\n",
    "                visible[:len(straightness_time[0]),i]=straightness_time[0]\n",
    "        #         np.concatenate(visible,np.array(straightness_time[0]) )\n",
    "    #     print(average_vis )\n",
    "        average_vis = np.nanmean(visible,axis=1)\n",
    "        straightness_list_vis.append(average_vis)\n",
    "        average_invis = np.nanmean(invisible,axis=1)\n",
    "        straightness_list_invis.append(average_invis)\n",
    "\n",
    "        plt.plot(average_vis,c='red')\n",
    "        plt.plot(average_invis,c='yellow')\n",
    "        plt.gca().invert_xaxis()\n",
    "    np.save(processed +'%s_straightness_visible'%(save) ,straightness_list_vis)\n",
    "    np.save(processed +'%s_straightness_invisible'%(save),straightness_list_invis)\n",
    "\n",
    "# plot_safe_per_animal (animal =\"FS10/Training/\",save= \"FS10_training\")"
   ]
  },
  {
   "cell_type": "code",
   "execution_count": 48,
   "metadata": {},
   "outputs": [],
   "source": [
    "FS11_vis= np.load(processed +'FS11_training_straightness_visible.npy')"
   ]
  },
  {
   "cell_type": "code",
   "execution_count": 49,
   "metadata": {},
   "outputs": [
    {
     "data": {
      "text/plain": [
       "array([0.34426755, 0.34410582, 0.34480007, 0.34687839, 0.34660931,\n",
       "       0.34726421, 0.34821017, 0.34721119, 0.34726076, 0.34616459,\n",
       "       0.34551213, 0.34349465, 0.34322272, 0.34288164, 0.34120728,\n",
       "       0.33990354, 0.33799073, 0.33501014, 0.33453604, 0.3320559 ,\n",
       "       0.33072244, 0.32820157, 0.32636512, 0.3248065 , 0.32203068,\n",
       "       0.3197445 , 0.31860726, 0.31543931, 0.31367688, 0.31010343,\n",
       "       0.30789284, 0.30566878, 0.30378933, 0.30226302, 0.29787876,\n",
       "       0.29573358, 0.29504886, 0.29266986, 0.29224819, 0.28898217,\n",
       "       0.28819077, 0.28634373, 0.28864004, 0.28858045, 0.28656539,\n",
       "       0.28540047, 0.2856718 , 0.28541742, 0.28397233, 0.28145325,\n",
       "       0.28051222, 0.27999302, 0.2796652 , 0.2792708 , 0.27624727,\n",
       "       0.2867934 , 0.28607028, 0.28517339, 0.28532619, 0.27875053,\n",
       "       0.27705837, 0.2674283 , 0.26503706, 0.26265367, 0.26873408,\n",
       "       0.26767383, 0.26401675, 0.25946043, 0.255989  , 0.25160887,\n",
       "       0.24860159, 0.24677996, 0.24460601, 0.24014025, 0.23695662,\n",
       "       0.23448592, 0.23446731, 0.23332471, 0.23365769, 0.25025727,\n",
       "       0.2498378 , 0.2506266 , 0.25252823, 0.25297442, 0.25365573,\n",
       "       0.2520112 , 0.24955051, 0.24795845, 0.25221205, 0.25254316,\n",
       "       0.25172335, 0.25226609, 0.24670416, 0.2496231 , 0.2516289 ,\n",
       "       0.24812126, 0.24676764, 0.24835831, 0.25074493, 0.25133605,\n",
       "       0.25132624, 0.25286382, 0.25473198, 0.25698665, 0.25513848,\n",
       "       0.25494897, 0.25470318, 0.2433203 , 0.24455216, 0.24608306,\n",
       "       0.24452122, 0.25002209, 0.24930141, 0.25672186, 0.25663754,\n",
       "       0.26123805, 0.25567266, 0.26128823, 0.2643475 , 0.26491274,\n",
       "       0.2659348 , 0.26596925, 0.27598448, 0.27761923, 0.27866987,\n",
       "       0.27988905, 0.2842664 , 0.2884622 , 0.2971982 , 0.30108532,\n",
       "       0.30375155, 0.30782892, 0.31336272, 0.31670313, 0.31586232,\n",
       "       0.31865908, 0.32302864, 0.3233825 , 0.32474882, 0.32281884,\n",
       "       0.32058709, 0.3227041 , 0.32250501, 0.32466988, 0.32677989,\n",
       "       0.33254719, 0.33756055, 0.34049932, 0.34328814, 0.34582681,\n",
       "       0.35032536, 0.34746492, 0.34657791, 0.34599094, 0.34609555,\n",
       "       0.34556238, 0.34268889, 0.34144604, 0.34256691, 0.34570092,\n",
       "       0.35172501, 0.35421655, 0.36547149, 0.3704258 , 0.37839447,\n",
       "       0.38798904, 0.39455288, 0.40435651, 0.41051673, 0.41805662,\n",
       "       0.4218207 , 0.42628416, 0.43116647, 0.43557112, 0.43854058,\n",
       "       0.43915225, 0.44095534, 0.44319071, 0.44514158, 0.44645453,\n",
       "       0.44749091, 0.44798576, 0.45133184, 0.45335334, 0.46670884,\n",
       "       0.46912395, 0.47241578, 0.4795197 , 0.48138687, 0.48755921,\n",
       "       0.4903199 , 0.49757486, 0.50231462, 0.5119577 , 0.52092617,\n",
       "       0.53695377, 0.54418856, 0.55730864, 0.56933958, 0.58199866,\n",
       "       0.59947093, 0.60920064, 0.62053119, 0.62647862, 0.63445389,\n",
       "       0.63279168, 0.63089386, 0.6264925 , 0.61968004, 0.6099094 ,\n",
       "       0.60039024, 0.58994981, 0.57990982, 0.57326747, 0.56474247,\n",
       "       0.55781285, 0.55320042, 0.55055457, 0.55518484, 0.55181969,\n",
       "       0.54653346, 0.5434067 , 0.53755905, 0.53210384, 0.52854437,\n",
       "       0.53661685, 0.56266079, 0.58198923, 0.60602373, 0.63801351,\n",
       "       0.65067854, 0.6741804 , 0.69171677, 0.71337268, 0.75936895,\n",
       "       0.78102751, 0.80983152, 0.82203884, 0.84212076, 0.84509231,\n",
       "       0.8677395 , 0.85488994, 0.84014007, 0.8603789 , 0.92441737,\n",
       "       0.94530414, 0.99252475, 1.        ,        nan,        nan,\n",
       "              nan,        nan,        nan,        nan,        nan,\n",
       "              nan,        nan,        nan,        nan,        nan])"
      ]
     },
     "execution_count": 49,
     "metadata": {},
     "output_type": "execute_result"
    }
   ],
   "source": [
    "FS11_vis[1]"
   ]
  },
  {
   "cell_type": "markdown",
   "metadata": {},
   "source": [
    "## FS11 done but only part way - as thewere was a double scalars bug - similiar with FS10 "
   ]
  },
  {
   "cell_type": "code",
   "execution_count": 20,
   "metadata": {},
   "outputs": [
    {
     "name": "stdout",
     "output_type": "stream",
     "text": [
      "22\n",
      "20210112-180433\n"
     ]
    },
    {
     "name": "stderr",
     "output_type": "stream",
     "text": [
      "..\\base.py:47: ParserWarning: Falling back to the 'python' engine because the 'c' engine does not support regex separators (separators > 1 char and different from '\\s+' are interpreted as regex); you can avoid this warning by specifying engine='python'.\n",
      "  metadata = pd.read_csv(p, sep=\" : \", header=None, index_col=0).T\n"
     ]
    },
    {
     "name": "stdout",
     "output_type": "stream",
     "text": [
      "20201125-185930\n"
     ]
    },
    {
     "name": "stderr",
     "output_type": "stream",
     "text": [
      "..\\base.py:47: ParserWarning: Falling back to the 'python' engine because the 'c' engine does not support regex separators (separators > 1 char and different from '\\s+' are interpreted as regex); you can avoid this warning by specifying engine='python'.\n",
      "  metadata = pd.read_csv(p, sep=\" : \", header=None, index_col=0).T\n"
     ]
    },
    {
     "name": "stdout",
     "output_type": "stream",
     "text": [
      "20201201-173129\n"
     ]
    },
    {
     "name": "stderr",
     "output_type": "stream",
     "text": [
      "..\\base.py:47: ParserWarning: Falling back to the 'python' engine because the 'c' engine does not support regex separators (separators > 1 char and different from '\\s+' are interpreted as regex); you can avoid this warning by specifying engine='python'.\n",
      "  metadata = pd.read_csv(p, sep=\" : \", header=None, index_col=0).T\n"
     ]
    },
    {
     "name": "stdout",
     "output_type": "stream",
     "text": [
      "20201202-181328\n"
     ]
    },
    {
     "name": "stderr",
     "output_type": "stream",
     "text": [
      "..\\base.py:47: ParserWarning: Falling back to the 'python' engine because the 'c' engine does not support regex separators (separators > 1 char and different from '\\s+' are interpreted as regex); you can avoid this warning by specifying engine='python'.\n",
      "  metadata = pd.read_csv(p, sep=\" : \", header=None, index_col=0).T\n"
     ]
    },
    {
     "name": "stdout",
     "output_type": "stream",
     "text": [
      "20201203-214652\n"
     ]
    },
    {
     "name": "stderr",
     "output_type": "stream",
     "text": [
      "..\\base.py:47: ParserWarning: Falling back to the 'python' engine because the 'c' engine does not support regex separators (separators > 1 char and different from '\\s+' are interpreted as regex); you can avoid this warning by specifying engine='python'.\n",
      "  metadata = pd.read_csv(p, sep=\" : \", header=None, index_col=0).T\n"
     ]
    },
    {
     "name": "stdout",
     "output_type": "stream",
     "text": [
      "20201208-223904\n"
     ]
    },
    {
     "name": "stderr",
     "output_type": "stream",
     "text": [
      "..\\base.py:47: ParserWarning: Falling back to the 'python' engine because the 'c' engine does not support regex separators (separators > 1 char and different from '\\s+' are interpreted as regex); you can avoid this warning by specifying engine='python'.\n",
      "  metadata = pd.read_csv(p, sep=\" : \", header=None, index_col=0).T\n"
     ]
    },
    {
     "name": "stdout",
     "output_type": "stream",
     "text": [
      "20201209-120834\n"
     ]
    },
    {
     "name": "stderr",
     "output_type": "stream",
     "text": [
      "..\\base.py:47: ParserWarning: Falling back to the 'python' engine because the 'c' engine does not support regex separators (separators > 1 char and different from '\\s+' are interpreted as regex); you can avoid this warning by specifying engine='python'.\n",
      "  metadata = pd.read_csv(p, sep=\" : \", header=None, index_col=0).T\n"
     ]
    },
    {
     "name": "stdout",
     "output_type": "stream",
     "text": [
      "20201211-175842\n"
     ]
    },
    {
     "name": "stderr",
     "output_type": "stream",
     "text": [
      "..\\base.py:47: ParserWarning: Falling back to the 'python' engine because the 'c' engine does not support regex separators (separators > 1 char and different from '\\s+' are interpreted as regex); you can avoid this warning by specifying engine='python'.\n",
      "  metadata = pd.read_csv(p, sep=\" : \", header=None, index_col=0).T\n"
     ]
    },
    {
     "name": "stdout",
     "output_type": "stream",
     "text": [
      "20201212-210900\n"
     ]
    },
    {
     "name": "stderr",
     "output_type": "stream",
     "text": [
      "..\\base.py:47: ParserWarning: Falling back to the 'python' engine because the 'c' engine does not support regex separators (separators > 1 char and different from '\\s+' are interpreted as regex); you can avoid this warning by specifying engine='python'.\n",
      "  metadata = pd.read_csv(p, sep=\" : \", header=None, index_col=0).T\n"
     ]
    },
    {
     "name": "stdout",
     "output_type": "stream",
     "text": [
      "20201213-215429\n"
     ]
    },
    {
     "name": "stderr",
     "output_type": "stream",
     "text": [
      "..\\base.py:47: ParserWarning: Falling back to the 'python' engine because the 'c' engine does not support regex separators (separators > 1 char and different from '\\s+' are interpreted as regex); you can avoid this warning by specifying engine='python'.\n",
      "  metadata = pd.read_csv(p, sep=\" : \", header=None, index_col=0).T\n"
     ]
    },
    {
     "name": "stdout",
     "output_type": "stream",
     "text": [
      "20201217-171209\n"
     ]
    },
    {
     "name": "stderr",
     "output_type": "stream",
     "text": [
      "..\\base.py:47: ParserWarning: Falling back to the 'python' engine because the 'c' engine does not support regex separators (separators > 1 char and different from '\\s+' are interpreted as regex); you can avoid this warning by specifying engine='python'.\n",
      "  metadata = pd.read_csv(p, sep=\" : \", header=None, index_col=0).T\n"
     ]
    },
    {
     "name": "stdout",
     "output_type": "stream",
     "text": [
      "20201217-172420\n"
     ]
    },
    {
     "name": "stderr",
     "output_type": "stream",
     "text": [
      "..\\base.py:47: ParserWarning: Falling back to the 'python' engine because the 'c' engine does not support regex separators (separators > 1 char and different from '\\s+' are interpreted as regex); you can avoid this warning by specifying engine='python'.\n",
      "  metadata = pd.read_csv(p, sep=\" : \", header=None, index_col=0).T\n"
     ]
    },
    {
     "name": "stdout",
     "output_type": "stream",
     "text": [
      "20201218-202333\n"
     ]
    },
    {
     "name": "stderr",
     "output_type": "stream",
     "text": [
      "..\\base.py:47: ParserWarning: Falling back to the 'python' engine because the 'c' engine does not support regex separators (separators > 1 char and different from '\\s+' are interpreted as regex); you can avoid this warning by specifying engine='python'.\n",
      "  metadata = pd.read_csv(p, sep=\" : \", header=None, index_col=0).T\n"
     ]
    },
    {
     "name": "stdout",
     "output_type": "stream",
     "text": [
      "20201220-174618\n"
     ]
    },
    {
     "name": "stderr",
     "output_type": "stream",
     "text": [
      "..\\base.py:47: ParserWarning: Falling back to the 'python' engine because the 'c' engine does not support regex separators (separators > 1 char and different from '\\s+' are interpreted as regex); you can avoid this warning by specifying engine='python'.\n",
      "  metadata = pd.read_csv(p, sep=\" : \", header=None, index_col=0).T\n"
     ]
    },
    {
     "name": "stdout",
     "output_type": "stream",
     "text": [
      "20201221-122943\n"
     ]
    },
    {
     "name": "stderr",
     "output_type": "stream",
     "text": [
      "..\\base.py:47: ParserWarning: Falling back to the 'python' engine because the 'c' engine does not support regex separators (separators > 1 char and different from '\\s+' are interpreted as regex); you can avoid this warning by specifying engine='python'.\n",
      "  metadata = pd.read_csv(p, sep=\" : \", header=None, index_col=0).T\n"
     ]
    },
    {
     "name": "stdout",
     "output_type": "stream",
     "text": [
      "20201221-211412\n"
     ]
    },
    {
     "name": "stderr",
     "output_type": "stream",
     "text": [
      "..\\base.py:47: ParserWarning: Falling back to the 'python' engine because the 'c' engine does not support regex separators (separators > 1 char and different from '\\s+' are interpreted as regex); you can avoid this warning by specifying engine='python'.\n",
      "  metadata = pd.read_csv(p, sep=\" : \", header=None, index_col=0).T\n"
     ]
    },
    {
     "name": "stdout",
     "output_type": "stream",
     "text": [
      "20201222-144948\n"
     ]
    },
    {
     "name": "stderr",
     "output_type": "stream",
     "text": [
      "..\\base.py:47: ParserWarning: Falling back to the 'python' engine because the 'c' engine does not support regex separators (separators > 1 char and different from '\\s+' are interpreted as regex); you can avoid this warning by specifying engine='python'.\n",
      "  metadata = pd.read_csv(p, sep=\" : \", header=None, index_col=0).T\n"
     ]
    },
    {
     "name": "stdout",
     "output_type": "stream",
     "text": [
      "20201222-214912\n"
     ]
    },
    {
     "name": "stderr",
     "output_type": "stream",
     "text": [
      "..\\base.py:47: ParserWarning: Falling back to the 'python' engine because the 'c' engine does not support regex separators (separators > 1 char and different from '\\s+' are interpreted as regex); you can avoid this warning by specifying engine='python'.\n",
      "  metadata = pd.read_csv(p, sep=\" : \", header=None, index_col=0).T\n"
     ]
    },
    {
     "name": "stdout",
     "output_type": "stream",
     "text": [
      "20201223-125151\n"
     ]
    },
    {
     "name": "stderr",
     "output_type": "stream",
     "text": [
      "..\\base.py:47: ParserWarning: Falling back to the 'python' engine because the 'c' engine does not support regex separators (separators > 1 char and different from '\\s+' are interpreted as regex); you can avoid this warning by specifying engine='python'.\n",
      "  metadata = pd.read_csv(p, sep=\" : \", header=None, index_col=0).T\n"
     ]
    },
    {
     "name": "stdout",
     "output_type": "stream",
     "text": [
      "20201223-205556\n"
     ]
    },
    {
     "name": "stderr",
     "output_type": "stream",
     "text": [
      "..\\base.py:47: ParserWarning: Falling back to the 'python' engine because the 'c' engine does not support regex separators (separators > 1 char and different from '\\s+' are interpreted as regex); you can avoid this warning by specifying engine='python'.\n",
      "  metadata = pd.read_csv(p, sep=\" : \", header=None, index_col=0).T\n"
     ]
    },
    {
     "name": "stdout",
     "output_type": "stream",
     "text": [
      "20210111-163449\n"
     ]
    },
    {
     "name": "stderr",
     "output_type": "stream",
     "text": [
      "..\\base.py:47: ParserWarning: Falling back to the 'python' engine because the 'c' engine does not support regex separators (separators > 1 char and different from '\\s+' are interpreted as regex); you can avoid this warning by specifying engine='python'.\n",
      "  metadata = pd.read_csv(p, sep=\" : \", header=None, index_col=0).T\n"
     ]
    },
    {
     "name": "stdout",
     "output_type": "stream",
     "text": [
      "20201127-182125\n"
     ]
    },
    {
     "name": "stderr",
     "output_type": "stream",
     "text": [
      "..\\base.py:47: ParserWarning: Falling back to the 'python' engine because the 'c' engine does not support regex separators (separators > 1 char and different from '\\s+' are interpreted as regex); you can avoid this warning by specifying engine='python'.\n",
      "  metadata = pd.read_csv(p, sep=\" : \", header=None, index_col=0).T\n",
      "..\\path_analysis.py:89: RuntimeWarning: invalid value encountered in double_scalars\n",
      "  straightness.append(straight_length / trajectory_displacement)\n",
      "<ipython-input-17-07f9a373cf47>:35: RuntimeWarning: Mean of empty slice\n",
      "  average_vis = np.nanmean(visible,axis=1)\n",
      "<ipython-input-17-07f9a373cf47>:37: RuntimeWarning: Mean of empty slice\n",
      "  average_invis = np.nanmean(invisible,axis=1)\n",
      "<ipython-input-17-07f9a373cf47>:35: RuntimeWarning: Mean of empty slice\n",
      "  average_vis = np.nanmean(visible,axis=1)\n",
      "<ipython-input-17-07f9a373cf47>:37: RuntimeWarning: Mean of empty slice\n",
      "  average_invis = np.nanmean(invisible,axis=1)\n",
      "..\\path_analysis.py:89: RuntimeWarning: invalid value encountered in double_scalars\n",
      "  straightness.append(straight_length / trajectory_displacement)\n",
      "<ipython-input-17-07f9a373cf47>:35: RuntimeWarning: Mean of empty slice\n",
      "  average_vis = np.nanmean(visible,axis=1)\n",
      "<ipython-input-17-07f9a373cf47>:37: RuntimeWarning: Mean of empty slice\n",
      "  average_invis = np.nanmean(invisible,axis=1)\n",
      "..\\path_analysis.py:89: RuntimeWarning: invalid value encountered in double_scalars\n",
      "  straightness.append(straight_length / trajectory_displacement)\n",
      "<ipython-input-17-07f9a373cf47>:35: RuntimeWarning: Mean of empty slice\n",
      "  average_vis = np.nanmean(visible,axis=1)\n",
      "<ipython-input-17-07f9a373cf47>:37: RuntimeWarning: Mean of empty slice\n",
      "  average_invis = np.nanmean(invisible,axis=1)\n",
      "..\\path_analysis.py:89: RuntimeWarning: invalid value encountered in double_scalars\n",
      "  straightness.append(straight_length / trajectory_displacement)\n",
      "<ipython-input-17-07f9a373cf47>:35: RuntimeWarning: Mean of empty slice\n",
      "  average_vis = np.nanmean(visible,axis=1)\n",
      "<ipython-input-17-07f9a373cf47>:37: RuntimeWarning: Mean of empty slice\n",
      "  average_invis = np.nanmean(invisible,axis=1)\n",
      "..\\path_analysis.py:89: RuntimeWarning: invalid value encountered in double_scalars\n",
      "  straightness.append(straight_length / trajectory_displacement)\n",
      "<ipython-input-17-07f9a373cf47>:35: RuntimeWarning: Mean of empty slice\n",
      "  average_vis = np.nanmean(visible,axis=1)\n",
      "<ipython-input-17-07f9a373cf47>:37: RuntimeWarning: Mean of empty slice\n",
      "  average_invis = np.nanmean(invisible,axis=1)\n",
      "..\\path_analysis.py:89: RuntimeWarning: invalid value encountered in double_scalars\n",
      "  straightness.append(straight_length / trajectory_displacement)\n",
      "<ipython-input-17-07f9a373cf47>:35: RuntimeWarning: Mean of empty slice\n",
      "  average_vis = np.nanmean(visible,axis=1)\n",
      "<ipython-input-17-07f9a373cf47>:37: RuntimeWarning: Mean of empty slice\n",
      "  average_invis = np.nanmean(invisible,axis=1)\n",
      "..\\path_analysis.py:89: RuntimeWarning: invalid value encountered in double_scalars\n",
      "  straightness.append(straight_length / trajectory_displacement)\n",
      "<ipython-input-17-07f9a373cf47>:35: RuntimeWarning: Mean of empty slice\n",
      "  average_vis = np.nanmean(visible,axis=1)\n",
      "<ipython-input-17-07f9a373cf47>:37: RuntimeWarning: Mean of empty slice\n",
      "  average_invis = np.nanmean(invisible,axis=1)\n",
      "<ipython-input-17-07f9a373cf47>:35: RuntimeWarning: Mean of empty slice\n",
      "  average_vis = np.nanmean(visible,axis=1)\n",
      "<ipython-input-17-07f9a373cf47>:37: RuntimeWarning: Mean of empty slice\n",
      "  average_invis = np.nanmean(invisible,axis=1)\n",
      "..\\path_analysis.py:89: RuntimeWarning: invalid value encountered in double_scalars\n",
      "  straightness.append(straight_length / trajectory_displacement)\n",
      "<ipython-input-17-07f9a373cf47>:35: RuntimeWarning: Mean of empty slice\n",
      "  average_vis = np.nanmean(visible,axis=1)\n",
      "<ipython-input-17-07f9a373cf47>:37: RuntimeWarning: Mean of empty slice\n",
      "  average_invis = np.nanmean(invisible,axis=1)\n",
      "..\\path_analysis.py:89: RuntimeWarning: invalid value encountered in double_scalars\n",
      "  straightness.append(straight_length / trajectory_displacement)\n",
      "<ipython-input-17-07f9a373cf47>:35: RuntimeWarning: Mean of empty slice\n",
      "  average_vis = np.nanmean(visible,axis=1)\n",
      "<ipython-input-17-07f9a373cf47>:37: RuntimeWarning: Mean of empty slice\n",
      "  average_invis = np.nanmean(invisible,axis=1)\n",
      "..\\path_analysis.py:89: RuntimeWarning: invalid value encountered in double_scalars\n",
      "  straightness.append(straight_length / trajectory_displacement)\n",
      "<ipython-input-17-07f9a373cf47>:35: RuntimeWarning: Mean of empty slice\n",
      "  average_vis = np.nanmean(visible,axis=1)\n",
      "<ipython-input-17-07f9a373cf47>:37: RuntimeWarning: Mean of empty slice\n",
      "  average_invis = np.nanmean(invisible,axis=1)\n",
      "..\\path_analysis.py:89: RuntimeWarning: invalid value encountered in double_scalars\n",
      "  straightness.append(straight_length / trajectory_displacement)\n",
      "<ipython-input-17-07f9a373cf47>:35: RuntimeWarning: Mean of empty slice\n",
      "  average_vis = np.nanmean(visible,axis=1)\n",
      "<ipython-input-17-07f9a373cf47>:37: RuntimeWarning: Mean of empty slice\n",
      "  average_invis = np.nanmean(invisible,axis=1)\n",
      "..\\path_analysis.py:89: RuntimeWarning: invalid value encountered in double_scalars\n",
      "  straightness.append(straight_length / trajectory_displacement)\n",
      "<ipython-input-17-07f9a373cf47>:35: RuntimeWarning: Mean of empty slice\n",
      "  average_vis = np.nanmean(visible,axis=1)\n",
      "<ipython-input-17-07f9a373cf47>:37: RuntimeWarning: Mean of empty slice\n",
      "  average_invis = np.nanmean(invisible,axis=1)\n",
      "..\\path_analysis.py:89: RuntimeWarning: invalid value encountered in double_scalars\n",
      "  straightness.append(straight_length / trajectory_displacement)\n",
      "<ipython-input-17-07f9a373cf47>:35: RuntimeWarning: Mean of empty slice\n",
      "  average_vis = np.nanmean(visible,axis=1)\n",
      "<ipython-input-17-07f9a373cf47>:37: RuntimeWarning: Mean of empty slice\n",
      "  average_invis = np.nanmean(invisible,axis=1)\n",
      "<ipython-input-17-07f9a373cf47>:35: RuntimeWarning: Mean of empty slice\n",
      "  average_vis = np.nanmean(visible,axis=1)\n",
      "<ipython-input-17-07f9a373cf47>:37: RuntimeWarning: Mean of empty slice\n",
      "  average_invis = np.nanmean(invisible,axis=1)\n",
      "..\\path_analysis.py:89: RuntimeWarning: invalid value encountered in double_scalars\n",
      "  straightness.append(straight_length / trajectory_displacement)\n",
      "<ipython-input-17-07f9a373cf47>:35: RuntimeWarning: Mean of empty slice\n",
      "  average_vis = np.nanmean(visible,axis=1)\n",
      "<ipython-input-17-07f9a373cf47>:37: RuntimeWarning: Mean of empty slice\n",
      "  average_invis = np.nanmean(invisible,axis=1)\n",
      "..\\path_analysis.py:89: RuntimeWarning: invalid value encountered in double_scalars\n",
      "  straightness.append(straight_length / trajectory_displacement)\n",
      "<ipython-input-17-07f9a373cf47>:35: RuntimeWarning: Mean of empty slice\n",
      "  average_vis = np.nanmean(visible,axis=1)\n",
      "<ipython-input-17-07f9a373cf47>:37: RuntimeWarning: Mean of empty slice\n",
      "  average_invis = np.nanmean(invisible,axis=1)\n",
      "..\\path_analysis.py:89: RuntimeWarning: invalid value encountered in double_scalars\n",
      "  straightness.append(straight_length / trajectory_displacement)\n",
      "<ipython-input-17-07f9a373cf47>:35: RuntimeWarning: Mean of empty slice\n",
      "  average_vis = np.nanmean(visible,axis=1)\n",
      "<ipython-input-17-07f9a373cf47>:37: RuntimeWarning: Mean of empty slice\n",
      "  average_invis = np.nanmean(invisible,axis=1)\n",
      "..\\path_analysis.py:89: RuntimeWarning: invalid value encountered in double_scalars\n",
      "  straightness.append(straight_length / trajectory_displacement)\n",
      "<ipython-input-17-07f9a373cf47>:35: RuntimeWarning: Mean of empty slice\n",
      "  average_vis = np.nanmean(visible,axis=1)\n",
      "<ipython-input-17-07f9a373cf47>:37: RuntimeWarning: Mean of empty slice\n",
      "  average_invis = np.nanmean(invisible,axis=1)\n",
      "..\\path_analysis.py:89: RuntimeWarning: invalid value encountered in double_scalars\n",
      "  straightness.append(straight_length / trajectory_displacement)\n",
      "<ipython-input-17-07f9a373cf47>:35: RuntimeWarning: Mean of empty slice\n",
      "  average_vis = np.nanmean(visible,axis=1)\n",
      "<ipython-input-17-07f9a373cf47>:37: RuntimeWarning: Mean of empty slice\n",
      "  average_invis = np.nanmean(invisible,axis=1)\n",
      "..\\path_analysis.py:89: RuntimeWarning: invalid value encountered in double_scalars\n",
      "  straightness.append(straight_length / trajectory_displacement)\n",
      "<ipython-input-17-07f9a373cf47>:35: RuntimeWarning: Mean of empty slice\n",
      "  average_vis = np.nanmean(visible,axis=1)\n",
      "<ipython-input-17-07f9a373cf47>:37: RuntimeWarning: Mean of empty slice\n",
      "  average_invis = np.nanmean(invisible,axis=1)\n"
     ]
    },
    {
     "data": {
      "image/png": "[encoded data removed]",
      "text/plain": [
       "<Figure size 432x288 with 1 Axes>"
      ]
     },
     "metadata": {
      "needs_background": "light"
     },
     "output_type": "display_data"
    }
   ],
   "source": [
    "# plot_safe_per_animal (animal =\"FS10/Training/\",save= \"FS10_training\")\n",
    "# plot_safe_per_animal (animal =\"FS09/Training/\",save= \"FS09_training\")\n",
    "# plot_safe_per_animal (animal =\"FS08/Training/\",save= \"FS08_training\")\n",
    "\n",
    "# plot_safe_per_animal (animal =\"FS06_new/\",save= \"FS06_training\")\n",
    "# # plot_safe_per_animal (animal =\"FS05\",save= \"FS05_training\") - will need to change offsets \n",
    "# plot_safe_per_animal (animal =\"FS04_new/\",save= \"FS04_training\")\n",
    "plot_safe_per_animal (animal =\"FS03_new/\",save= \"FS03_training\")\n"
   ]
  },
  {
   "cell_type": "code",
   "execution_count": 44,
   "metadata": {
    "collapsed": true,
    "jupyter": {
     "outputs_hidden": true
    }
   },
   "outputs": [
    {
     "name": "stdout",
     "output_type": "stream",
     "text": [
      "97\n"
     ]
    },
    {
     "name": "stderr",
     "output_type": "stream",
     "text": [
      "..\\base.py:47: ParserWarning: Falling back to the 'python' engine because the 'c' engine does not support regex separators (separators > 1 char and different from '\\s+' are interpreted as regex); you can avoid this warning by specifying engine='python'.\n",
      "  metadata = pd.read_csv(p, sep=\" : \", header=None, index_col=0).T\n",
      "..\\base.py:47: ParserWarning: Falling back to the 'python' engine because the 'c' engine does not support regex separators (separators > 1 char and different from '\\s+' are interpreted as regex); you can avoid this warning by specifying engine='python'.\n",
      "  metadata = pd.read_csv(p, sep=\" : \", header=None, index_col=0).T\n",
      "..\\base.py:47: ParserWarning: Falling back to the 'python' engine because the 'c' engine does not support regex separators (separators > 1 char and different from '\\s+' are interpreted as regex); you can avoid this warning by specifying engine='python'.\n",
      "  metadata = pd.read_csv(p, sep=\" : \", header=None, index_col=0).T\n",
      "..\\base.py:47: ParserWarning: Falling back to the 'python' engine because the 'c' engine does not support regex separators (separators > 1 char and different from '\\s+' are interpreted as regex); you can avoid this warning by specifying engine='python'.\n",
      "  metadata = pd.read_csv(p, sep=\" : \", header=None, index_col=0).T\n",
      "..\\base.py:47: ParserWarning: Falling back to the 'python' engine because the 'c' engine does not support regex separators (separators > 1 char and different from '\\s+' are interpreted as regex); you can avoid this warning by specifying engine='python'.\n",
      "  metadata = pd.read_csv(p, sep=\" : \", header=None, index_col=0).T\n",
      "..\\base.py:47: ParserWarning: Falling back to the 'python' engine because the 'c' engine does not support regex separators (separators > 1 char and different from '\\s+' are interpreted as regex); you can avoid this warning by specifying engine='python'.\n",
      "  metadata = pd.read_csv(p, sep=\" : \", header=None, index_col=0).T\n",
      "..\\base.py:47: ParserWarning: Falling back to the 'python' engine because the 'c' engine does not support regex separators (separators > 1 char and different from '\\s+' are interpreted as regex); you can avoid this warning by specifying engine='python'.\n",
      "  metadata = pd.read_csv(p, sep=\" : \", header=None, index_col=0).T\n",
      "..\\base.py:47: ParserWarning: Falling back to the 'python' engine because the 'c' engine does not support regex separators (separators > 1 char and different from '\\s+' are interpreted as regex); you can avoid this warning by specifying engine='python'.\n",
      "  metadata = pd.read_csv(p, sep=\" : \", header=None, index_col=0).T\n",
      "..\\base.py:47: ParserWarning: Falling back to the 'python' engine because the 'c' engine does not support regex separators (separators > 1 char and different from '\\s+' are interpreted as regex); you can avoid this warning by specifying engine='python'.\n",
      "  metadata = pd.read_csv(p, sep=\" : \", header=None, index_col=0).T\n",
      "..\\base.py:47: ParserWarning: Falling back to the 'python' engine because the 'c' engine does not support regex separators (separators > 1 char and different from '\\s+' are interpreted as regex); you can avoid this warning by specifying engine='python'.\n",
      "  metadata = pd.read_csv(p, sep=\" : \", header=None, index_col=0).T\n",
      "..\\base.py:47: ParserWarning: Falling back to the 'python' engine because the 'c' engine does not support regex separators (separators > 1 char and different from '\\s+' are interpreted as regex); you can avoid this warning by specifying engine='python'.\n",
      "  metadata = pd.read_csv(p, sep=\" : \", header=None, index_col=0).T\n",
      "..\\base.py:47: ParserWarning: Falling back to the 'python' engine because the 'c' engine does not support regex separators (separators > 1 char and different from '\\s+' are interpreted as regex); you can avoid this warning by specifying engine='python'.\n",
      "  metadata = pd.read_csv(p, sep=\" : \", header=None, index_col=0).T\n",
      "..\\base.py:47: ParserWarning: Falling back to the 'python' engine because the 'c' engine does not support regex separators (separators > 1 char and different from '\\s+' are interpreted as regex); you can avoid this warning by specifying engine='python'.\n",
      "  metadata = pd.read_csv(p, sep=\" : \", header=None, index_col=0).T\n",
      "..\\base.py:47: ParserWarning: Falling back to the 'python' engine because the 'c' engine does not support regex separators (separators > 1 char and different from '\\s+' are interpreted as regex); you can avoid this warning by specifying engine='python'.\n",
      "  metadata = pd.read_csv(p, sep=\" : \", header=None, index_col=0).T\n",
      "..\\base.py:47: ParserWarning: Falling back to the 'python' engine because the 'c' engine does not support regex separators (separators > 1 char and different from '\\s+' are interpreted as regex); you can avoid this warning by specifying engine='python'.\n",
      "  metadata = pd.read_csv(p, sep=\" : \", header=None, index_col=0).T\n",
      "..\\base.py:47: ParserWarning: Falling back to the 'python' engine because the 'c' engine does not support regex separators (separators > 1 char and different from '\\s+' are interpreted as regex); you can avoid this warning by specifying engine='python'.\n",
      "  metadata = pd.read_csv(p, sep=\" : \", header=None, index_col=0).T\n",
      "..\\base.py:47: ParserWarning: Falling back to the 'python' engine because the 'c' engine does not support regex separators (separators > 1 char and different from '\\s+' are interpreted as regex); you can avoid this warning by specifying engine='python'.\n",
      "  metadata = pd.read_csv(p, sep=\" : \", header=None, index_col=0).T\n",
      "..\\base.py:47: ParserWarning: Falling back to the 'python' engine because the 'c' engine does not support regex separators (separators > 1 char and different from '\\s+' are interpreted as regex); you can avoid this warning by specifying engine='python'.\n",
      "  metadata = pd.read_csv(p, sep=\" : \", header=None, index_col=0).T\n",
      "..\\base.py:47: ParserWarning: Falling back to the 'python' engine because the 'c' engine does not support regex separators (separators > 1 char and different from '\\s+' are interpreted as regex); you can avoid this warning by specifying engine='python'.\n",
      "  metadata = pd.read_csv(p, sep=\" : \", header=None, index_col=0).T\n",
      "..\\base.py:47: ParserWarning: Falling back to the 'python' engine because the 'c' engine does not support regex separators (separators > 1 char and different from '\\s+' are interpreted as regex); you can avoid this warning by specifying engine='python'.\n",
      "  metadata = pd.read_csv(p, sep=\" : \", header=None, index_col=0).T\n",
      "..\\base.py:47: ParserWarning: Falling back to the 'python' engine because the 'c' engine does not support regex separators (separators > 1 char and different from '\\s+' are interpreted as regex); you can avoid this warning by specifying engine='python'.\n",
      "  metadata = pd.read_csv(p, sep=\" : \", header=None, index_col=0).T\n",
      "..\\base.py:47: ParserWarning: Falling back to the 'python' engine because the 'c' engine does not support regex separators (separators > 1 char and different from '\\s+' are interpreted as regex); you can avoid this warning by specifying engine='python'.\n",
      "  metadata = pd.read_csv(p, sep=\" : \", header=None, index_col=0).T\n",
      "..\\base.py:47: ParserWarning: Falling back to the 'python' engine because the 'c' engine does not support regex separators (separators > 1 char and different from '\\s+' are interpreted as regex); you can avoid this warning by specifying engine='python'.\n",
      "  metadata = pd.read_csv(p, sep=\" : \", header=None, index_col=0).T\n",
      "..\\base.py:47: ParserWarning: Falling back to the 'python' engine because the 'c' engine does not support regex separators (separators > 1 char and different from '\\s+' are interpreted as regex); you can avoid this warning by specifying engine='python'.\n",
      "  metadata = pd.read_csv(p, sep=\" : \", header=None, index_col=0).T\n",
      "..\\base.py:47: ParserWarning: Falling back to the 'python' engine because the 'c' engine does not support regex separators (separators > 1 char and different from '\\s+' are interpreted as regex); you can avoid this warning by specifying engine='python'.\n",
      "  metadata = pd.read_csv(p, sep=\" : \", header=None, index_col=0).T\n",
      "..\\base.py:47: ParserWarning: Falling back to the 'python' engine because the 'c' engine does not support regex separators (separators > 1 char and different from '\\s+' are interpreted as regex); you can avoid this warning by specifying engine='python'.\n",
      "  metadata = pd.read_csv(p, sep=\" : \", header=None, index_col=0).T\n",
      "..\\base.py:47: ParserWarning: Falling back to the 'python' engine because the 'c' engine does not support regex separators (separators > 1 char and different from '\\s+' are interpreted as regex); you can avoid this warning by specifying engine='python'.\n",
      "  metadata = pd.read_csv(p, sep=\" : \", header=None, index_col=0).T\n",
      "..\\base.py:47: ParserWarning: Falling back to the 'python' engine because the 'c' engine does not support regex separators (separators > 1 char and different from '\\s+' are interpreted as regex); you can avoid this warning by specifying engine='python'.\n",
      "  metadata = pd.read_csv(p, sep=\" : \", header=None, index_col=0).T\n",
      "..\\base.py:47: ParserWarning: Falling back to the 'python' engine because the 'c' engine does not support regex separators (separators > 1 char and different from '\\s+' are interpreted as regex); you can avoid this warning by specifying engine='python'.\n",
      "  metadata = pd.read_csv(p, sep=\" : \", header=None, index_col=0).T\n",
      "..\\base.py:47: ParserWarning: Falling back to the 'python' engine because the 'c' engine does not support regex separators (separators > 1 char and different from '\\s+' are interpreted as regex); you can avoid this warning by specifying engine='python'.\n",
      "  metadata = pd.read_csv(p, sep=\" : \", header=None, index_col=0).T\n",
      "..\\base.py:47: ParserWarning: Falling back to the 'python' engine because the 'c' engine does not support regex separators (separators > 1 char and different from '\\s+' are interpreted as regex); you can avoid this warning by specifying engine='python'.\n",
      "  metadata = pd.read_csv(p, sep=\" : \", header=None, index_col=0).T\n",
      "..\\base.py:47: ParserWarning: Falling back to the 'python' engine because the 'c' engine does not support regex separators (separators > 1 char and different from '\\s+' are interpreted as regex); you can avoid this warning by specifying engine='python'.\n",
      "  metadata = pd.read_csv(p, sep=\" : \", header=None, index_col=0).T\n",
      "..\\base.py:47: ParserWarning: Falling back to the 'python' engine because the 'c' engine does not support regex separators (separators > 1 char and different from '\\s+' are interpreted as regex); you can avoid this warning by specifying engine='python'.\n",
      "  metadata = pd.read_csv(p, sep=\" : \", header=None, index_col=0).T\n",
      "..\\base.py:47: ParserWarning: Falling back to the 'python' engine because the 'c' engine does not support regex separators (separators > 1 char and different from '\\s+' are interpreted as regex); you can avoid this warning by specifying engine='python'.\n",
      "  metadata = pd.read_csv(p, sep=\" : \", header=None, index_col=0).T\n",
      "..\\base.py:47: ParserWarning: Falling back to the 'python' engine because the 'c' engine does not support regex separators (separators > 1 char and different from '\\s+' are interpreted as regex); you can avoid this warning by specifying engine='python'.\n",
      "  metadata = pd.read_csv(p, sep=\" : \", header=None, index_col=0).T\n",
      "..\\base.py:47: ParserWarning: Falling back to the 'python' engine because the 'c' engine does not support regex separators (separators > 1 char and different from '\\s+' are interpreted as regex); you can avoid this warning by specifying engine='python'.\n",
      "  metadata = pd.read_csv(p, sep=\" : \", header=None, index_col=0).T\n",
      "..\\base.py:47: ParserWarning: Falling back to the 'python' engine because the 'c' engine does not support regex separators (separators > 1 char and different from '\\s+' are interpreted as regex); you can avoid this warning by specifying engine='python'.\n",
      "  metadata = pd.read_csv(p, sep=\" : \", header=None, index_col=0).T\n",
      "..\\base.py:47: ParserWarning: Falling back to the 'python' engine because the 'c' engine does not support regex separators (separators > 1 char and different from '\\s+' are interpreted as regex); you can avoid this warning by specifying engine='python'.\n",
      "  metadata = pd.read_csv(p, sep=\" : \", header=None, index_col=0).T\n",
      "..\\base.py:47: ParserWarning: Falling back to the 'python' engine because the 'c' engine does not support regex separators (separators > 1 char and different from '\\s+' are interpreted as regex); you can avoid this warning by specifying engine='python'.\n",
      "  metadata = pd.read_csv(p, sep=\" : \", header=None, index_col=0).T\n",
      "..\\base.py:47: ParserWarning: Falling back to the 'python' engine because the 'c' engine does not support regex separators (separators > 1 char and different from '\\s+' are interpreted as regex); you can avoid this warning by specifying engine='python'.\n",
      "  metadata = pd.read_csv(p, sep=\" : \", header=None, index_col=0).T\n",
      "..\\base.py:47: ParserWarning: Falling back to the 'python' engine because the 'c' engine does not support regex separators (separators > 1 char and different from '\\s+' are interpreted as regex); you can avoid this warning by specifying engine='python'.\n",
      "  metadata = pd.read_csv(p, sep=\" : \", header=None, index_col=0).T\n",
      "..\\base.py:47: ParserWarning: Falling back to the 'python' engine because the 'c' engine does not support regex separators (separators > 1 char and different from '\\s+' are interpreted as regex); you can avoid this warning by specifying engine='python'.\n",
      "  metadata = pd.read_csv(p, sep=\" : \", header=None, index_col=0).T\n",
      "..\\base.py:47: ParserWarning: Falling back to the 'python' engine because the 'c' engine does not support regex separators (separators > 1 char and different from '\\s+' are interpreted as regex); you can avoid this warning by specifying engine='python'.\n",
      "  metadata = pd.read_csv(p, sep=\" : \", header=None, index_col=0).T\n",
      "..\\base.py:47: ParserWarning: Falling back to the 'python' engine because the 'c' engine does not support regex separators (separators > 1 char and different from '\\s+' are interpreted as regex); you can avoid this warning by specifying engine='python'.\n",
      "  metadata = pd.read_csv(p, sep=\" : \", header=None, index_col=0).T\n",
      "..\\path_analysis.py:89: RuntimeWarning: invalid value encountered in double_scalars\n",
      "  straightness.append(straight_length / trajectory_displacement)\n",
      "<ipython-input-33-c2f1fa1fd205>:35: RuntimeWarning: Mean of empty slice\n",
      "  average_vis = np.nanmean(visible,axis=1)\n",
      "<ipython-input-33-c2f1fa1fd205>:37: RuntimeWarning: Mean of empty slice\n",
      "  average_invis = np.nanmean(invisible,axis=1)\n",
      "<ipython-input-33-c2f1fa1fd205>:35: RuntimeWarning: Mean of empty slice\n",
      "  average_vis = np.nanmean(visible,axis=1)\n",
      "<ipython-input-33-c2f1fa1fd205>:37: RuntimeWarning: Mean of empty slice\n",
      "  average_invis = np.nanmean(invisible,axis=1)\n",
      "..\\path_analysis.py:89: RuntimeWarning: invalid value encountered in double_scalars\n",
      "  straightness.append(straight_length / trajectory_displacement)\n",
      "<ipython-input-33-c2f1fa1fd205>:35: RuntimeWarning: Mean of empty slice\n",
      "  average_vis = np.nanmean(visible,axis=1)\n",
      "<ipython-input-33-c2f1fa1fd205>:37: RuntimeWarning: Mean of empty slice\n",
      "  average_invis = np.nanmean(invisible,axis=1)\n",
      "..\\path_analysis.py:89: RuntimeWarning: invalid value encountered in double_scalars\n",
      "  straightness.append(straight_length / trajectory_displacement)\n",
      "<ipython-input-33-c2f1fa1fd205>:35: RuntimeWarning: Mean of empty slice\n",
      "  average_vis = np.nanmean(visible,axis=1)\n",
      "<ipython-input-33-c2f1fa1fd205>:37: RuntimeWarning: Mean of empty slice\n",
      "  average_invis = np.nanmean(invisible,axis=1)\n",
      "..\\path_analysis.py:89: RuntimeWarning: invalid value encountered in double_scalars\n",
      "  straightness.append(straight_length / trajectory_displacement)\n",
      "<ipython-input-33-c2f1fa1fd205>:35: RuntimeWarning: Mean of empty slice\n",
      "  average_vis = np.nanmean(visible,axis=1)\n",
      "<ipython-input-33-c2f1fa1fd205>:37: RuntimeWarning: Mean of empty slice\n",
      "  average_invis = np.nanmean(invisible,axis=1)\n",
      "..\\path_analysis.py:89: RuntimeWarning: invalid value encountered in double_scalars\n",
      "  straightness.append(straight_length / trajectory_displacement)\n",
      "<ipython-input-33-c2f1fa1fd205>:35: RuntimeWarning: Mean of empty slice\n",
      "  average_vis = np.nanmean(visible,axis=1)\n",
      "<ipython-input-33-c2f1fa1fd205>:37: RuntimeWarning: Mean of empty slice\n",
      "  average_invis = np.nanmean(invisible,axis=1)\n",
      "..\\path_analysis.py:89: RuntimeWarning: invalid value encountered in double_scalars\n",
      "  straightness.append(straight_length / trajectory_displacement)\n",
      "<ipython-input-33-c2f1fa1fd205>:35: RuntimeWarning: Mean of empty slice\n",
      "  average_vis = np.nanmean(visible,axis=1)\n",
      "<ipython-input-33-c2f1fa1fd205>:37: RuntimeWarning: Mean of empty slice\n",
      "  average_invis = np.nanmean(invisible,axis=1)\n",
      "..\\path_analysis.py:89: RuntimeWarning: invalid value encountered in double_scalars\n",
      "  straightness.append(straight_length / trajectory_displacement)\n",
      "<ipython-input-33-c2f1fa1fd205>:35: RuntimeWarning: Mean of empty slice\n",
      "  average_vis = np.nanmean(visible,axis=1)\n",
      "<ipython-input-33-c2f1fa1fd205>:37: RuntimeWarning: Mean of empty slice\n",
      "  average_invis = np.nanmean(invisible,axis=1)\n",
      "..\\path_analysis.py:89: RuntimeWarning: invalid value encountered in double_scalars\n",
      "  straightness.append(straight_length / trajectory_displacement)\n",
      "<ipython-input-33-c2f1fa1fd205>:35: RuntimeWarning: Mean of empty slice\n",
      "  average_vis = np.nanmean(visible,axis=1)\n",
      "<ipython-input-33-c2f1fa1fd205>:37: RuntimeWarning: Mean of empty slice\n",
      "  average_invis = np.nanmean(invisible,axis=1)\n",
      "..\\path_analysis.py:89: RuntimeWarning: invalid value encountered in double_scalars\n",
      "  straightness.append(straight_length / trajectory_displacement)\n",
      "<ipython-input-33-c2f1fa1fd205>:35: RuntimeWarning: Mean of empty slice\n",
      "  average_vis = np.nanmean(visible,axis=1)\n",
      "<ipython-input-33-c2f1fa1fd205>:37: RuntimeWarning: Mean of empty slice\n",
      "  average_invis = np.nanmean(invisible,axis=1)\n",
      "..\\path_analysis.py:89: RuntimeWarning: invalid value encountered in double_scalars\n",
      "  straightness.append(straight_length / trajectory_displacement)\n",
      "<ipython-input-33-c2f1fa1fd205>:35: RuntimeWarning: Mean of empty slice\n",
      "  average_vis = np.nanmean(visible,axis=1)\n",
      "<ipython-input-33-c2f1fa1fd205>:37: RuntimeWarning: Mean of empty slice\n",
      "  average_invis = np.nanmean(invisible,axis=1)\n",
      "..\\path_analysis.py:89: RuntimeWarning: invalid value encountered in double_scalars\n",
      "  straightness.append(straight_length / trajectory_displacement)\n",
      "<ipython-input-33-c2f1fa1fd205>:35: RuntimeWarning: Mean of empty slice\n",
      "  average_vis = np.nanmean(visible,axis=1)\n",
      "<ipython-input-33-c2f1fa1fd205>:37: RuntimeWarning: Mean of empty slice\n",
      "  average_invis = np.nanmean(invisible,axis=1)\n",
      "..\\path_analysis.py:89: RuntimeWarning: invalid value encountered in double_scalars\n",
      "  straightness.append(straight_length / trajectory_displacement)\n",
      "<ipython-input-33-c2f1fa1fd205>:35: RuntimeWarning: Mean of empty slice\n",
      "  average_vis = np.nanmean(visible,axis=1)\n",
      "<ipython-input-33-c2f1fa1fd205>:37: RuntimeWarning: Mean of empty slice\n",
      "  average_invis = np.nanmean(invisible,axis=1)\n",
      "..\\path_analysis.py:89: RuntimeWarning: invalid value encountered in double_scalars\n",
      "  straightness.append(straight_length / trajectory_displacement)\n",
      "<ipython-input-33-c2f1fa1fd205>:35: RuntimeWarning: Mean of empty slice\n",
      "  average_vis = np.nanmean(visible,axis=1)\n",
      "<ipython-input-33-c2f1fa1fd205>:37: RuntimeWarning: Mean of empty slice\n",
      "  average_invis = np.nanmean(invisible,axis=1)\n",
      "..\\path_analysis.py:89: RuntimeWarning: invalid value encountered in double_scalars\n",
      "  straightness.append(straight_length / trajectory_displacement)\n",
      "<ipython-input-33-c2f1fa1fd205>:35: RuntimeWarning: Mean of empty slice\n",
      "  average_vis = np.nanmean(visible,axis=1)\n",
      "<ipython-input-33-c2f1fa1fd205>:37: RuntimeWarning: Mean of empty slice\n",
      "  average_invis = np.nanmean(invisible,axis=1)\n",
      "..\\path_analysis.py:89: RuntimeWarning: invalid value encountered in double_scalars\n",
      "  straightness.append(straight_length / trajectory_displacement)\n",
      "<ipython-input-33-c2f1fa1fd205>:35: RuntimeWarning: Mean of empty slice\n",
      "  average_vis = np.nanmean(visible,axis=1)\n",
      "<ipython-input-33-c2f1fa1fd205>:37: RuntimeWarning: Mean of empty slice\n",
      "  average_invis = np.nanmean(invisible,axis=1)\n",
      "..\\path_analysis.py:89: RuntimeWarning: invalid value encountered in double_scalars\n",
      "  straightness.append(straight_length / trajectory_displacement)\n",
      "<ipython-input-33-c2f1fa1fd205>:35: RuntimeWarning: Mean of empty slice\n",
      "  average_vis = np.nanmean(visible,axis=1)\n",
      "<ipython-input-33-c2f1fa1fd205>:37: RuntimeWarning: Mean of empty slice\n",
      "  average_invis = np.nanmean(invisible,axis=1)\n",
      "..\\path_analysis.py:89: RuntimeWarning: invalid value encountered in double_scalars\n",
      "  straightness.append(straight_length / trajectory_displacement)\n",
      "<ipython-input-33-c2f1fa1fd205>:35: RuntimeWarning: Mean of empty slice\n",
      "  average_vis = np.nanmean(visible,axis=1)\n",
      "<ipython-input-33-c2f1fa1fd205>:37: RuntimeWarning: Mean of empty slice\n",
      "  average_invis = np.nanmean(invisible,axis=1)\n",
      "..\\path_analysis.py:89: RuntimeWarning: invalid value encountered in double_scalars\n",
      "  straightness.append(straight_length / trajectory_displacement)\n",
      "<ipython-input-33-c2f1fa1fd205>:35: RuntimeWarning: Mean of empty slice\n",
      "  average_vis = np.nanmean(visible,axis=1)\n",
      "<ipython-input-33-c2f1fa1fd205>:37: RuntimeWarning: Mean of empty slice\n",
      "  average_invis = np.nanmean(invisible,axis=1)\n",
      "..\\path_analysis.py:89: RuntimeWarning: invalid value encountered in double_scalars\n",
      "  straightness.append(straight_length / trajectory_displacement)\n",
      "<ipython-input-33-c2f1fa1fd205>:35: RuntimeWarning: Mean of empty slice\n",
      "  average_vis = np.nanmean(visible,axis=1)\n",
      "<ipython-input-33-c2f1fa1fd205>:37: RuntimeWarning: Mean of empty slice\n",
      "  average_invis = np.nanmean(invisible,axis=1)\n",
      "..\\path_analysis.py:89: RuntimeWarning: invalid value encountered in double_scalars\n",
      "  straightness.append(straight_length / trajectory_displacement)\n",
      "<ipython-input-33-c2f1fa1fd205>:35: RuntimeWarning: Mean of empty slice\n",
      "  average_vis = np.nanmean(visible,axis=1)\n",
      "<ipython-input-33-c2f1fa1fd205>:37: RuntimeWarning: Mean of empty slice\n",
      "  average_invis = np.nanmean(invisible,axis=1)\n",
      "..\\path_analysis.py:89: RuntimeWarning: invalid value encountered in double_scalars\n",
      "  straightness.append(straight_length / trajectory_displacement)\n",
      "<ipython-input-33-c2f1fa1fd205>:35: RuntimeWarning: Mean of empty slice\n",
      "  average_vis = np.nanmean(visible,axis=1)\n",
      "<ipython-input-33-c2f1fa1fd205>:37: RuntimeWarning: Mean of empty slice\n",
      "  average_invis = np.nanmean(invisible,axis=1)\n",
      "..\\path_analysis.py:89: RuntimeWarning: invalid value encountered in double_scalars\n",
      "  straightness.append(straight_length / trajectory_displacement)\n",
      "<ipython-input-33-c2f1fa1fd205>:35: RuntimeWarning: Mean of empty slice\n",
      "  average_vis = np.nanmean(visible,axis=1)\n",
      "<ipython-input-33-c2f1fa1fd205>:37: RuntimeWarning: Mean of empty slice\n",
      "  average_invis = np.nanmean(invisible,axis=1)\n",
      "..\\path_analysis.py:89: RuntimeWarning: invalid value encountered in double_scalars\n",
      "  straightness.append(straight_length / trajectory_displacement)\n",
      "<ipython-input-33-c2f1fa1fd205>:35: RuntimeWarning: Mean of empty slice\n",
      "  average_vis = np.nanmean(visible,axis=1)\n",
      "<ipython-input-33-c2f1fa1fd205>:37: RuntimeWarning: Mean of empty slice\n",
      "  average_invis = np.nanmean(invisible,axis=1)\n",
      "..\\path_analysis.py:89: RuntimeWarning: invalid value encountered in double_scalars\n",
      "  straightness.append(straight_length / trajectory_displacement)\n",
      "<ipython-input-33-c2f1fa1fd205>:35: RuntimeWarning: Mean of empty slice\n",
      "  average_vis = np.nanmean(visible,axis=1)\n",
      "<ipython-input-33-c2f1fa1fd205>:37: RuntimeWarning: Mean of empty slice\n",
      "  average_invis = np.nanmean(invisible,axis=1)\n",
      "..\\path_analysis.py:89: RuntimeWarning: invalid value encountered in double_scalars\n",
      "  straightness.append(straight_length / trajectory_displacement)\n",
      "<ipython-input-33-c2f1fa1fd205>:35: RuntimeWarning: Mean of empty slice\n",
      "  average_vis = np.nanmean(visible,axis=1)\n",
      "<ipython-input-33-c2f1fa1fd205>:37: RuntimeWarning: Mean of empty slice\n",
      "  average_invis = np.nanmean(invisible,axis=1)\n",
      "..\\path_analysis.py:89: RuntimeWarning: invalid value encountered in double_scalars\n",
      "  straightness.append(straight_length / trajectory_displacement)\n",
      "<ipython-input-33-c2f1fa1fd205>:35: RuntimeWarning: Mean of empty slice\n",
      "  average_vis = np.nanmean(visible,axis=1)\n",
      "<ipython-input-33-c2f1fa1fd205>:37: RuntimeWarning: Mean of empty slice\n",
      "  average_invis = np.nanmean(invisible,axis=1)\n",
      "..\\path_analysis.py:89: RuntimeWarning: invalid value encountered in double_scalars\n",
      "  straightness.append(straight_length / trajectory_displacement)\n",
      "<ipython-input-33-c2f1fa1fd205>:35: RuntimeWarning: Mean of empty slice\n",
      "  average_vis = np.nanmean(visible,axis=1)\n",
      "<ipython-input-33-c2f1fa1fd205>:37: RuntimeWarning: Mean of empty slice\n",
      "  average_invis = np.nanmean(invisible,axis=1)\n",
      "<ipython-input-33-c2f1fa1fd205>:35: RuntimeWarning: Mean of empty slice\n",
      "  average_vis = np.nanmean(visible,axis=1)\n",
      "<ipython-input-33-c2f1fa1fd205>:37: RuntimeWarning: Mean of empty slice\n",
      "  average_invis = np.nanmean(invisible,axis=1)\n",
      "..\\path_analysis.py:89: RuntimeWarning: invalid value encountered in double_scalars\n",
      "  straightness.append(straight_length / trajectory_displacement)\n",
      "<ipython-input-33-c2f1fa1fd205>:35: RuntimeWarning: Mean of empty slice\n",
      "  average_vis = np.nanmean(visible,axis=1)\n",
      "<ipython-input-33-c2f1fa1fd205>:37: RuntimeWarning: Mean of empty slice\n",
      "  average_invis = np.nanmean(invisible,axis=1)\n",
      "<ipython-input-33-c2f1fa1fd205>:35: RuntimeWarning: Mean of empty slice\n",
      "  average_vis = np.nanmean(visible,axis=1)\n",
      "<ipython-input-33-c2f1fa1fd205>:37: RuntimeWarning: Mean of empty slice\n",
      "  average_invis = np.nanmean(invisible,axis=1)\n",
      "<ipython-input-33-c2f1fa1fd205>:35: RuntimeWarning: Mean of empty slice\n",
      "  average_vis = np.nanmean(visible,axis=1)\n",
      "<ipython-input-33-c2f1fa1fd205>:37: RuntimeWarning: Mean of empty slice\n",
      "  average_invis = np.nanmean(invisible,axis=1)\n",
      "<ipython-input-33-c2f1fa1fd205>:35: RuntimeWarning: Mean of empty slice\n",
      "  average_vis = np.nanmean(visible,axis=1)\n",
      "<ipython-input-33-c2f1fa1fd205>:37: RuntimeWarning: Mean of empty slice\n",
      "  average_invis = np.nanmean(invisible,axis=1)\n",
      "<ipython-input-33-c2f1fa1fd205>:35: RuntimeWarning: Mean of empty slice\n",
      "  average_vis = np.nanmean(visible,axis=1)\n",
      "<ipython-input-33-c2f1fa1fd205>:37: RuntimeWarning: Mean of empty slice\n",
      "  average_invis = np.nanmean(invisible,axis=1)\n",
      "<ipython-input-33-c2f1fa1fd205>:35: RuntimeWarning: Mean of empty slice\n",
      "  average_vis = np.nanmean(visible,axis=1)\n",
      "<ipython-input-33-c2f1fa1fd205>:37: RuntimeWarning: Mean of empty slice\n",
      "  average_invis = np.nanmean(invisible,axis=1)\n",
      "..\\path_analysis.py:89: RuntimeWarning: invalid value encountered in double_scalars\n",
      "  straightness.append(straight_length / trajectory_displacement)\n",
      "<ipython-input-33-c2f1fa1fd205>:35: RuntimeWarning: Mean of empty slice\n",
      "  average_vis = np.nanmean(visible,axis=1)\n",
      "<ipython-input-33-c2f1fa1fd205>:37: RuntimeWarning: Mean of empty slice\n",
      "  average_invis = np.nanmean(invisible,axis=1)\n",
      "..\\path_analysis.py:89: RuntimeWarning: invalid value encountered in double_scalars\n",
      "  straightness.append(straight_length / trajectory_displacement)\n",
      "<ipython-input-33-c2f1fa1fd205>:35: RuntimeWarning: Mean of empty slice\n",
      "  average_vis = np.nanmean(visible,axis=1)\n",
      "<ipython-input-33-c2f1fa1fd205>:37: RuntimeWarning: Mean of empty slice\n",
      "  average_invis = np.nanmean(invisible,axis=1)\n",
      "..\\path_analysis.py:89: RuntimeWarning: invalid value encountered in double_scalars\n",
      "  straightness.append(straight_length / trajectory_displacement)\n",
      "<ipython-input-33-c2f1fa1fd205>:35: RuntimeWarning: Mean of empty slice\n",
      "  average_vis = np.nanmean(visible,axis=1)\n",
      "<ipython-input-33-c2f1fa1fd205>:37: RuntimeWarning: Mean of empty slice\n",
      "  average_invis = np.nanmean(invisible,axis=1)\n",
      "..\\path_analysis.py:89: RuntimeWarning: invalid value encountered in double_scalars\n",
      "  straightness.append(straight_length / trajectory_displacement)\n",
      "<ipython-input-33-c2f1fa1fd205>:35: RuntimeWarning: Mean of empty slice\n",
      "  average_vis = np.nanmean(visible,axis=1)\n",
      "<ipython-input-33-c2f1fa1fd205>:37: RuntimeWarning: Mean of empty slice\n",
      "  average_invis = np.nanmean(invisible,axis=1)\n",
      "..\\path_analysis.py:89: RuntimeWarning: invalid value encountered in double_scalars\n",
      "  straightness.append(straight_length / trajectory_displacement)\n",
      "<ipython-input-33-c2f1fa1fd205>:35: RuntimeWarning: Mean of empty slice\n",
      "  average_vis = np.nanmean(visible,axis=1)\n",
      "<ipython-input-33-c2f1fa1fd205>:37: RuntimeWarning: Mean of empty slice\n",
      "  average_invis = np.nanmean(invisible,axis=1)\n",
      "..\\path_analysis.py:89: RuntimeWarning: invalid value encountered in double_scalars\n",
      "  straightness.append(straight_length / trajectory_displacement)\n",
      "<ipython-input-33-c2f1fa1fd205>:35: RuntimeWarning: Mean of empty slice\n",
      "  average_vis = np.nanmean(visible,axis=1)\n",
      "<ipython-input-33-c2f1fa1fd205>:37: RuntimeWarning: Mean of empty slice\n",
      "  average_invis = np.nanmean(invisible,axis=1)\n",
      "..\\path_analysis.py:89: RuntimeWarning: invalid value encountered in double_scalars\n",
      "  straightness.append(straight_length / trajectory_displacement)\n",
      "<ipython-input-33-c2f1fa1fd205>:35: RuntimeWarning: Mean of empty slice\n",
      "  average_vis = np.nanmean(visible,axis=1)\n",
      "<ipython-input-33-c2f1fa1fd205>:37: RuntimeWarning: Mean of empty slice\n",
      "  average_invis = np.nanmean(invisible,axis=1)\n",
      "..\\path_analysis.py:89: RuntimeWarning: invalid value encountered in double_scalars\n",
      "  straightness.append(straight_length / trajectory_displacement)\n",
      "<ipython-input-33-c2f1fa1fd205>:35: RuntimeWarning: Mean of empty slice\n",
      "  average_vis = np.nanmean(visible,axis=1)\n",
      "<ipython-input-33-c2f1fa1fd205>:37: RuntimeWarning: Mean of empty slice\n",
      "  average_invis = np.nanmean(invisible,axis=1)\n",
      "..\\path_analysis.py:89: RuntimeWarning: invalid value encountered in double_scalars\n",
      "  straightness.append(straight_length / trajectory_displacement)\n",
      "<ipython-input-33-c2f1fa1fd205>:35: RuntimeWarning: Mean of empty slice\n",
      "  average_vis = np.nanmean(visible,axis=1)\n",
      "<ipython-input-33-c2f1fa1fd205>:37: RuntimeWarning: Mean of empty slice\n",
      "  average_invis = np.nanmean(invisible,axis=1)\n"
     ]
    },
    {
     "name": "stdout",
     "output_type": "stream",
     "text": [
      "66\n"
     ]
    },
    {
     "name": "stderr",
     "output_type": "stream",
     "text": [
      "..\\base.py:47: ParserWarning: Falling back to the 'python' engine because the 'c' engine does not support regex separators (separators > 1 char and different from '\\s+' are interpreted as regex); you can avoid this warning by specifying engine='python'.\n",
      "  metadata = pd.read_csv(p, sep=\" : \", header=None, index_col=0).T\n",
      "..\\base.py:47: ParserWarning: Falling back to the 'python' engine because the 'c' engine does not support regex separators (separators > 1 char and different from '\\s+' are interpreted as regex); you can avoid this warning by specifying engine='python'.\n",
      "  metadata = pd.read_csv(p, sep=\" : \", header=None, index_col=0).T\n",
      "..\\base.py:47: ParserWarning: Falling back to the 'python' engine because the 'c' engine does not support regex separators (separators > 1 char and different from '\\s+' are interpreted as regex); you can avoid this warning by specifying engine='python'.\n",
      "  metadata = pd.read_csv(p, sep=\" : \", header=None, index_col=0).T\n",
      "..\\base.py:47: ParserWarning: Falling back to the 'python' engine because the 'c' engine does not support regex separators (separators > 1 char and different from '\\s+' are interpreted as regex); you can avoid this warning by specifying engine='python'.\n",
      "  metadata = pd.read_csv(p, sep=\" : \", header=None, index_col=0).T\n",
      "..\\base.py:47: ParserWarning: Falling back to the 'python' engine because the 'c' engine does not support regex separators (separators > 1 char and different from '\\s+' are interpreted as regex); you can avoid this warning by specifying engine='python'.\n",
      "  metadata = pd.read_csv(p, sep=\" : \", header=None, index_col=0).T\n",
      "..\\base.py:47: ParserWarning: Falling back to the 'python' engine because the 'c' engine does not support regex separators (separators > 1 char and different from '\\s+' are interpreted as regex); you can avoid this warning by specifying engine='python'.\n",
      "  metadata = pd.read_csv(p, sep=\" : \", header=None, index_col=0).T\n",
      "..\\base.py:47: ParserWarning: Falling back to the 'python' engine because the 'c' engine does not support regex separators (separators > 1 char and different from '\\s+' are interpreted as regex); you can avoid this warning by specifying engine='python'.\n",
      "  metadata = pd.read_csv(p, sep=\" : \", header=None, index_col=0).T\n",
      "..\\base.py:47: ParserWarning: Falling back to the 'python' engine because the 'c' engine does not support regex separators (separators > 1 char and different from '\\s+' are interpreted as regex); you can avoid this warning by specifying engine='python'.\n",
      "  metadata = pd.read_csv(p, sep=\" : \", header=None, index_col=0).T\n",
      "..\\base.py:47: ParserWarning: Falling back to the 'python' engine because the 'c' engine does not support regex separators (separators > 1 char and different from '\\s+' are interpreted as regex); you can avoid this warning by specifying engine='python'.\n",
      "  metadata = pd.read_csv(p, sep=\" : \", header=None, index_col=0).T\n",
      "..\\base.py:47: ParserWarning: Falling back to the 'python' engine because the 'c' engine does not support regex separators (separators > 1 char and different from '\\s+' are interpreted as regex); you can avoid this warning by specifying engine='python'.\n",
      "  metadata = pd.read_csv(p, sep=\" : \", header=None, index_col=0).T\n",
      "..\\base.py:47: ParserWarning: Falling back to the 'python' engine because the 'c' engine does not support regex separators (separators > 1 char and different from '\\s+' are interpreted as regex); you can avoid this warning by specifying engine='python'.\n",
      "  metadata = pd.read_csv(p, sep=\" : \", header=None, index_col=0).T\n",
      "..\\base.py:47: ParserWarning: Falling back to the 'python' engine because the 'c' engine does not support regex separators (separators > 1 char and different from '\\s+' are interpreted as regex); you can avoid this warning by specifying engine='python'.\n",
      "  metadata = pd.read_csv(p, sep=\" : \", header=None, index_col=0).T\n",
      "..\\base.py:47: ParserWarning: Falling back to the 'python' engine because the 'c' engine does not support regex separators (separators > 1 char and different from '\\s+' are interpreted as regex); you can avoid this warning by specifying engine='python'.\n",
      "  metadata = pd.read_csv(p, sep=\" : \", header=None, index_col=0).T\n",
      "..\\base.py:47: ParserWarning: Falling back to the 'python' engine because the 'c' engine does not support regex separators (separators > 1 char and different from '\\s+' are interpreted as regex); you can avoid this warning by specifying engine='python'.\n",
      "  metadata = pd.read_csv(p, sep=\" : \", header=None, index_col=0).T\n",
      "..\\base.py:47: ParserWarning: Falling back to the 'python' engine because the 'c' engine does not support regex separators (separators > 1 char and different from '\\s+' are interpreted as regex); you can avoid this warning by specifying engine='python'.\n",
      "  metadata = pd.read_csv(p, sep=\" : \", header=None, index_col=0).T\n",
      "..\\base.py:47: ParserWarning: Falling back to the 'python' engine because the 'c' engine does not support regex separators (separators > 1 char and different from '\\s+' are interpreted as regex); you can avoid this warning by specifying engine='python'.\n",
      "  metadata = pd.read_csv(p, sep=\" : \", header=None, index_col=0).T\n",
      "..\\base.py:47: ParserWarning: Falling back to the 'python' engine because the 'c' engine does not support regex separators (separators > 1 char and different from '\\s+' are interpreted as regex); you can avoid this warning by specifying engine='python'.\n",
      "  metadata = pd.read_csv(p, sep=\" : \", header=None, index_col=0).T\n",
      "..\\base.py:47: ParserWarning: Falling back to the 'python' engine because the 'c' engine does not support regex separators (separators > 1 char and different from '\\s+' are interpreted as regex); you can avoid this warning by specifying engine='python'.\n",
      "  metadata = pd.read_csv(p, sep=\" : \", header=None, index_col=0).T\n",
      "..\\base.py:47: ParserWarning: Falling back to the 'python' engine because the 'c' engine does not support regex separators (separators > 1 char and different from '\\s+' are interpreted as regex); you can avoid this warning by specifying engine='python'.\n",
      "  metadata = pd.read_csv(p, sep=\" : \", header=None, index_col=0).T\n",
      "..\\base.py:47: ParserWarning: Falling back to the 'python' engine because the 'c' engine does not support regex separators (separators > 1 char and different from '\\s+' are interpreted as regex); you can avoid this warning by specifying engine='python'.\n",
      "  metadata = pd.read_csv(p, sep=\" : \", header=None, index_col=0).T\n",
      "..\\base.py:47: ParserWarning: Falling back to the 'python' engine because the 'c' engine does not support regex separators (separators > 1 char and different from '\\s+' are interpreted as regex); you can avoid this warning by specifying engine='python'.\n",
      "  metadata = pd.read_csv(p, sep=\" : \", header=None, index_col=0).T\n",
      "..\\base.py:47: ParserWarning: Falling back to the 'python' engine because the 'c' engine does not support regex separators (separators > 1 char and different from '\\s+' are interpreted as regex); you can avoid this warning by specifying engine='python'.\n",
      "  metadata = pd.read_csv(p, sep=\" : \", header=None, index_col=0).T\n",
      "..\\base.py:47: ParserWarning: Falling back to the 'python' engine because the 'c' engine does not support regex separators (separators > 1 char and different from '\\s+' are interpreted as regex); you can avoid this warning by specifying engine='python'.\n",
      "  metadata = pd.read_csv(p, sep=\" : \", header=None, index_col=0).T\n",
      "..\\base.py:47: ParserWarning: Falling back to the 'python' engine because the 'c' engine does not support regex separators (separators > 1 char and different from '\\s+' are interpreted as regex); you can avoid this warning by specifying engine='python'.\n",
      "  metadata = pd.read_csv(p, sep=\" : \", header=None, index_col=0).T\n",
      "..\\base.py:47: ParserWarning: Falling back to the 'python' engine because the 'c' engine does not support regex separators (separators > 1 char and different from '\\s+' are interpreted as regex); you can avoid this warning by specifying engine='python'.\n",
      "  metadata = pd.read_csv(p, sep=\" : \", header=None, index_col=0).T\n",
      "..\\base.py:47: ParserWarning: Falling back to the 'python' engine because the 'c' engine does not support regex separators (separators > 1 char and different from '\\s+' are interpreted as regex); you can avoid this warning by specifying engine='python'.\n",
      "  metadata = pd.read_csv(p, sep=\" : \", header=None, index_col=0).T\n",
      "..\\base.py:47: ParserWarning: Falling back to the 'python' engine because the 'c' engine does not support regex separators (separators > 1 char and different from '\\s+' are interpreted as regex); you can avoid this warning by specifying engine='python'.\n",
      "  metadata = pd.read_csv(p, sep=\" : \", header=None, index_col=0).T\n",
      "..\\base.py:47: ParserWarning: Falling back to the 'python' engine because the 'c' engine does not support regex separators (separators > 1 char and different from '\\s+' are interpreted as regex); you can avoid this warning by specifying engine='python'.\n",
      "  metadata = pd.read_csv(p, sep=\" : \", header=None, index_col=0).T\n",
      "..\\base.py:47: ParserWarning: Falling back to the 'python' engine because the 'c' engine does not support regex separators (separators > 1 char and different from '\\s+' are interpreted as regex); you can avoid this warning by specifying engine='python'.\n",
      "  metadata = pd.read_csv(p, sep=\" : \", header=None, index_col=0).T\n",
      "..\\base.py:47: ParserWarning: Falling back to the 'python' engine because the 'c' engine does not support regex separators (separators > 1 char and different from '\\s+' are interpreted as regex); you can avoid this warning by specifying engine='python'.\n",
      "  metadata = pd.read_csv(p, sep=\" : \", header=None, index_col=0).T\n",
      "..\\base.py:47: ParserWarning: Falling back to the 'python' engine because the 'c' engine does not support regex separators (separators > 1 char and different from '\\s+' are interpreted as regex); you can avoid this warning by specifying engine='python'.\n",
      "  metadata = pd.read_csv(p, sep=\" : \", header=None, index_col=0).T\n",
      "..\\base.py:47: ParserWarning: Falling back to the 'python' engine because the 'c' engine does not support regex separators (separators > 1 char and different from '\\s+' are interpreted as regex); you can avoid this warning by specifying engine='python'.\n",
      "  metadata = pd.read_csv(p, sep=\" : \", header=None, index_col=0).T\n",
      "..\\base.py:47: ParserWarning: Falling back to the 'python' engine because the 'c' engine does not support regex separators (separators > 1 char and different from '\\s+' are interpreted as regex); you can avoid this warning by specifying engine='python'.\n",
      "  metadata = pd.read_csv(p, sep=\" : \", header=None, index_col=0).T\n",
      "..\\base.py:47: ParserWarning: Falling back to the 'python' engine because the 'c' engine does not support regex separators (separators > 1 char and different from '\\s+' are interpreted as regex); you can avoid this warning by specifying engine='python'.\n",
      "  metadata = pd.read_csv(p, sep=\" : \", header=None, index_col=0).T\n",
      "..\\base.py:47: ParserWarning: Falling back to the 'python' engine because the 'c' engine does not support regex separators (separators > 1 char and different from '\\s+' are interpreted as regex); you can avoid this warning by specifying engine='python'.\n",
      "  metadata = pd.read_csv(p, sep=\" : \", header=None, index_col=0).T\n",
      "..\\base.py:47: ParserWarning: Falling back to the 'python' engine because the 'c' engine does not support regex separators (separators > 1 char and different from '\\s+' are interpreted as regex); you can avoid this warning by specifying engine='python'.\n",
      "  metadata = pd.read_csv(p, sep=\" : \", header=None, index_col=0).T\n",
      "..\\base.py:47: ParserWarning: Falling back to the 'python' engine because the 'c' engine does not support regex separators (separators > 1 char and different from '\\s+' are interpreted as regex); you can avoid this warning by specifying engine='python'.\n",
      "  metadata = pd.read_csv(p, sep=\" : \", header=None, index_col=0).T\n",
      "..\\base.py:47: ParserWarning: Falling back to the 'python' engine because the 'c' engine does not support regex separators (separators > 1 char and different from '\\s+' are interpreted as regex); you can avoid this warning by specifying engine='python'.\n",
      "  metadata = pd.read_csv(p, sep=\" : \", header=None, index_col=0).T\n",
      "..\\base.py:47: ParserWarning: Falling back to the 'python' engine because the 'c' engine does not support regex separators (separators > 1 char and different from '\\s+' are interpreted as regex); you can avoid this warning by specifying engine='python'.\n",
      "  metadata = pd.read_csv(p, sep=\" : \", header=None, index_col=0).T\n",
      "..\\base.py:47: ParserWarning: Falling back to the 'python' engine because the 'c' engine does not support regex separators (separators > 1 char and different from '\\s+' are interpreted as regex); you can avoid this warning by specifying engine='python'.\n",
      "  metadata = pd.read_csv(p, sep=\" : \", header=None, index_col=0).T\n",
      "..\\base.py:47: ParserWarning: Falling back to the 'python' engine because the 'c' engine does not support regex separators (separators > 1 char and different from '\\s+' are interpreted as regex); you can avoid this warning by specifying engine='python'.\n",
      "  metadata = pd.read_csv(p, sep=\" : \", header=None, index_col=0).T\n",
      "..\\base.py:47: ParserWarning: Falling back to the 'python' engine because the 'c' engine does not support regex separators (separators > 1 char and different from '\\s+' are interpreted as regex); you can avoid this warning by specifying engine='python'.\n",
      "  metadata = pd.read_csv(p, sep=\" : \", header=None, index_col=0).T\n",
      "..\\base.py:47: ParserWarning: Falling back to the 'python' engine because the 'c' engine does not support regex separators (separators > 1 char and different from '\\s+' are interpreted as regex); you can avoid this warning by specifying engine='python'.\n",
      "  metadata = pd.read_csv(p, sep=\" : \", header=None, index_col=0).T\n",
      "..\\base.py:47: ParserWarning: Falling back to the 'python' engine because the 'c' engine does not support regex separators (separators > 1 char and different from '\\s+' are interpreted as regex); you can avoid this warning by specifying engine='python'.\n",
      "  metadata = pd.read_csv(p, sep=\" : \", header=None, index_col=0).T\n",
      "..\\path_analysis.py:89: RuntimeWarning: invalid value encountered in double_scalars\n",
      "  straightness.append(straight_length / trajectory_displacement)\n",
      "<ipython-input-33-c2f1fa1fd205>:35: RuntimeWarning: Mean of empty slice\n",
      "  average_vis = np.nanmean(visible,axis=1)\n",
      "<ipython-input-33-c2f1fa1fd205>:37: RuntimeWarning: Mean of empty slice\n",
      "  average_invis = np.nanmean(invisible,axis=1)\n",
      "..\\path_analysis.py:89: RuntimeWarning: invalid value encountered in double_scalars\n",
      "  straightness.append(straight_length / trajectory_displacement)\n",
      "<ipython-input-33-c2f1fa1fd205>:35: RuntimeWarning: Mean of empty slice\n",
      "  average_vis = np.nanmean(visible,axis=1)\n",
      "<ipython-input-33-c2f1fa1fd205>:37: RuntimeWarning: Mean of empty slice\n",
      "  average_invis = np.nanmean(invisible,axis=1)\n",
      "..\\path_analysis.py:89: RuntimeWarning: invalid value encountered in double_scalars\n",
      "  straightness.append(straight_length / trajectory_displacement)\n",
      "<ipython-input-33-c2f1fa1fd205>:35: RuntimeWarning: Mean of empty slice\n",
      "  average_vis = np.nanmean(visible,axis=1)\n",
      "<ipython-input-33-c2f1fa1fd205>:37: RuntimeWarning: Mean of empty slice\n",
      "  average_invis = np.nanmean(invisible,axis=1)\n",
      "..\\path_analysis.py:89: RuntimeWarning: invalid value encountered in double_scalars\n",
      "  straightness.append(straight_length / trajectory_displacement)\n",
      "<ipython-input-33-c2f1fa1fd205>:35: RuntimeWarning: Mean of empty slice\n",
      "  average_vis = np.nanmean(visible,axis=1)\n",
      "<ipython-input-33-c2f1fa1fd205>:37: RuntimeWarning: Mean of empty slice\n",
      "  average_invis = np.nanmean(invisible,axis=1)\n",
      "..\\path_analysis.py:89: RuntimeWarning: invalid value encountered in double_scalars\n",
      "  straightness.append(straight_length / trajectory_displacement)\n",
      "<ipython-input-33-c2f1fa1fd205>:35: RuntimeWarning: Mean of empty slice\n",
      "  average_vis = np.nanmean(visible,axis=1)\n",
      "<ipython-input-33-c2f1fa1fd205>:37: RuntimeWarning: Mean of empty slice\n",
      "  average_invis = np.nanmean(invisible,axis=1)\n",
      "..\\path_analysis.py:89: RuntimeWarning: invalid value encountered in double_scalars\n",
      "  straightness.append(straight_length / trajectory_displacement)\n",
      "<ipython-input-33-c2f1fa1fd205>:35: RuntimeWarning: Mean of empty slice\n",
      "  average_vis = np.nanmean(visible,axis=1)\n",
      "<ipython-input-33-c2f1fa1fd205>:37: RuntimeWarning: Mean of empty slice\n",
      "  average_invis = np.nanmean(invisible,axis=1)\n",
      "..\\path_analysis.py:89: RuntimeWarning: invalid value encountered in double_scalars\n",
      "  straightness.append(straight_length / trajectory_displacement)\n",
      "<ipython-input-33-c2f1fa1fd205>:35: RuntimeWarning: Mean of empty slice\n",
      "  average_vis = np.nanmean(visible,axis=1)\n",
      "<ipython-input-33-c2f1fa1fd205>:37: RuntimeWarning: Mean of empty slice\n",
      "  average_invis = np.nanmean(invisible,axis=1)\n",
      "..\\path_analysis.py:89: RuntimeWarning: invalid value encountered in double_scalars\n",
      "  straightness.append(straight_length / trajectory_displacement)\n",
      "<ipython-input-33-c2f1fa1fd205>:35: RuntimeWarning: Mean of empty slice\n",
      "  average_vis = np.nanmean(visible,axis=1)\n",
      "<ipython-input-33-c2f1fa1fd205>:37: RuntimeWarning: Mean of empty slice\n",
      "  average_invis = np.nanmean(invisible,axis=1)\n",
      "..\\path_analysis.py:89: RuntimeWarning: invalid value encountered in double_scalars\n",
      "  straightness.append(straight_length / trajectory_displacement)\n",
      "<ipython-input-33-c2f1fa1fd205>:35: RuntimeWarning: Mean of empty slice\n",
      "  average_vis = np.nanmean(visible,axis=1)\n",
      "<ipython-input-33-c2f1fa1fd205>:37: RuntimeWarning: Mean of empty slice\n",
      "  average_invis = np.nanmean(invisible,axis=1)\n",
      "..\\path_analysis.py:89: RuntimeWarning: invalid value encountered in double_scalars\n",
      "  straightness.append(straight_length / trajectory_displacement)\n",
      "<ipython-input-33-c2f1fa1fd205>:35: RuntimeWarning: Mean of empty slice\n",
      "  average_vis = np.nanmean(visible,axis=1)\n",
      "<ipython-input-33-c2f1fa1fd205>:37: RuntimeWarning: Mean of empty slice\n",
      "  average_invis = np.nanmean(invisible,axis=1)\n",
      "..\\path_analysis.py:89: RuntimeWarning: invalid value encountered in double_scalars\n",
      "  straightness.append(straight_length / trajectory_displacement)\n",
      "<ipython-input-33-c2f1fa1fd205>:35: RuntimeWarning: Mean of empty slice\n",
      "  average_vis = np.nanmean(visible,axis=1)\n",
      "<ipython-input-33-c2f1fa1fd205>:37: RuntimeWarning: Mean of empty slice\n",
      "  average_invis = np.nanmean(invisible,axis=1)\n",
      "..\\path_analysis.py:89: RuntimeWarning: invalid value encountered in double_scalars\n",
      "  straightness.append(straight_length / trajectory_displacement)\n",
      "<ipython-input-33-c2f1fa1fd205>:35: RuntimeWarning: Mean of empty slice\n",
      "  average_vis = np.nanmean(visible,axis=1)\n",
      "<ipython-input-33-c2f1fa1fd205>:37: RuntimeWarning: Mean of empty slice\n",
      "  average_invis = np.nanmean(invisible,axis=1)\n",
      "..\\path_analysis.py:89: RuntimeWarning: invalid value encountered in double_scalars\n",
      "  straightness.append(straight_length / trajectory_displacement)\n",
      "<ipython-input-33-c2f1fa1fd205>:35: RuntimeWarning: Mean of empty slice\n",
      "  average_vis = np.nanmean(visible,axis=1)\n",
      "<ipython-input-33-c2f1fa1fd205>:37: RuntimeWarning: Mean of empty slice\n",
      "  average_invis = np.nanmean(invisible,axis=1)\n",
      "..\\path_analysis.py:89: RuntimeWarning: invalid value encountered in double_scalars\n",
      "  straightness.append(straight_length / trajectory_displacement)\n",
      "<ipython-input-33-c2f1fa1fd205>:35: RuntimeWarning: Mean of empty slice\n",
      "  average_vis = np.nanmean(visible,axis=1)\n",
      "<ipython-input-33-c2f1fa1fd205>:37: RuntimeWarning: Mean of empty slice\n",
      "  average_invis = np.nanmean(invisible,axis=1)\n",
      "..\\path_analysis.py:89: RuntimeWarning: invalid value encountered in double_scalars\n",
      "  straightness.append(straight_length / trajectory_displacement)\n",
      "<ipython-input-33-c2f1fa1fd205>:35: RuntimeWarning: Mean of empty slice\n",
      "  average_vis = np.nanmean(visible,axis=1)\n",
      "<ipython-input-33-c2f1fa1fd205>:37: RuntimeWarning: Mean of empty slice\n",
      "  average_invis = np.nanmean(invisible,axis=1)\n",
      "..\\path_analysis.py:89: RuntimeWarning: invalid value encountered in double_scalars\n",
      "  straightness.append(straight_length / trajectory_displacement)\n",
      "<ipython-input-33-c2f1fa1fd205>:35: RuntimeWarning: Mean of empty slice\n",
      "  average_vis = np.nanmean(visible,axis=1)\n",
      "<ipython-input-33-c2f1fa1fd205>:37: RuntimeWarning: Mean of empty slice\n",
      "  average_invis = np.nanmean(invisible,axis=1)\n",
      "..\\path_analysis.py:89: RuntimeWarning: invalid value encountered in double_scalars\n",
      "  straightness.append(straight_length / trajectory_displacement)\n",
      "<ipython-input-33-c2f1fa1fd205>:35: RuntimeWarning: Mean of empty slice\n",
      "  average_vis = np.nanmean(visible,axis=1)\n",
      "<ipython-input-33-c2f1fa1fd205>:37: RuntimeWarning: Mean of empty slice\n",
      "  average_invis = np.nanmean(invisible,axis=1)\n",
      "..\\path_analysis.py:89: RuntimeWarning: invalid value encountered in double_scalars\n",
      "  straightness.append(straight_length / trajectory_displacement)\n",
      "<ipython-input-33-c2f1fa1fd205>:35: RuntimeWarning: Mean of empty slice\n",
      "  average_vis = np.nanmean(visible,axis=1)\n",
      "<ipython-input-33-c2f1fa1fd205>:37: RuntimeWarning: Mean of empty slice\n",
      "  average_invis = np.nanmean(invisible,axis=1)\n",
      "..\\path_analysis.py:89: RuntimeWarning: invalid value encountered in double_scalars\n",
      "  straightness.append(straight_length / trajectory_displacement)\n",
      "<ipython-input-33-c2f1fa1fd205>:35: RuntimeWarning: Mean of empty slice\n",
      "  average_vis = np.nanmean(visible,axis=1)\n",
      "<ipython-input-33-c2f1fa1fd205>:37: RuntimeWarning: Mean of empty slice\n",
      "  average_invis = np.nanmean(invisible,axis=1)\n",
      "..\\path_analysis.py:89: RuntimeWarning: invalid value encountered in double_scalars\n",
      "  straightness.append(straight_length / trajectory_displacement)\n",
      "<ipython-input-33-c2f1fa1fd205>:35: RuntimeWarning: Mean of empty slice\n",
      "  average_vis = np.nanmean(visible,axis=1)\n",
      "<ipython-input-33-c2f1fa1fd205>:37: RuntimeWarning: Mean of empty slice\n",
      "  average_invis = np.nanmean(invisible,axis=1)\n",
      "..\\path_analysis.py:89: RuntimeWarning: invalid value encountered in double_scalars\n",
      "  straightness.append(straight_length / trajectory_displacement)\n",
      "<ipython-input-33-c2f1fa1fd205>:35: RuntimeWarning: Mean of empty slice\n",
      "  average_vis = np.nanmean(visible,axis=1)\n",
      "<ipython-input-33-c2f1fa1fd205>:37: RuntimeWarning: Mean of empty slice\n",
      "  average_invis = np.nanmean(invisible,axis=1)\n",
      "..\\path_analysis.py:89: RuntimeWarning: invalid value encountered in double_scalars\n",
      "  straightness.append(straight_length / trajectory_displacement)\n",
      "<ipython-input-33-c2f1fa1fd205>:35: RuntimeWarning: Mean of empty slice\n",
      "  average_vis = np.nanmean(visible,axis=1)\n",
      "<ipython-input-33-c2f1fa1fd205>:37: RuntimeWarning: Mean of empty slice\n",
      "  average_invis = np.nanmean(invisible,axis=1)\n",
      "..\\path_analysis.py:89: RuntimeWarning: invalid value encountered in double_scalars\n",
      "  straightness.append(straight_length / trajectory_displacement)\n",
      "<ipython-input-33-c2f1fa1fd205>:35: RuntimeWarning: Mean of empty slice\n",
      "  average_vis = np.nanmean(visible,axis=1)\n",
      "<ipython-input-33-c2f1fa1fd205>:37: RuntimeWarning: Mean of empty slice\n",
      "  average_invis = np.nanmean(invisible,axis=1)\n",
      "..\\path_analysis.py:89: RuntimeWarning: invalid value encountered in double_scalars\n",
      "  straightness.append(straight_length / trajectory_displacement)\n",
      "<ipython-input-33-c2f1fa1fd205>:35: RuntimeWarning: Mean of empty slice\n",
      "  average_vis = np.nanmean(visible,axis=1)\n",
      "<ipython-input-33-c2f1fa1fd205>:37: RuntimeWarning: Mean of empty slice\n",
      "  average_invis = np.nanmean(invisible,axis=1)\n",
      "..\\path_analysis.py:89: RuntimeWarning: invalid value encountered in double_scalars\n",
      "  straightness.append(straight_length / trajectory_displacement)\n",
      "<ipython-input-33-c2f1fa1fd205>:35: RuntimeWarning: Mean of empty slice\n",
      "  average_vis = np.nanmean(visible,axis=1)\n",
      "<ipython-input-33-c2f1fa1fd205>:37: RuntimeWarning: Mean of empty slice\n",
      "  average_invis = np.nanmean(invisible,axis=1)\n",
      "..\\path_analysis.py:89: RuntimeWarning: invalid value encountered in double_scalars\n",
      "  straightness.append(straight_length / trajectory_displacement)\n",
      "<ipython-input-33-c2f1fa1fd205>:35: RuntimeWarning: Mean of empty slice\n",
      "  average_vis = np.nanmean(visible,axis=1)\n",
      "<ipython-input-33-c2f1fa1fd205>:37: RuntimeWarning: Mean of empty slice\n",
      "  average_invis = np.nanmean(invisible,axis=1)\n",
      "..\\path_analysis.py:89: RuntimeWarning: invalid value encountered in double_scalars\n",
      "  straightness.append(straight_length / trajectory_displacement)\n",
      "<ipython-input-33-c2f1fa1fd205>:35: RuntimeWarning: Mean of empty slice\n",
      "  average_vis = np.nanmean(visible,axis=1)\n",
      "<ipython-input-33-c2f1fa1fd205>:37: RuntimeWarning: Mean of empty slice\n",
      "  average_invis = np.nanmean(invisible,axis=1)\n",
      "..\\path_analysis.py:89: RuntimeWarning: invalid value encountered in double_scalars\n",
      "  straightness.append(straight_length / trajectory_displacement)\n",
      "<ipython-input-33-c2f1fa1fd205>:35: RuntimeWarning: Mean of empty slice\n",
      "  average_vis = np.nanmean(visible,axis=1)\n",
      "<ipython-input-33-c2f1fa1fd205>:37: RuntimeWarning: Mean of empty slice\n",
      "  average_invis = np.nanmean(invisible,axis=1)\n",
      "..\\path_analysis.py:89: RuntimeWarning: invalid value encountered in double_scalars\n",
      "  straightness.append(straight_length / trajectory_displacement)\n",
      "<ipython-input-33-c2f1fa1fd205>:35: RuntimeWarning: Mean of empty slice\n",
      "  average_vis = np.nanmean(visible,axis=1)\n",
      "<ipython-input-33-c2f1fa1fd205>:37: RuntimeWarning: Mean of empty slice\n",
      "  average_invis = np.nanmean(invisible,axis=1)\n",
      "..\\path_analysis.py:89: RuntimeWarning: invalid value encountered in double_scalars\n",
      "  straightness.append(straight_length / trajectory_displacement)\n",
      "<ipython-input-33-c2f1fa1fd205>:35: RuntimeWarning: Mean of empty slice\n",
      "  average_vis = np.nanmean(visible,axis=1)\n",
      "<ipython-input-33-c2f1fa1fd205>:37: RuntimeWarning: Mean of empty slice\n",
      "  average_invis = np.nanmean(invisible,axis=1)\n",
      "..\\path_analysis.py:89: RuntimeWarning: invalid value encountered in double_scalars\n",
      "  straightness.append(straight_length / trajectory_displacement)\n",
      "<ipython-input-33-c2f1fa1fd205>:35: RuntimeWarning: Mean of empty slice\n",
      "  average_vis = np.nanmean(visible,axis=1)\n",
      "<ipython-input-33-c2f1fa1fd205>:37: RuntimeWarning: Mean of empty slice\n",
      "  average_invis = np.nanmean(invisible,axis=1)\n",
      "<ipython-input-33-c2f1fa1fd205>:35: RuntimeWarning: Mean of empty slice\n",
      "  average_vis = np.nanmean(visible,axis=1)\n",
      "<ipython-input-33-c2f1fa1fd205>:37: RuntimeWarning: Mean of empty slice\n",
      "  average_invis = np.nanmean(invisible,axis=1)\n",
      "<ipython-input-33-c2f1fa1fd205>:35: RuntimeWarning: Mean of empty slice\n",
      "  average_vis = np.nanmean(visible,axis=1)\n",
      "<ipython-input-33-c2f1fa1fd205>:37: RuntimeWarning: Mean of empty slice\n",
      "  average_invis = np.nanmean(invisible,axis=1)\n",
      "<ipython-input-33-c2f1fa1fd205>:35: RuntimeWarning: Mean of empty slice\n",
      "  average_vis = np.nanmean(visible,axis=1)\n",
      "<ipython-input-33-c2f1fa1fd205>:37: RuntimeWarning: Mean of empty slice\n",
      "  average_invis = np.nanmean(invisible,axis=1)\n",
      "..\\path_analysis.py:89: RuntimeWarning: invalid value encountered in double_scalars\n",
      "  straightness.append(straight_length / trajectory_displacement)\n",
      "<ipython-input-33-c2f1fa1fd205>:35: RuntimeWarning: Mean of empty slice\n",
      "  average_vis = np.nanmean(visible,axis=1)\n",
      "<ipython-input-33-c2f1fa1fd205>:37: RuntimeWarning: Mean of empty slice\n",
      "  average_invis = np.nanmean(invisible,axis=1)\n",
      "..\\path_analysis.py:89: RuntimeWarning: invalid value encountered in double_scalars\n",
      "  straightness.append(straight_length / trajectory_displacement)\n",
      "<ipython-input-33-c2f1fa1fd205>:35: RuntimeWarning: Mean of empty slice\n",
      "  average_vis = np.nanmean(visible,axis=1)\n",
      "<ipython-input-33-c2f1fa1fd205>:37: RuntimeWarning: Mean of empty slice\n",
      "  average_invis = np.nanmean(invisible,axis=1)\n",
      "<ipython-input-33-c2f1fa1fd205>:35: RuntimeWarning: Mean of empty slice\n",
      "  average_vis = np.nanmean(visible,axis=1)\n",
      "<ipython-input-33-c2f1fa1fd205>:37: RuntimeWarning: Mean of empty slice\n",
      "  average_invis = np.nanmean(invisible,axis=1)\n",
      "..\\path_analysis.py:89: RuntimeWarning: invalid value encountered in double_scalars\n",
      "  straightness.append(straight_length / trajectory_displacement)\n",
      "<ipython-input-33-c2f1fa1fd205>:35: RuntimeWarning: Mean of empty slice\n",
      "  average_vis = np.nanmean(visible,axis=1)\n",
      "<ipython-input-33-c2f1fa1fd205>:37: RuntimeWarning: Mean of empty slice\n",
      "  average_invis = np.nanmean(invisible,axis=1)\n",
      "..\\path_analysis.py:89: RuntimeWarning: invalid value encountered in double_scalars\n",
      "  straightness.append(straight_length / trajectory_displacement)\n",
      "<ipython-input-33-c2f1fa1fd205>:35: RuntimeWarning: Mean of empty slice\n",
      "  average_vis = np.nanmean(visible,axis=1)\n",
      "<ipython-input-33-c2f1fa1fd205>:37: RuntimeWarning: Mean of empty slice\n",
      "  average_invis = np.nanmean(invisible,axis=1)\n",
      "..\\path_analysis.py:89: RuntimeWarning: invalid value encountered in double_scalars\n",
      "  straightness.append(straight_length / trajectory_displacement)\n",
      "<ipython-input-33-c2f1fa1fd205>:35: RuntimeWarning: Mean of empty slice\n",
      "  average_vis = np.nanmean(visible,axis=1)\n",
      "<ipython-input-33-c2f1fa1fd205>:37: RuntimeWarning: Mean of empty slice\n",
      "  average_invis = np.nanmean(invisible,axis=1)\n",
      "..\\path_analysis.py:89: RuntimeWarning: invalid value encountered in double_scalars\n",
      "  straightness.append(straight_length / trajectory_displacement)\n",
      "<ipython-input-33-c2f1fa1fd205>:35: RuntimeWarning: Mean of empty slice\n",
      "  average_vis = np.nanmean(visible,axis=1)\n",
      "<ipython-input-33-c2f1fa1fd205>:37: RuntimeWarning: Mean of empty slice\n",
      "  average_invis = np.nanmean(invisible,axis=1)\n",
      "..\\path_analysis.py:89: RuntimeWarning: invalid value encountered in double_scalars\n",
      "  straightness.append(straight_length / trajectory_displacement)\n",
      "<ipython-input-33-c2f1fa1fd205>:35: RuntimeWarning: Mean of empty slice\n",
      "  average_vis = np.nanmean(visible,axis=1)\n",
      "<ipython-input-33-c2f1fa1fd205>:37: RuntimeWarning: Mean of empty slice\n",
      "  average_invis = np.nanmean(invisible,axis=1)\n",
      "..\\path_analysis.py:89: RuntimeWarning: invalid value encountered in double_scalars\n",
      "  straightness.append(straight_length / trajectory_displacement)\n",
      "<ipython-input-33-c2f1fa1fd205>:35: RuntimeWarning: Mean of empty slice\n",
      "  average_vis = np.nanmean(visible,axis=1)\n",
      "<ipython-input-33-c2f1fa1fd205>:37: RuntimeWarning: Mean of empty slice\n",
      "  average_invis = np.nanmean(invisible,axis=1)\n",
      "..\\path_analysis.py:89: RuntimeWarning: invalid value encountered in double_scalars\n",
      "  straightness.append(straight_length / trajectory_displacement)\n",
      "<ipython-input-33-c2f1fa1fd205>:35: RuntimeWarning: Mean of empty slice\n",
      "  average_vis = np.nanmean(visible,axis=1)\n",
      "<ipython-input-33-c2f1fa1fd205>:37: RuntimeWarning: Mean of empty slice\n",
      "  average_invis = np.nanmean(invisible,axis=1)\n"
     ]
    },
    {
     "data": {
      "image/png": "[encoded data removed]",
      "text/plain": [
       "<Figure size 432x288 with 1 Axes>"
      ]
     },
     "metadata": {
      "needs_background": "light"
     },
     "output_type": "display_data"
    }
   ],
   "source": [
    "# plot_safe_per_animal (animal =\"FS07\",save= \"FS07_training\")\n",
    "# plot_safe_per_animal (animal =\"FS10/Training/\",save= \"FS10_training\")\n",
    "# plot_safe_per_animal (animal =\"FS09/Training/\",save= \"FS09_training\")"
   ]
  },
  {
   "cell_type": "markdown",
   "metadata": {},
   "source": [
    "# Petrubations : DONE ALL "
   ]
  },
  {
   "cell_type": "code",
   "execution_count": null,
   "metadata": {},
   "outputs": [],
   "source": [
    "# plot_safe_per_animal (animal =\"FS11/Vestibular/\",save= \"FS11_vestibular\")\n",
    "# plot_safe_per_animal (animal =\"FS10/Vestibular/\",save= \"FS10_vestibular\") #- gives error - for trial list \n",
    "# plot_safe_per_animal (animal =\"FS09/Vestibular/\",save= \"FS09_vestibular\")\n",
    "# plot_safe_per_animal (animal =\"FS08/Vestibular/\",save= \"FS08_vestibular\")"
   ]
  },
  {
   "cell_type": "code",
   "execution_count": 30,
   "metadata": {
    "collapsed": true,
    "jupyter": {
     "outputs_hidden": true
    }
   },
   "outputs": [
    {
     "name": "stdout",
     "output_type": "stream",
     "text": [
      "5\n"
     ]
    },
    {
     "name": "stderr",
     "output_type": "stream",
     "text": [
      "..\\base.py:47: ParserWarning: Falling back to the 'python' engine because the 'c' engine does not support regex separators (separators > 1 char and different from '\\s+' are interpreted as regex); you can avoid this warning by specifying engine='python'.\n",
      "  metadata = pd.read_csv(p, sep=\" : \", header=None, index_col=0).T\n",
      "..\\base.py:47: ParserWarning: Falling back to the 'python' engine because the 'c' engine does not support regex separators (separators > 1 char and different from '\\s+' are interpreted as regex); you can avoid this warning by specifying engine='python'.\n",
      "  metadata = pd.read_csv(p, sep=\" : \", header=None, index_col=0).T\n",
      "..\\base.py:47: ParserWarning: Falling back to the 'python' engine because the 'c' engine does not support regex separators (separators > 1 char and different from '\\s+' are interpreted as regex); you can avoid this warning by specifying engine='python'.\n",
      "  metadata = pd.read_csv(p, sep=\" : \", header=None, index_col=0).T\n",
      "..\\base.py:47: ParserWarning: Falling back to the 'python' engine because the 'c' engine does not support regex separators (separators > 1 char and different from '\\s+' are interpreted as regex); you can avoid this warning by specifying engine='python'.\n",
      "  metadata = pd.read_csv(p, sep=\" : \", header=None, index_col=0).T\n",
      "..\\base.py:47: ParserWarning: Falling back to the 'python' engine because the 'c' engine does not support regex separators (separators > 1 char and different from '\\s+' are interpreted as regex); you can avoid this warning by specifying engine='python'.\n",
      "  metadata = pd.read_csv(p, sep=\" : \", header=None, index_col=0).T\n",
      "..\\path_analysis.py:89: RuntimeWarning: invalid value encountered in double_scalars\n",
      "  straightness.append(straight_length / trajectory_displacement)\n",
      "<ipython-input-28-3df4bbb6911d>:35: RuntimeWarning: Mean of empty slice\n",
      "  average_vis = np.nanmean(visible,axis=1)\n",
      "<ipython-input-28-3df4bbb6911d>:37: RuntimeWarning: Mean of empty slice\n",
      "  average_invis = np.nanmean(invisible,axis=1)\n",
      "..\\path_analysis.py:89: RuntimeWarning: invalid value encountered in double_scalars\n",
      "  straightness.append(straight_length / trajectory_displacement)\n",
      "<ipython-input-28-3df4bbb6911d>:35: RuntimeWarning: Mean of empty slice\n",
      "  average_vis = np.nanmean(visible,axis=1)\n",
      "<ipython-input-28-3df4bbb6911d>:37: RuntimeWarning: Mean of empty slice\n",
      "  average_invis = np.nanmean(invisible,axis=1)\n",
      "..\\path_analysis.py:89: RuntimeWarning: invalid value encountered in double_scalars\n",
      "  straightness.append(straight_length / trajectory_displacement)\n",
      "<ipython-input-28-3df4bbb6911d>:35: RuntimeWarning: Mean of empty slice\n",
      "  average_vis = np.nanmean(visible,axis=1)\n",
      "<ipython-input-28-3df4bbb6911d>:37: RuntimeWarning: Mean of empty slice\n",
      "  average_invis = np.nanmean(invisible,axis=1)\n",
      "..\\path_analysis.py:89: RuntimeWarning: invalid value encountered in double_scalars\n",
      "  straightness.append(straight_length / trajectory_displacement)\n",
      "<ipython-input-28-3df4bbb6911d>:35: RuntimeWarning: Mean of empty slice\n",
      "  average_vis = np.nanmean(visible,axis=1)\n",
      "<ipython-input-28-3df4bbb6911d>:37: RuntimeWarning: Mean of empty slice\n",
      "  average_invis = np.nanmean(invisible,axis=1)\n",
      "<ipython-input-28-3df4bbb6911d>:35: RuntimeWarning: Mean of empty slice\n",
      "  average_vis = np.nanmean(visible,axis=1)\n",
      "<ipython-input-28-3df4bbb6911d>:37: RuntimeWarning: Mean of empty slice\n",
      "  average_invis = np.nanmean(invisible,axis=1)\n"
     ]
    },
    {
     "name": "stdout",
     "output_type": "stream",
     "text": [
      "3\n"
     ]
    },
    {
     "name": "stderr",
     "output_type": "stream",
     "text": [
      "..\\base.py:47: ParserWarning: Falling back to the 'python' engine because the 'c' engine does not support regex separators (separators > 1 char and different from '\\s+' are interpreted as regex); you can avoid this warning by specifying engine='python'.\n",
      "  metadata = pd.read_csv(p, sep=\" : \", header=None, index_col=0).T\n",
      "..\\base.py:47: ParserWarning: Falling back to the 'python' engine because the 'c' engine does not support regex separators (separators > 1 char and different from '\\s+' are interpreted as regex); you can avoid this warning by specifying engine='python'.\n",
      "  metadata = pd.read_csv(p, sep=\" : \", header=None, index_col=0).T\n",
      "..\\base.py:47: ParserWarning: Falling back to the 'python' engine because the 'c' engine does not support regex separators (separators > 1 char and different from '\\s+' are interpreted as regex); you can avoid this warning by specifying engine='python'.\n",
      "  metadata = pd.read_csv(p, sep=\" : \", header=None, index_col=0).T\n",
      "..\\path_analysis.py:89: RuntimeWarning: invalid value encountered in double_scalars\n",
      "  straightness.append(straight_length / trajectory_displacement)\n",
      "<ipython-input-28-3df4bbb6911d>:35: RuntimeWarning: Mean of empty slice\n",
      "  average_vis = np.nanmean(visible,axis=1)\n",
      "<ipython-input-28-3df4bbb6911d>:37: RuntimeWarning: Mean of empty slice\n",
      "  average_invis = np.nanmean(invisible,axis=1)\n",
      "..\\path_analysis.py:89: RuntimeWarning: invalid value encountered in double_scalars\n",
      "  straightness.append(straight_length / trajectory_displacement)\n",
      "<ipython-input-28-3df4bbb6911d>:35: RuntimeWarning: Mean of empty slice\n",
      "  average_vis = np.nanmean(visible,axis=1)\n",
      "<ipython-input-28-3df4bbb6911d>:37: RuntimeWarning: Mean of empty slice\n",
      "  average_invis = np.nanmean(invisible,axis=1)\n",
      "..\\path_analysis.py:89: RuntimeWarning: invalid value encountered in double_scalars\n",
      "  straightness.append(straight_length / trajectory_displacement)\n",
      "<ipython-input-28-3df4bbb6911d>:35: RuntimeWarning: Mean of empty slice\n",
      "  average_vis = np.nanmean(visible,axis=1)\n",
      "<ipython-input-28-3df4bbb6911d>:37: RuntimeWarning: Mean of empty slice\n",
      "  average_invis = np.nanmean(invisible,axis=1)\n"
     ]
    },
    {
     "data": {
      "image/png": "[encoded data removed]",
      "text/plain": [
       "<Figure size 432x288 with 1 Axes>"
      ]
     },
     "metadata": {
      "needs_background": "light"
     },
     "output_type": "display_data"
    }
   ],
   "source": [
    "# plot_safe_per_animal (animal =\"FS11/Visual/\",save= \"FS11_visual\") #last one had metadata but decided to cut it as it was not stopped porperly\n",
    "# plot_safe_per_animal (animal =\"FS10/Visual/\",save= \"FS10_visual\")\n",
    "# plot_safe_per_animal (animal =\"FS09/Visual/\",save= \"FS09_visual\")\n",
    "# plot_safe_per_animal (animal =\"FS08/Visual/\",save= \"FS08_visual\")"
   ]
  },
  {
   "cell_type": "markdown",
   "metadata": {},
   "source": [
    "## Current problem is that trials can be very short so need to assign a different lenght for time window in each case. - Solved with trial sizes "
   ]
  },
  {
   "cell_type": "markdown",
   "metadata": {},
   "source": [
    "## Now Bootstrapping - DONE - thanks JIN! - not sure if it pick random trajectories or not"
   ]
  },
  {
   "cell_type": "code",
   "execution_count": 65,
   "metadata": {},
   "outputs": [],
   "source": [
    "bootstrap_sliding_window=path_analysis.bootstrap(FS11.trial_list[0][0], num_sampling=1000, time_window=3, straightness_type = 'sliding')"
   ]
  },
  {
   "cell_type": "code",
   "execution_count": 66,
   "metadata": {},
   "outputs": [
    {
     "data": {
      "text/plain": [
       "array([0.54639544, 0.5482668 , 0.55253051, 0.55475175, 0.56060232,\n",
       "       0.56741141, 0.57250009, 0.57560113, 0.57560113, 0.58539554,\n",
       "       0.58539554, 0.5879815 , 0.5879815 , 0.59556752, 0.6075322 ,\n",
       "       0.61159208, 0.61159208, 0.61159208, 0.62979993, 0.65235188,\n",
       "       0.65988628, 0.662756  , 0.67543559, 0.68860738, 0.700065  ,\n",
       "       0.700065  , 0.71346358, 0.71346358, 0.7462101 , 0.75831758,\n",
       "       0.77232968, 0.77232968, 0.77232968, 0.77232968, 0.77232968,\n",
       "       0.82644013, 0.83264222, 0.83264222, 0.86081832, 0.87595726,\n",
       "       0.87595726, 0.87595726, 0.87595726, 0.91284516, 0.93401777,\n",
       "       0.93430763, 0.93430763, 0.93430763, 0.94079716, 0.94064926,\n",
       "       0.94103149, 0.94254869, 0.9427124 , 0.94232089, 0.94225819,\n",
       "       0.94261001, 0.94286134, 0.94445272, 0.94542639, 0.94676684,\n",
       "       0.94828009, 0.94851499, 0.94904664, 0.95021345, 0.9501484 ,\n",
       "       0.9512624 , 0.95147937, 0.95126755, 0.95091907, 0.95065053,\n",
       "       0.95198832, 0.95258925, 0.95271922, 0.95277493, 0.95245451,\n",
       "       0.95221054, 0.95216844, 0.95479397, 0.95862766, 0.96381322,\n",
       "       0.96404909, 0.96364295, 0.96301617, 0.96662903, 0.96719738,\n",
       "       0.97222484, 0.97268214, 0.97217282, 0.9721081 , 0.9712656 ,\n",
       "       0.97100699, 0.97280543, 0.97213517, 0.97169239, 0.97060601,\n",
       "       0.96991797, 0.96957018, 0.96942193, 0.96937117, 0.96780543,\n",
       "       0.96689784, 0.96767581, 0.96666226, 0.96662096, 0.96950689,\n",
       "       0.96893359, 0.96867474, 0.96868489, 0.9684843 , 0.968071  ,\n",
       "       0.96794735, 0.96643311, 0.9647014 , 0.96376191, 0.96381122,\n",
       "       0.96407418, 0.96405183, 0.96453   , 0.96365514, 0.96122287,\n",
       "       0.96002232, 0.95848278, 0.95680752, 0.95555234, 0.95384999,\n",
       "       0.9529417 , 0.95269509, 0.95698034, 0.95962215, 0.96351739,\n",
       "       0.96837662, 0.971613  , 0.97097535, 0.97414944, 0.97482308,\n",
       "       0.97956829, 0.97630483, 0.97231263, 0.97336821, 0.968099  ,\n",
       "       0.96307048, 0.97280098, 0.98590144, 0.9849953 , 0.97999453,\n",
       "       0.98145172, 0.98969574, 1.        ])"
      ]
     },
     "execution_count": 66,
     "metadata": {},
     "output_type": "execute_result"
    }
   ],
   "source": [
    "np.save(processed +'%s_shuffle_10000_straightness',bootstrap_sliding_window)\n",
    "bootstrap_sliding_window[0]"
   ]
  },
  {
   "cell_type": "code",
   "execution_count": 67,
   "metadata": {},
   "outputs": [
    {
     "data": {
      "text/plain": [
       "array([0.55215347, 0.5533236 , 0.55410008, 0.55529184, 0.55637313,\n",
       "       0.55717018, 0.55828291, 0.55951307, 0.56100279, 0.56211156,\n",
       "       0.56312804, 0.56466333, 0.56567347, 0.56666343, 0.56776742,\n",
       "       0.56839811, 0.56906337, 0.57015809, 0.57083227, 0.57140266,\n",
       "       0.57208179, 0.57258083, 0.57292292, 0.57327316, 0.57415958,\n",
       "       0.57473732, 0.57508532, 0.57565196, 0.57595624, 0.57672371,\n",
       "       0.57789259, 0.57843366, 0.57935772, 0.58010669, 0.58133147,\n",
       "       0.58229672, 0.58259045, 0.58338636, 0.58472746, 0.58569195,\n",
       "       0.58692045, 0.58774882, 0.58904521, 0.58993699, 0.59106078,\n",
       "       0.59156656, 0.59319682, 0.59435432, 0.59537737, 0.59653606,\n",
       "       0.59766433, 0.59893902, 0.59992151, 0.60146303, 0.60276987,\n",
       "       0.60308714, 0.60468525, 0.60688095, 0.60768825, 0.60907361,\n",
       "       0.61019129, 0.61156064, 0.61268412, 0.61465075, 0.61585474,\n",
       "       0.61737028, 0.61854614, 0.62019566, 0.62168874, 0.62371792,\n",
       "       0.6253574 , 0.62715283, 0.62900747, 0.63156112, 0.63303873,\n",
       "       0.63488345, 0.63693156, 0.63954833, 0.64180704, 0.64373268,\n",
       "       0.64578341, 0.64862574, 0.6509525 , 0.65353208, 0.65616022,\n",
       "       0.65776817, 0.66008741, 0.66239263, 0.66455406, 0.66690581,\n",
       "       0.66997108, 0.67263375, 0.67463003, 0.67756455, 0.68066449,\n",
       "       0.68357519, 0.68617567, 0.68906558, 0.69182905, 0.69406818,\n",
       "       0.69691104, 0.70145825, 0.7061361 , 0.70881563, 0.71115305,\n",
       "       0.71375199, 0.71733017, 0.71946489, 0.72167484, 0.72361854,\n",
       "       0.72596432, 0.72868597, 0.73064408, 0.73405465, 0.73613276,\n",
       "       0.73898406, 0.74261936, 0.74665805, 0.74994401, 0.7528559 ,\n",
       "       0.75636577, 0.7605026 , 0.76442014, 0.76804071, 0.7709085 ,\n",
       "       0.77687132, 0.7815048 , 0.78973867, 0.79414521, 0.80116927,\n",
       "       0.80804991, 0.81551565, 0.82075083, 0.82663999, 0.83256069,\n",
       "       0.83800376, 0.84347315, 0.84884166, 0.85550181, 0.86390441,\n",
       "       0.87699431, 0.88722718, 0.89715984, 0.90861053, 0.92052979,\n",
       "       0.93577978, 0.95664122, 1.        ])"
      ]
     },
     "execution_count": 67,
     "metadata": {},
     "output_type": "execute_result"
    }
   ],
   "source": [
    "average_boot = np.nanmean(bootstrap_sliding_window,axis=0)\n",
    "average_boot"
   ]
  },
  {
   "cell_type": "code",
   "execution_count": 68,
   "metadata": {},
   "outputs": [
    {
     "data": {
      "image/png": "[encoded data removed]",
      "text/plain": [
       "<Figure size 432x288 with 1 Axes>"
      ]
     },
     "metadata": {
      "needs_background": "light"
     },
     "output_type": "display_data"
    }
   ],
   "source": [
    "\n",
    "plt.plot(average_boot)\n",
    "plt.plot(average_vis,c='red')\n",
    "plt.plot(average_invis,c='yellow')\n",
    "plt.gca().invert_xaxis()"
   ]
  },
  {
   "cell_type": "code",
   "execution_count": null,
   "metadata": {},
   "outputs": [],
   "source": []
  }
 ],
 "metadata": {
  "kernelspec": {
   "display_name": "project",
   "language": "python",
   "name": "project"
  },
  "language_info": {
   "codemirror_mode": {
    "name": "ipython",
    "version": 3
   },
   "file_extension": ".py",
   "mimetype": "text/x-python",
   "name": "python",
   "nbconvert_exporter": "python",
   "pygments_lexer": "ipython3",
   "version": "3.8.2"
  }
 },
 "nbformat": 4,
 "nbformat_minor": 4
}

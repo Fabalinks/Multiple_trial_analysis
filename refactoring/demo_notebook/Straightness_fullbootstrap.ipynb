{
 "cells": [
  {
   "cell_type": "code",
   "execution_count": 78,
   "id": "6d759e21",
   "metadata": {},
   "outputs": [],
   "source": [
    "import numpy as np\n",
    "import sys\n",
    "import os\n",
    "sys.path.append('../')\n",
    "import base as base\n",
    "import path_analysis\n",
    "from path_analysis import straightness_over_time\n",
    "import matplotlib.pyplot as plt\n",
    "import pandas as pd\n",
    "from scipy.interpolate import interp1d"
   ]
  },
  {
   "cell_type": "code",
   "execution_count": 134,
   "id": "bd5341a4",
   "metadata": {},
   "outputs": [],
   "source": [
    "# Adding function for bootstrapping to test/modify - now same as one in path_analysis\n",
    "def bootstrap(trajectory,\n",
    "              time_window=2,\n",
    "              num_sampling=10,\n",
    "              sample_rate=100,\n",
    "              straightness_type='sliding'):\n",
    "    \n",
    "    print('BOOTSTRAPPING SAMPLES...')\n",
    "    ##trajectory = [time,x,y,z]\n",
    "    ## sample sham trajectory from entire session randomly\n",
    "    sham_straightness_list = []\n",
    "    shuffle_count = 0\n",
    "    \n",
    "    while shuffle_count < num_sampling:\n",
    "        random_index = np.random.randint(0, len(trajectory))\n",
    "        \n",
    "        # Take all the times following the random index\n",
    "        time = trajectory[random_index:, 0]\n",
    "        \n",
    "        # This outputs an array like [1, 2, 3, .... FINAL TIME PT after random idx]\n",
    "        time_cum = np.cumsum(time[1:] - time[:-1])       \n",
    "\n",
    "        if time_cum[-1] > time_window:\n",
    "            end_index = np.where(time_cum > time_window)[0][0]\n",
    "            shuffle_count += 1\n",
    "\n",
    "        else:\n",
    "            continue\n",
    "        sampled_trajectory = trajectory[random_index:random_index + end_index + 100]\n",
    "        \n",
    "        if straightness_type == 'sliding':\n",
    "            sham_straightness = straightness_over_time(\n",
    "                sampled_trajectory, time_window)[0]\n",
    "\n",
    "        elif straightness_type == 'fixed':\n",
    "            sham_straightness = straightness_moment_time(\n",
    "                sampled_trajectory, time_window)[0]\n",
    "\n",
    "        sham_straightness_list.append(sham_straightness)\n",
    "    return sham_straightness_list"
   ]
  },
  {
   "cell_type": "code",
   "execution_count": 5,
   "id": "1ed7c5b6",
   "metadata": {},
   "outputs": [],
   "source": [
    "# Data source\n",
    "root = '/mnt/c/Users/megla/OneDrive/Documents/TUM/RatAnalysis/Multiple_trial_analysis/Data/Raw/FS10/BPositions_FS10_20211006-154014'\n",
    "tag = '20211006-154014'"
   ]
  },
  {
   "cell_type": "code",
   "execution_count": 27,
   "id": "46660cf6",
   "metadata": {},
   "outputs": [],
   "source": [
    "pos_file = [os.path.join(root, f) for f in os.listdir(root) if 'position' in f][0]\n",
    "FS10_position = pd.read_csv(pos_file, sep=\" \", header=None).to_numpy()"
   ]
  },
  {
   "cell_type": "code",
   "execution_count": 97,
   "id": "ae03f407",
   "metadata": {},
   "outputs": [
    {
     "data": {
      "image/png": "[encoded data removed]",
      "text/plain": [
       "<Figure size 432x288 with 1 Axes>"
      ]
     },
     "metadata": {
      "needs_background": "light"
     },
     "output_type": "display_data"
    },
    {
     "name": "stdout",
     "output_type": "stream",
     "text": [
      "0.019999980926513672\n"
     ]
    }
   ],
   "source": [
    "pos_timeseries = FS10_position[:,0]\n",
    "time_diffs = np.diff(pos_timeseries)\n",
    "unique_steps, counts = np.unique(time_diffs, return_counts=True)\n",
    "\n",
    "plt.bar(np.arange(len(unique_steps)), height=counts)\n",
    "plt.show()\n",
    "\n",
    "print(unique_steps[np.argmax(counts)])"
   ]
  },
  {
   "cell_type": "code",
   "execution_count": 82,
   "id": "250a3ae6",
   "metadata": {},
   "outputs": [
    {
     "name": "stdout",
     "output_type": "stream",
     "text": [
      "1633527626.49\n"
     ]
    }
   ],
   "source": [
    "len(pos_timeseries)\n",
    "print(pos_timeseries[0])"
   ]
  },
  {
   "cell_type": "code",
   "execution_count": 128,
   "id": "6016cc5e",
   "metadata": {},
   "outputs": [],
   "source": [
    "time_step = unique_steps[np.argmax(counts)]\n",
    "even_spaced_time = np.arange(pos_timeseries[0], pos_timeseries[-1], time_step)\n",
    "\n",
    "pos_x = FS10_position[:,1]\n",
    "pos_y = FS10_position[:,3]\n",
    "\n",
    "interp_func_x = interp1d(pos_timeseries, pos_x)\n",
    "interp_func_y = interp1d(pos_timeseries, pos_y)\n",
    "\n",
    "interp_x = interp_func_x(even_spaced_time)\n",
    "interp_y = interp_func_y(even_spaced_time)"
   ]
  },
  {
   "cell_type": "code",
   "execution_count": 129,
   "id": "9805f978",
   "metadata": {},
   "outputs": [
    {
     "data": {
      "image/png": "[encoded data removed]",
      "text/plain": [
       "<Figure size 432x288 with 1 Axes>"
      ]
     },
     "metadata": {
      "needs_background": "light"
     },
     "output_type": "display_data"
    }
   ],
   "source": [
    "t_test = 1000\n",
    "\n",
    "plt.plot(pos_timeseries[:t_test], pos_x[:t_test])\n",
    "plt.plot(even_spaced_time[:t_test], interp_x[:t_test])\n",
    "plt.show()"
   ]
  },
  {
   "cell_type": "code",
   "execution_count": 130,
   "id": "966c629d",
   "metadata": {},
   "outputs": [],
   "source": [
    "interp_full = np.concatenate((np.expand_dims(even_spaced_time, axis=0), \n",
    "                              np.expand_dims(interp_x, axis=0), \n",
    "                              np.expand_dims(interp_y, axis=0))).T"
   ]
  },
  {
   "cell_type": "code",
   "execution_count": 131,
   "id": "d74258df",
   "metadata": {},
   "outputs": [
    {
     "name": "stdout",
     "output_type": "stream",
     "text": [
      "BOOTSTRAPPING SAMPLES...\n"
     ]
    },
    {
     "name": "stderr",
     "output_type": "stream",
     "text": [
      "/mnt/c/Users/megla/OneDrive/Documents/TUM/RatAnalysis/Multiple_trial_analysis/refactoring/demo_notebook/../path_analysis.py:89: RuntimeWarning: invalid value encountered in double_scalars\n",
      "  straightness.append(straight_length / trajectory_displacement)\n"
     ]
    }
   ],
   "source": [
    "# PARAMS\n",
    "N_SAMPLES = 1000\n",
    "WIN_SIZE = 3\n",
    "STRAIGHT_TYPE = 'sliding'\n",
    "\n",
    "bootstrapped_segments = bootstrap(interp_full, time_window=WIN_SIZE, \n",
    "                                  num_sampling=N_SAMPLES, \n",
    "                                  straightness_type=STRAIGHT_TYPE)"
   ]
  },
  {
   "cell_type": "code",
   "execution_count": 132,
   "id": "a8ef42e7",
   "metadata": {},
   "outputs": [
    {
     "name": "stdout",
     "output_type": "stream",
     "text": [
      "(1000, 148)\n"
     ]
    }
   ],
   "source": [
    "bootstrap_arr = np.array(bootstrapped_segments)\n",
    "print(bootstrap_arr.shape)"
   ]
  },
  {
   "cell_type": "code",
   "execution_count": 133,
   "id": "2ac08754",
   "metadata": {},
   "outputs": [
    {
     "data": {
      "image/png": "[encoded data removed]",
      "text/plain": [
       "<Figure size 432x288 with 1 Axes>"
      ]
     },
     "metadata": {
      "needs_background": "light"
     },
     "output_type": "display_data"
    }
   ],
   "source": [
    "average_boot = np.nanmean(bootstrap_arr,axis=0)\n",
    "\n",
    "plt.plot(average_boot)\n",
    "plt.show()"
   ]
  }
 ],
 "metadata": {
  "kernelspec": {
   "display_name": "ratanalysis",
   "language": "python",
   "name": "ratanalysis"
  },
  "language_info": {
   "codemirror_mode": {
    "name": "ipython",
    "version": 3
   },
   "file_extension": ".py",
   "mimetype": "text/x-python",
   "name": "python",
   "nbconvert_exporter": "python",
   "pygments_lexer": "ipython3",
   "version": "3.9.7"
  }
 },
 "nbformat": 4,
 "nbformat_minor": 5
}

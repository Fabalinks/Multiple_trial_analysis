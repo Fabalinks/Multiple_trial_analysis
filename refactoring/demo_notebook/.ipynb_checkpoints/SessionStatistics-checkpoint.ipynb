{
 "cells": [
  {
   "cell_type": "code",
   "execution_count": 5,
   "metadata": {},
   "outputs": [],
   "source": [
    "import sys\n",
    "sys.path.append('../')\n",
    "import base\n",
    "import matplotlib.pyplot as plt\n",
    "import numpy as np"
   ]
  },
  {
   "cell_type": "markdown",
   "metadata": {},
   "source": [
    "Example of Single Session Data"
   ]
  },
  {
   "cell_type": "code",
   "execution_count": 7,
   "metadata": {},
   "outputs": [],
   "source": [
    "beacon_data, position_data = base.read_data('../../Data/Raw/', '20200206-125706')"
   ]
  },
  {
   "cell_type": "code",
   "execution_count": 9,
   "metadata": {},
   "outputs": [],
   "source": [
    "data = base.BeaconPosition('../../Data/Raw/', '20200206-125706')"
   ]
  },
  {
   "cell_type": "code",
   "execution_count": 15,
   "metadata": {},
   "outputs": [
    {
     "data": {
      "text/plain": [
       "{'avg_speed': 15.17153624826186,\n",
       " 'median_speed': 10.114459683899474,\n",
       " 'distance': 254.63314505628495}"
      ]
     },
     "execution_count": 15,
     "metadata": {},
     "output_type": "execute_result"
    }
   ],
   "source": [
    "data.statistics"
   ]
  },
  {
   "cell_type": "code",
   "execution_count": 5,
   "metadata": {},
   "outputs": [
    {
     "data": {
      "text/plain": [
       "Text(0.5, 1.0, 'Speed distribution')"
      ]
     },
     "execution_count": 5,
     "metadata": {},
     "output_type": "execute_result"
    },
    {
     "data": {
      "image/png": "[encoded data removed]",
      "text/plain": [
       "<Figure size 432x288 with 1 Axes>"
      ]
     },
     "metadata": {
      "needs_background": "light"
     },
     "output_type": "display_data"
    }
   ],
   "source": [
    "plt.hist(data.speed, bins = np.linspace(0, 50, 10))\n",
    "plt.xlabel('Speed (cm/min)')\n",
    "plt.ylabel('# of time bin')\n",
    "plt.title('Speed distribution')"
   ]
  },
  {
   "cell_type": "code",
   "execution_count": 6,
   "metadata": {},
   "outputs": [
    {
     "name": "stdout",
     "output_type": "stream",
     "text": [
      "total travel distance: 254.63314505628495 m\n"
     ]
    }
   ],
   "source": [
    "print(f'total travel distance: {data.travel_distance[-1]} m')"
   ]
  },
  {
   "cell_type": "markdown",
   "metadata": {},
   "source": [
    "Example of multiple sessions"
   ]
  },
  {
   "cell_type": "code",
   "execution_count": 10,
   "metadata": {},
   "outputs": [],
   "source": [
    "tags1 = ['20190923-174441', '20191001-112411', '20191002-115000', \\\n",
    "        '20191106-170809', '20191107-183857', '20191108-145125', \\\n",
    "       '20191118-161325', '20191127-122008']\n",
    "tags2 = ['20190923-171112', '20191001-115127', '20191002-111038',\\\n",
    "         '20191107-174215', '20191108-142321', '20191118-171209',\\\n",
    "         '20191127-132223']\n",
    "rat_fs1 = base.MultiDaysBeaconPosition('../../Data/Raw/', tags1, has_beacon = False)\n",
    "rat_fs2 = base.MultiDaysBeaconPosition('../../Data/Raw/', tags2, has_beacon = False)"
   ]
  },
  {
   "cell_type": "code",
   "execution_count": 3,
   "metadata": {},
   "outputs": [
    {
     "data": {
      "text/plain": [
       "{'avg_speed': 12.293938090780372,\n",
       " 'avg_distance': 145.23547337956376,\n",
       " 'median_speed': 8.46040608747937}"
      ]
     },
     "execution_count": 3,
     "metadata": {},
     "output_type": "execute_result"
    }
   ],
   "source": [
    "rat_fs1.multisession_statistics"
   ]
  },
  {
   "cell_type": "code",
   "execution_count": 4,
   "metadata": {},
   "outputs": [
    {
     "data": {
      "text/plain": [
       "{'avg_speed': 13.499226042363174,\n",
       " 'avg_distance': 147.1895148289269,\n",
       " 'median_speed': 8.941953223642383}"
      ]
     },
     "execution_count": 4,
     "metadata": {},
     "output_type": "execute_result"
    }
   ],
   "source": [
    "rat_fs2.multisession_statistics"
   ]
  },
  {
   "cell_type": "code",
   "execution_count": 5,
   "metadata": {},
   "outputs": [
    {
     "data": {
      "text/plain": [
       "{'avg_speeds': [5.92239075065854,\n",
       "  10.15689474064652,\n",
       "  15.058005670015447,\n",
       "  11.671315646862327,\n",
       "  14.095403315837126,\n",
       "  13.254176469241964,\n",
       "  13.376908915168555,\n",
       "  14.816409217812511],\n",
       " 'distances': [78.75586916233748,\n",
       "  96.47829055019132,\n",
       "  94.2600982135423,\n",
       "  62.21466815795907,\n",
       "  96.97175071185369,\n",
       "  87.98249059289309,\n",
       "  340.34934255558613,\n",
       "  304.87127709214684],\n",
       " 'median_speeds': [0.0,\n",
       "  3.5147070149366098,\n",
       "  10.722089261923445,\n",
       "  7.783746374554952,\n",
       "  10.412238990715169,\n",
       "  9.731856926152563,\n",
       "  9.321297986711242,\n",
       "  10.14549155743059]}"
      ]
     },
     "execution_count": 5,
     "metadata": {},
     "output_type": "execute_result"
    }
   ],
   "source": [
    "rat_fs1.individual_statistics"
   ]
  },
  {
   "cell_type": "code",
   "execution_count": 6,
   "metadata": {},
   "outputs": [
    {
     "data": {
      "text/plain": [
       "{'avg_speeds': [10.995735225716375,\n",
       "  11.443562547843742,\n",
       "  16.812182614078257,\n",
       "  14.44591380615267,\n",
       "  13.935052598672419,\n",
       "  13.727631515840534,\n",
       "  13.134503988238235],\n",
       " 'distances': [83.73488039605196,\n",
       "  88.38362637628228,\n",
       "  103.04385067803669,\n",
       "  87.29197741531425,\n",
       "  82.89678661183598,\n",
       "  339.9635395961344,\n",
       "  245.01194272883268],\n",
       " 'median_speeds': [5.295794036967642,\n",
       "  6.5234924544857815,\n",
       "  12.14459041534701,\n",
       "  10.173050124477575,\n",
       "  9.374183824985598,\n",
       "  9.115359033428213,\n",
       "  8.72639659301071]}"
      ]
     },
     "execution_count": 6,
     "metadata": {},
     "output_type": "execute_result"
    }
   ],
   "source": [
    "rat_fs2.individual_statistics"
   ]
  },
  {
   "cell_type": "code",
   "execution_count": 12,
   "metadata": {},
   "outputs": [
    {
     "data": {
      "text/plain": [
       "Text(0, 0.5, 'm')"
      ]
     },
     "execution_count": 12,
     "metadata": {},
     "output_type": "execute_result"
    },
    {
     "data": {
      "image/png": "[encoded data removed]",
      "text/plain": [
       "<Figure size 432x288 with 1 Axes>"
      ]
     },
     "metadata": {
      "needs_background": "light"
     },
     "output_type": "display_data"
    }
   ],
   "source": [
    "plt.plot(rat_fs1.distance_per_session, '-o', label = 'fs1')\n",
    "plt.plot(rat_fs2.distance_per_session, '-o', label = 'fs2')\n",
    "plt.xlabel('Session No.')\n",
    "plt.ylabel('m')"
   ]
  },
  {
   "cell_type": "code",
   "execution_count": null,
   "metadata": {},
   "outputs": [],
   "source": []
  }
 ],
 "metadata": {
  "kernelspec": {
   "display_name": "Python 3",
   "language": "python",
   "name": "python3"
  }
 },
 "nbformat": 4,
 "nbformat_minor": 2
}
